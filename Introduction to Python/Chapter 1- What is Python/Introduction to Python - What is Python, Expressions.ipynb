{
 "cells": [
  {
   "cell_type": "markdown",
   "metadata": {},
   "source": [
    "<H1>Introduction to Python</H1>"
   ]
  },
  {
   "cell_type": "markdown",
   "metadata": {},
   "source": [
    "## 1. Getting to understand  your Jupyter Notebook"
   ]
  },
  {
   "cell_type": "markdown",
   "metadata": {},
   "source": [
    "In this case, “notebook” or “notebook documents” denote documents that contain both code and rich text elements, such as figures, links, equations, … Because of the mix of code and text elements, these documents are the ideal place to bring together an analysis description and its results as well as they can be executed perform the data analysis in real time.\n",
    "These documents are produced by the Jupyter Notebook App\n",
    "\n",
    "The Jupyter Notebook App allows you to edit and run your notebooks via a web browser which can be executed on a PC while offline and can be install on a remote server allowing you to access the app through the internet. \n",
    "\n",
    "You can also convert your Jupyter notebook to html using nbconvert or make your notebook into a slideshow"
   ]
  },
  {
   "cell_type": "markdown",
   "metadata": {},
   "source": [
    "### Understanding the kind of cells in Jupyter"
   ]
  },
  {
   "cell_type": "markdown",
   "metadata": {},
   "source": [
    "There are essentially four kinds of cells in your Jupyter notebook: Code Cells, Markdown Cells, Raw Cells, and Header Cells, though there are six levels of Header Cells.  "
   ]
  },
  {
   "cell_type": "markdown",
   "metadata": {},
   "source": [
    "### i. Code Cells"
   ]
  },
  {
   "cell_type": "markdown",
   "metadata": {},
   "source": [
    "By default, Jupyter Notebooks' Code Cells will execute Python. Jupyter Notebooks can generally also support JavaScript, Python, HTML, and Bash commands.\n",
    "\n",
    "Code cells have both an input and an output component. You can view these components in three different ways. Unless you specific otherwise, your Code Cells will always be configured in such a way that both the input (In) and output (Out) components appear as horizontal rows and with the input above the output. Click the run button on the cell below to view this layout:"
   ]
  },
  {
   "cell_type": "code",
   "execution_count": 2,
   "metadata": {},
   "outputs": [
    {
     "data": {
      "text/plain": [
       "2"
      ]
     },
     "execution_count": 2,
     "metadata": {},
     "output_type": "execute_result"
    }
   ],
   "source": [
    "1 + 1"
   ]
  },
  {
   "cell_type": "markdown",
   "metadata": {},
   "source": [
    "### ii. Markdown Cells"
   ]
  },
  {
   "cell_type": "markdown",
   "metadata": {},
   "source": [
    "Jupyter notebook also recognizes LaTeX that is written in markdown cells and renders the symbols using the MathJax Javascript library.\n",
    "\n",
    "LaTeX is a typesetting language for producing scientific documents\n",
    "\n",
    "MathJax Documentation: https://www.mathjax.org/\n",
    "More on LaTeX: https://www.latex-project.org/"
   ]
  },
  {
   "cell_type": "markdown",
   "metadata": {},
   "source": [
    "In Jupyter Notebooks, Markdown Cells are the simplest and most effecient way to write and format text. \n",
    "\n",
    "More Information on Markdown: https://medium.com/ibm-data-science-experience/markdown-for-jupyter-notebooks-cheatsheet-386c05aeebed\n",
    "\n",
    "Jupyter notebook also recognizes LaTeX that is written in markdown cells and renders the symbols using the MathJax Javascript library.\n",
    "\n",
    "LaTeX is a typesetting language for producing scientific documents. Click run on the next cell to see an example of this\n",
    "\n",
    "MathJax Documentation: https://www.mathjax.org/ More on LaTeX: https://www.latex-project.org/"
   ]
  },
  {
   "cell_type": "markdown",
   "metadata": {},
   "source": [
    "An example of an equation written in LaTeX:\n",
    "\n",
    "$F(k) = \\int_{-\\infty}^{\\infty} f(x) e^{2\\pi i k} dx$\n"
   ]
  },
  {
   "cell_type": "markdown",
   "metadata": {},
   "source": [
    "### iii. Raw Cells"
   ]
  },
  {
   "cell_type": "markdown",
   "metadata": {},
   "source": [
    "Raw Cells, unlike all other Jupyter Notebook cells, have no input-output distinction. This means that Raw Cells cannot be rendered into anything other than what they already are. If you click the run button in your tool bar with a Raw Cell selected, the cell will remain exactly as is and your Jupyter Notebook will automatically select the cell directly below it. Raw cells have no style options, just the same monospace font that you use in all other unrendered Notebook cells. You cannot bold, italicize, or enlarge any text or characters in a Raw Cell. \n",
    "\n",
    "Because they have no rendered form, Raw Cells are mainly used to create examples. If you save and close your Notebook and then reopen it, all of the Code, Markdown, and Header Cells will automatically render in whatever form you left them when you first closed the document. This means  that if you wanted to preserve the unrendered version of a cell, say if you were writing a computer science paper and needed code examples, or if you were writing [documentation on how to use Markdown] [writing markdown] and needed to demonstrate what input would yield which output, then you might want to use a Raw Cell to make sure your examples stayed in their most useful form. \n",
    "\n",
    "[writing markdown]: #4.-Using-Markdown-Cells-for-Writing \"Using Markdown Cells for Writing\""
   ]
  },
  {
   "cell_type": "markdown",
   "metadata": {},
   "source": [
    "### iv. Header Cells"
   ]
  },
  {
   "cell_type": "markdown",
   "metadata": {},
   "source": [
    "While it is possible to organize your document using Markdown headers, Header Cells provide a more deeply structural organization for your Notebook and thus there are several advantages to using them."
   ]
  },
  {
   "cell_type": "code",
   "execution_count": null,
   "metadata": {},
   "outputs": [],
   "source": []
  },
  {
   "cell_type": "markdown",
   "metadata": {},
   "source": [
    "## 2. What is Python"
   ]
  },
  {
   "cell_type": "markdown",
   "metadata": {},
   "source": [
    "Python is a general purpose programming language that has been under development for over 25 years.\n",
    "\n",
    "__Python is Simple__\n",
    "Python is a simple and minimalistic language. Well written code almost resembles reading English. This allows you to focus more on developing the solution to a problem as opposed to the syntax itself. This makes Python easier to learn. Since you never have to manage lower levels details such as managing the memory used by your program Python is referred to as High-level language\n",
    "\n",
    "Python has four main coding styles adding to its flexibility as a programming language; i.) functional, ii.) imperative, iii.) object-oriented and iv.) procedural\n",
    "\n",
    "Ok, so lets break that down a bit further\n",
    "\n",
    "**Functional**\n",
    "So while python it not a functional language it has some functional features.\n",
    "\n",
    "These features include; first class functions and list comprehension to name a few. Don't worry too much about these features as some will be explained in greater detail at a later stage.\n",
    "\n",
    "Functional programming is called functional programming because its fundamental operation is the application of functions to arguments. This involves thinking about software construction by creating functions. For the time being you do not necessarily need to know more about this. However, if you are keen to build a stronger understanding of this here are a few sources for further reading:\n",
    "\n",
    "* What is functional programming? Tutorial with Example https://www.guru99.com/functional-programming-tutorial.html#2\n",
    "* An Introduction to the basic principles of Functional programming - https://www.freecodecamp.org/news/an-introduction-to-the-basic-principles-of-functional-programming-a2c2a15c84/\n",
    "* Why isn't Python very good for functional programming - https://stackoverflow.com/questions/1017621/why-isnt-python-very-good-for-functional-programming\n",
    "\n",
    "**Imperative**\n",
    "\n",
    "Imperative programming allows for the execution of commands in a step by step manner, similar to a series of verbal commands. Using this programming paradigm allows for quickly written and very simple elegant code. To put it in another way, an imperative languages allows the programmer to use a sequence of statements to determine how to reach a certain goal.\n",
    "\n",
    "**Object Oriented**\n",
    "\n",
    "This refers to concept of treating everything as an object (favoring code resue) that can only be manipulated through prescribed methods.\n",
    "\n",
    "As this concept can be confusing to beginners it will be dealt with at a later stage\n",
    "\n",
    "**Procedural**\n",
    "This refers to tasks being treated as step by step iterations where common tasks are placed as functions that are called as needed\n",
    "\n",
    "\n",
    "**Python Reference**:\n",
    "\n",
    "\n",
    "\n",
    "* https://docs.python.org/3.7/reference/\n",
    "\n",
    "**NOTE:** An important part of learning programming is learning how to research and problem solve. Once you master these skills it becomes easier to develop custom solutions to problems you may encounter. This also helps you develop a better understanding of not just Python but programming logic, making it easier for you to pick up other languages at a later stage. For this reason in a lot of the examples in notebooks when we answer questions we try and break down the solutions to help show you the logic you may need to follow to solve a problem. It is possible that you may spot more efficient ways to solve the example problems. This is great and is greatly encouraged.\n",
    "\n",
    "If you feel stuck, don't give up, problem solving requires you to sometimes feel stuck, research solutions and ask questions.\n"
   ]
  },
  {
   "cell_type": "code",
   "execution_count": null,
   "metadata": {},
   "outputs": [],
   "source": []
  },
  {
   "cell_type": "markdown",
   "metadata": {},
   "source": [
    "## 3. Statements"
   ]
  },
  {
   "cell_type": "markdown",
   "metadata": {},
   "source": [
    "Programs in Python consist of lines of code that are composed of statements. A statement can be:\n",
    "\n",
    "* a single expression\n",
    "* an assignment\n",
    "* a function call\n",
    "* a function definition\n",
    "* a statement; statement"
   ]
  },
  {
   "cell_type": "markdown",
   "metadata": {},
   "source": [
    "### 3.1 Expressions"
   ]
  },
  {
   "cell_type": "markdown",
   "metadata": {},
   "source": [
    "Expressions represent any value, this be anything from a number to a string or even an instance of a class"
   ]
  },
  {
   "cell_type": "markdown",
   "metadata": {},
   "source": [
    "#### 3.1.1 Numbers"
   ]
  },
  {
   "cell_type": "markdown",
   "metadata": {},
   "source": [
    "Python supports two types of number; integers and floats.\n",
    "\n",
    "You can think of an integer as a whole number for example 1. You can use the built in function type() to return the type of the object inside the brackets."
   ]
  },
  {
   "cell_type": "code",
   "execution_count": 3,
   "metadata": {},
   "outputs": [
    {
     "data": {
      "text/plain": [
       "int"
      ]
     },
     "execution_count": 3,
     "metadata": {},
     "output_type": "execute_result"
    }
   ],
   "source": [
    "type(1)"
   ]
  },
  {
   "cell_type": "markdown",
   "metadata": {},
   "source": [
    "While a float can cater for decimals for example 1.90"
   ]
  },
  {
   "cell_type": "code",
   "execution_count": 4,
   "metadata": {},
   "outputs": [
    {
     "data": {
      "text/plain": [
       "float"
      ]
     },
     "execution_count": 4,
     "metadata": {},
     "output_type": "execute_result"
    }
   ],
   "source": [
    "type(1.90)"
   ]
  },
  {
   "cell_type": "markdown",
   "metadata": {},
   "source": [
    "You can also convert an integer to a float and a float to an integer. You can convert an integer to a float using the in built float() function"
   ]
  },
  {
   "cell_type": "code",
   "execution_count": 7,
   "metadata": {},
   "outputs": [
    {
     "data": {
      "text/plain": [
       "9.0"
      ]
     },
     "execution_count": 7,
     "metadata": {},
     "output_type": "execute_result"
    }
   ],
   "source": [
    "my_int = 9\n",
    "float(9)"
   ]
  },
  {
   "cell_type": "markdown",
   "metadata": {},
   "source": [
    "And vice versa you can use the in built int() argument to convert an integer to a float. Note however that a float contains decimals, therefore you have to be careful when converting a float to integer as you can lose the precision of value. The int() function will not round off the decimal place it will simply truncate the decimal leaving only the whole number"
   ]
  },
  {
   "cell_type": "code",
   "execution_count": 9,
   "metadata": {},
   "outputs": [
    {
     "data": {
      "text/plain": [
       "9"
      ]
     },
     "execution_count": 9,
     "metadata": {},
     "output_type": "execute_result"
    }
   ],
   "source": [
    "my_float = 9.9\n",
    "int(my_float)"
   ]
  },
  {
   "cell_type": "markdown",
   "metadata": {},
   "source": [
    "#### 3.1.2 Strings"
   ]
  },
  {
   "cell_type": "markdown",
   "metadata": {},
   "source": [
    "In Pythons strings are used for text, they can be defined either in single or double quotes. "
   ]
  },
  {
   "cell_type": "code",
   "execution_count": 11,
   "metadata": {},
   "outputs": [
    {
     "name": "stdout",
     "output_type": "stream",
     "text": [
      "Hello World!\n",
      "Hello World!\n"
     ]
    }
   ],
   "source": [
    "print(\"Hello World!\")\n",
    "print('Hello World!')"
   ]
  },
  {
   "cell_type": "markdown",
   "metadata": {},
   "source": [
    "It is also possible to use triple quotes, however these are usually reserved for use when creating docstrings or multi-line strings"
   ]
  },
  {
   "cell_type": "code",
   "execution_count": 12,
   "metadata": {},
   "outputs": [
    {
     "data": {
      "text/plain": [
       "'\\nThis\\nis\\nan \\nexample\\nof \\na \\nmulti-line\\nstring\\n'"
      ]
     },
     "execution_count": 12,
     "metadata": {},
     "output_type": "execute_result"
    }
   ],
   "source": [
    "'''\n",
    "This\n",
    "is\n",
    "an \n",
    "example\n",
    "of \n",
    "a \n",
    "multi-line\n",
    "string\n",
    "'''"
   ]
  },
  {
   "cell_type": "markdown",
   "metadata": {},
   "source": [
    "#### 3.1.3 Boolean values"
   ]
  },
  {
   "cell_type": "markdown",
   "metadata": {},
   "source": [
    "So its pretty easy to intuitively understand instances where you would use strings and numbers. Booleans on the other hand are a bit interesting. \n",
    "\n",
    "A Boolean value is either True or False, 1 or 0 (with 1 representing true). The first letter must be capitalised for these values to be booleans\n"
   ]
  },
  {
   "cell_type": "code",
   "execution_count": 14,
   "metadata": {},
   "outputs": [
    {
     "data": {
      "text/plain": [
       "bool"
      ]
     },
     "execution_count": 14,
     "metadata": {},
     "output_type": "execute_result"
    }
   ],
   "source": [
    "type(True)"
   ]
  },
  {
   "cell_type": "markdown",
   "metadata": {},
   "source": [
    "Booleans are interesting because they can be used to test conditions or be the output of testing certain conditions.\n",
    "\n",
    "For example if we want to know is the number 5 is the same as (3+2) we can user the comparison operator  == to test this condition"
   ]
  },
  {
   "cell_type": "code",
   "execution_count": 16,
   "metadata": {},
   "outputs": [
    {
     "data": {
      "text/plain": [
       "True"
      ]
     },
     "execution_count": 16,
     "metadata": {},
     "output_type": "execute_result"
    }
   ],
   "source": [
    "5 == (3+2)"
   ]
  },
  {
   "cell_type": "markdown",
   "metadata": {},
   "source": [
    "You can also test whether one values is not the same as another value using the != comparison operator"
   ]
  },
  {
   "cell_type": "code",
   "execution_count": 18,
   "metadata": {},
   "outputs": [
    {
     "data": {
      "text/plain": [
       "False"
      ]
     },
     "execution_count": 18,
     "metadata": {},
     "output_type": "execute_result"
    }
   ],
   "source": [
    "5 != (3+2)"
   ]
  },
  {
   "cell_type": "markdown",
   "metadata": {},
   "source": [
    "There are are 6 common comparison operators, each of these returns an boolean output depending on the outcome of the comparison"
   ]
  },
  {
   "cell_type": "code",
   "execution_count": 27,
   "metadata": {},
   "outputs": [
    {
     "name": "stdout",
     "output_type": "stream",
     "text": [
      "True\n",
      "False\n",
      "True\n",
      "False\n",
      "True\n"
     ]
    }
   ],
   "source": [
    "print(5==(3+2)) # will produce True if left and right value are equal\n",
    "print(5!=(3+2)) # testing if values are not equal\n",
    "print(5 > 3) # testing if left value is greater than right value\n",
    "print(5 < 2) # testing if the right value is greater than or equal to the left value\n",
    "print(5 >=3) # testing if the left value is greater than or equal to the right value"
   ]
  },
  {
   "cell_type": "markdown",
   "metadata": {},
   "source": [
    "Much like in the maths, you can chain comparison operators. Each term in the chain will be evaluated once. \n",
    "\n",
    "a < b < c would translate to (a < b) and (b < c). The chained expression will be evaluated from left to right. This means that if (a < b) returns a False boolean (b < c) will not be evaluated.\n",
    "\n",
    "For Additional Reading visit: https://docs.python.org/3/reference/expressions.html#comparisons"
   ]
  },
  {
   "cell_type": "code",
   "execution_count": 37,
   "metadata": {},
   "outputs": [
    {
     "data": {
      "text/plain": [
       "True"
      ]
     },
     "execution_count": 37,
     "metadata": {},
     "output_type": "execute_result"
    }
   ],
   "source": [
    "1 < 2 < 3 #this is equivalent to (1<2) and (2<3) and will return a True boolean"
   ]
  },
  {
   "cell_type": "markdown",
   "metadata": {},
   "source": [
    "#### 3.1.4 Lists and Tuples"
   ]
  },
  {
   "cell_type": "markdown",
   "metadata": {},
   "source": [
    "Lists, Tuples and Dictionaries are very useful data types that let you store multiple values in a single place "
   ]
  },
  {
   "cell_type": "markdown",
   "metadata": {},
   "source": [
    "##### 3.1.4.1 Lists"
   ]
  },
  {
   "cell_type": "markdown",
   "metadata": {},
   "source": [
    "Lists are an ordered collection of any type of values. Values that make up this collection are referred to as the list's elements or items. There are several ways to create a list. The most commonly used way is to enclose a list of elements in square brackets."
   ]
  },
  {
   "cell_type": "code",
   "execution_count": 41,
   "metadata": {},
   "outputs": [
    {
     "data": {
      "text/plain": [
       "[30, 'test', 20, 'hello', 50, 'swallow']"
      ]
     },
     "execution_count": 41,
     "metadata": {},
     "output_type": "execute_result"
    }
   ],
   "source": [
    "[30,'test',20,'hello',50,'swallow'] #as mentioned a list can contain any type of value and can contain different data type values"
   ]
  },
  {
   "cell_type": "markdown",
   "metadata": {},
   "source": [
    "A list can also contain lists within it. This is referred to as nesting "
   ]
  },
  {
   "cell_type": "code",
   "execution_count": 42,
   "metadata": {},
   "outputs": [
    {
     "data": {
      "text/plain": [
       "[[1, 2, 3], ['hello', 'puppy', 'kitten']]"
      ]
     },
     "execution_count": 42,
     "metadata": {},
     "output_type": "execute_result"
    }
   ],
   "source": [
    "[[1,2,3],['hello','puppy','kitten']]"
   ]
  },
  {
   "cell_type": "markdown",
   "metadata": {},
   "source": [
    "It is also possible to create a list with absolutely nothing inside of it. This is denoted with [] (square brackets).\n",
    "\n",
    "Since a list is a mutable object, you can append and remove elements in a list.\n",
    "\n",
    "You can use the append() method to add an item to a list. It is important to note that using append will add an item to the end of the list, this means that the item appended will appear as the list item in your list.\n"
   ]
  },
  {
   "cell_type": "code",
   "execution_count": 68,
   "metadata": {},
   "outputs": [
    {
     "data": {
      "text/plain": [
       "[1, 2, 3, 4, 5, 6, 7, 8]"
      ]
     },
     "execution_count": 68,
     "metadata": {},
     "output_type": "execute_result"
    }
   ],
   "source": [
    "a = [1,2,3,4,5,6,7]\n",
    "a.append(8) #this appends the list with the value 8\n",
    "a"
   ]
  },
  {
   "cell_type": "markdown",
   "metadata": {},
   "source": [
    "You can also add an item to a list at a specified position of your list.\n",
    "\n",
    "The position of an item in a list is referred to as its index, the first item in the list has the index 0 and the last index can be referenced with the index -1. \n",
    "\n",
    "The insert() method allows you to add an item at a specific index"
   ]
  },
  {
   "cell_type": "code",
   "execution_count": 69,
   "metadata": {},
   "outputs": [
    {
     "data": {
      "text/plain": [
       "[10, 1, 2, 3, 4, 5, 6, 7, 8]"
      ]
     },
     "execution_count": 69,
     "metadata": {},
     "output_type": "execute_result"
    }
   ],
   "source": [
    "a.insert(0, 10) # this will add the integer 10 to the first position of the list\n",
    "a"
   ]
  },
  {
   "cell_type": "markdown",
   "metadata": {},
   "source": [
    "Lastly, you can extend a list by combining multiple lists together. Let us try this by first creating a new list and combining it with our existing list."
   ]
  },
  {
   "cell_type": "code",
   "execution_count": 70,
   "metadata": {},
   "outputs": [
    {
     "data": {
      "text/plain": [
       "[10, 1, 2, 3, 4, 5, 6, 7, 8, 11, 12, 13, 14, 15, 16, 17, 18]"
      ]
     },
     "execution_count": 70,
     "metadata": {},
     "output_type": "execute_result"
    }
   ],
   "source": [
    "b = [11,12,13,14,15,16,17,18]\n",
    "a.extend(b) \n",
    "a"
   ]
  },
  {
   "cell_type": "markdown",
   "metadata": {},
   "source": [
    "There are a few ways to remove items in a list in Python. You can remove a specific item from a list by its index in the list.\n",
    "\n",
    "If you want to remove an item in a list by its position you can use the pop() method.\n",
    "\n",
    "If we just use the pop() method without specifying the index of the item we want to remove, pop() will by default remove the last item in the list"
   ]
  },
  {
   "cell_type": "code",
   "execution_count": 71,
   "metadata": {},
   "outputs": [
    {
     "name": "stdout",
     "output_type": "stream",
     "text": [
      "[1, 2, 3, 4, 5, 6, 7, 8, 11, 12, 13, 14, 15, 16, 17, 18]\n",
      "18\n",
      "[1, 2, 3, 4, 5, 6, 7, 8, 11, 12, 13, 14, 15, 16, 17]\n"
     ]
    }
   ],
   "source": [
    "a.pop(0) #this would remove the first item in our list, if you continually run this line, the pop function will keep removing the first item in the list until the list is empty\n",
    "print(a)\n",
    "print(a.pop()) #this will remove the last time in our list\n",
    "print(a)"
   ]
  },
  {
   "cell_type": "markdown",
   "metadata": {},
   "source": [
    "You can also opt to remove all items from a list with the clear() method. This will leave you with an empty list"
   ]
  },
  {
   "cell_type": "code",
   "execution_count": 72,
   "metadata": {},
   "outputs": [
    {
     "data": {
      "text/plain": [
       "[]"
      ]
     },
     "execution_count": 72,
     "metadata": {},
     "output_type": "execute_result"
    }
   ],
   "source": [
    "a.clear()\n",
    "a"
   ]
  },
  {
   "cell_type": "markdown",
   "metadata": {},
   "source": [
    "You can opt to remove an item from a list by matching the value in the list. Since we have cleared the list in variable 'a' (we will be going into what a variable is shortly), we are going to create a new list, assign it to variable 'a' and then remove a value from the list"
   ]
  },
  {
   "cell_type": "code",
   "execution_count": 51,
   "metadata": {},
   "outputs": [
    {
     "name": "stdout",
     "output_type": "stream",
     "text": [
      "[10, 20, 30, 40, 50, 60, 70]\n"
     ]
    },
    {
     "data": {
      "text/plain": [
       "[10, 20, 30, 50, 60, 70]"
      ]
     },
     "execution_count": 51,
     "metadata": {},
     "output_type": "execute_result"
    }
   ],
   "source": [
    "a = [10,20,30,40,50,60,70]\n",
    "print(a) #this will print out all the values in the list assigned to variable 'a'\n",
    "a.remove(40) # with this we will remove the value 40 from 'a'. If you try and run this twice you will get a value error because after we remove 40 from the list, the value 40 will be non existent in the list\n",
    "a"
   ]
  },
  {
   "cell_type": "markdown",
   "metadata": {},
   "source": [
    "You can remove items from a list using del statements. In order to  use this you will need to specify the index of the item to be deleted.\n",
    "\n",
    "You can use what is known as slice along with del statements to delete multiple items from a list in one go.\n",
    "\n",
    "You can also delete all items in a list by specifying the entire range of the items in the list."
   ]
  },
  {
   "cell_type": "code",
   "execution_count": 52,
   "metadata": {},
   "outputs": [
    {
     "name": "stdout",
     "output_type": "stream",
     "text": [
      "[10, 20, 30, 50, 60]\n",
      "[30, 50, 60]\n"
     ]
    },
    {
     "data": {
      "text/plain": [
       "[]"
      ]
     },
     "execution_count": 52,
     "metadata": {},
     "output_type": "execute_result"
    }
   ],
   "source": [
    "del a[-1] #we will delete the last item from the list assigned to variable 'a'\n",
    "print(a)\n",
    "del a[0:2] #with this, we will delete the first 2 items in the list (excluding the third item) assigned to variable 'a'\n",
    "print(a)\n",
    "del a[:] #this will delete the entire range of items in the list assigned to the varibale 'a'\n",
    "a"
   ]
  },
  {
   "cell_type": "markdown",
   "metadata": {},
   "source": [
    "Lastly, you can delete items in a list by combining slice and a step logic to for example delete every second item in a list. Again, since we have an empty list assigned to variable 'a' let us create a new variable, assign values to it and remove every second item in the entire list from the first to last index"
   ]
  },
  {
   "cell_type": "code",
   "execution_count": 73,
   "metadata": {},
   "outputs": [
    {
     "data": {
      "text/plain": [
       "[2, 4, 6, 8, 10]"
      ]
     },
     "execution_count": 73,
     "metadata": {},
     "output_type": "execute_result"
    }
   ],
   "source": [
    "a = [1,2,3,4,5,6,7,8,9,10]\n",
    "del a[0:-1:2] # we are deleting every second item from the first to the last item in the list\n",
    "a"
   ]
  },
  {
   "cell_type": "markdown",
   "metadata": {},
   "source": [
    "In built methods such as reverse allow you to reverse the original list returning the last index as the first and the first as the last"
   ]
  },
  {
   "cell_type": "code",
   "execution_count": 77,
   "metadata": {},
   "outputs": [
    {
     "data": {
      "text/plain": [
       "[10, 8, 6, 4, 2]"
      ]
     },
     "execution_count": 77,
     "metadata": {},
     "output_type": "execute_result"
    }
   ],
   "source": [
    "a.reverse()\n",
    "a"
   ]
  },
  {
   "cell_type": "markdown",
   "metadata": {},
   "source": [
    "You can access the full list of built in methods for any constructor or class in Python. This will give you a list of all in built methods you can use to manipulate a class or constructor "
   ]
  },
  {
   "cell_type": "code",
   "execution_count": 78,
   "metadata": {},
   "outputs": [
    {
     "data": {
      "text/plain": [
       "['__add__',\n",
       " '__class__',\n",
       " '__contains__',\n",
       " '__delattr__',\n",
       " '__delitem__',\n",
       " '__dir__',\n",
       " '__doc__',\n",
       " '__eq__',\n",
       " '__format__',\n",
       " '__ge__',\n",
       " '__getattribute__',\n",
       " '__getitem__',\n",
       " '__gt__',\n",
       " '__hash__',\n",
       " '__iadd__',\n",
       " '__imul__',\n",
       " '__init__',\n",
       " '__init_subclass__',\n",
       " '__iter__',\n",
       " '__le__',\n",
       " '__len__',\n",
       " '__lt__',\n",
       " '__mul__',\n",
       " '__ne__',\n",
       " '__new__',\n",
       " '__reduce__',\n",
       " '__reduce_ex__',\n",
       " '__repr__',\n",
       " '__reversed__',\n",
       " '__rmul__',\n",
       " '__setattr__',\n",
       " '__setitem__',\n",
       " '__sizeof__',\n",
       " '__str__',\n",
       " '__subclasshook__',\n",
       " 'append',\n",
       " 'clear',\n",
       " 'copy',\n",
       " 'count',\n",
       " 'extend',\n",
       " 'index',\n",
       " 'insert',\n",
       " 'pop',\n",
       " 'remove',\n",
       " 'reverse',\n",
       " 'sort']"
      ]
     },
     "execution_count": 78,
     "metadata": {},
     "output_type": "execute_result"
    }
   ],
   "source": [
    "dir(list) #this returns a list of built in methods you can use to manipulate a list"
   ]
  },
  {
   "cell_type": "markdown",
   "metadata": {},
   "source": [
    "**Sets**\n",
    "\n",
    "Similar to lists sets are also a collection of items. However unlike lists, sets cannot contain duplicate items. Changing a list to a set would return a set of only unique values found in the list. You can define a set or alternatively convert a list to a set using the function set()"
   ]
  },
  {
   "cell_type": "code",
   "execution_count": 115,
   "metadata": {},
   "outputs": [
    {
     "data": {
      "text/plain": [
       "{1, 2, 3, 4, 5, 6, 7, 8, 9, 10, 11}"
      ]
     },
     "execution_count": 115,
     "metadata": {},
     "output_type": "execute_result"
    }
   ],
   "source": [
    "example_list = [1,1,2,3,4,5,5,6,6,7,7,7,8,8,9,10,11]\n",
    "set(example_list)"
   ]
  },
  {
   "cell_type": "markdown",
   "metadata": {},
   "source": [
    "At a later stage after we cover for lists, you will learn about creating and manipulating lists using list comprehension"
   ]
  },
  {
   "cell_type": "markdown",
   "metadata": {},
   "source": [
    "##### 3.1.4.2 Tuples"
   ]
  },
  {
   "cell_type": "markdown",
   "metadata": {},
   "source": [
    "Like lists, tuples are also an ordered list of items. The items in a tuple can be of  a mixed types. However, unlike lists, tuples are immutable. This means that after they are created/defined you cannot change them and attempting to do so will produce an error. Because of this there are fewer inbuilt methods you can use on a tuple.\n",
    "\n",
    "Why do we need tuples? https://stackoverflow.com/questions/2174124/why-do-we-need-tuples-in-python-or-any-immutable-data-type\n",
    "\n",
    "You can create a tuple by enclosing a list of elements."
   ]
  },
  {
   "cell_type": "code",
   "execution_count": 85,
   "metadata": {},
   "outputs": [
    {
     "data": {
      "text/plain": [
       "tuple"
      ]
     },
     "execution_count": 85,
     "metadata": {},
     "output_type": "execute_result"
    }
   ],
   "source": [
    "a = (1,2,3,4)\n",
    "type(a)"
   ]
  },
  {
   "cell_type": "markdown",
   "metadata": {},
   "source": [
    "Note however that if you only have one item in your tuple you need to add a trailing comma otherwise the value in the tuple will be unpacked into the variable "
   ]
  },
  {
   "cell_type": "code",
   "execution_count": 89,
   "metadata": {},
   "outputs": [
    {
     "name": "stdout",
     "output_type": "stream",
     "text": [
      "<class 'int'>\n",
      "<class 'tuple'>\n"
     ]
    }
   ],
   "source": [
    "a = (1) #with no trailing comma the value 1 will be unpacked and assigned to the variable 'a'\n",
    "print(type(a))\n",
    "a = (1,)\n",
    "print(type(a))"
   ]
  },
  {
   "cell_type": "markdown",
   "metadata": {},
   "source": [
    "##### 3.1.4.3 Dictionaries\n"
   ]
  },
  {
   "cell_type": "markdown",
   "metadata": {},
   "source": [
    "A dictionary is mutable and is a collection of multiple values which is unordered and indexed However, unlike lists, the indexes for dictionaries are not necessarily integers they can be different data types. The indexes of dictionaries are called keys.\n",
    "\n",
    "Put simply you can use a dictionary to associate a value to a key. The value can then be accessed using the corresponding key it has been associated with. This is called a key-value pair. \n",
    "\n",
    "The unordered aspect means that the order that the keys are added isn't necessarily a mirror of the order of the dictionary. While Python will remember the order of the key-value pair according to how you defined your dictionary, however you cannot access items in the dictionary using indexes like you can with a list.\n",
    "\n",
    "**How to create a dictionary**:\n",
    "\n",
    "You can create a dictionary using curly brackets '{}', between these curly brackets you would one or multiple key-value pairs separated by commas.\n",
    "\n",
    "**Use cases**\n",
    "\n",
    "You can use a dictionary when you need some sort of mapping between keys to values. For example imagine a scenario where you want to associate a phone number to the owner of a phone. In this context the person's name would be the key and the phone number would be the value.\n",
    "\n",
    "Additional Reading: Dictionaries in Python - Real Python https://realpython.com/python-dicts/#defining-a-dictionary"
   ]
  },
  {
   "cell_type": "code",
   "execution_count": 108,
   "metadata": {},
   "outputs": [
    {
     "data": {
      "text/plain": [
       "{'Zala': '27 082 123 1234',\n",
       " 'Harry': '234 09 000 0000',\n",
       " 'Sipho': '251 082 000 0000',\n",
       " 'Abedi': '254 711 111 111',\n",
       " 'Akinyi': '263 077 210 1011'}"
      ]
     },
     "execution_count": 108,
     "metadata": {},
     "output_type": "execute_result"
    }
   ],
   "source": [
    "dictionary = {'Zala':'27 082 123 1234','Harry':'234 09 000 0000','Sipho':'251 082 000 0000','Abedi':'254 711 111 111','Akinyi':'263 077 210 1011'}\n",
    "dictionary"
   ]
  },
  {
   "cell_type": "markdown",
   "metadata": {},
   "source": [
    "As stating previously, you can access the value by both referencing the variable where the dictionary has been stored and the key associated with the value in question."
   ]
  },
  {
   "cell_type": "code",
   "execution_count": 98,
   "metadata": {},
   "outputs": [
    {
     "data": {
      "text/plain": [
       "'Monday'"
      ]
     },
     "execution_count": 98,
     "metadata": {},
     "output_type": "execute_result"
    }
   ],
   "source": [
    "dictionary['one']"
   ]
  },
  {
   "cell_type": "markdown",
   "metadata": {},
   "source": [
    "You can use the update() inbuilt method to either update a value in a dictionary, or add a new key-value pair if you specify a key-value pair that does not exist in the dictionary"
   ]
  },
  {
   "cell_type": "code",
   "execution_count": 111,
   "metadata": {},
   "outputs": [
    {
     "data": {
      "text/plain": [
       "{'Zala': '27 082 123 1234',\n",
       " 'Harry': '234 09 000 0000',\n",
       " 'Sipho': '251 082 000 0000',\n",
       " 'Abedi': '254 711 111 111',\n",
       " 'Akinyi': '263 077 210 1011',\n",
       " 'Thema': '260 123 123 123'}"
      ]
     },
     "execution_count": 111,
     "metadata": {},
     "output_type": "execute_result"
    }
   ],
   "source": [
    "dictionary.update(Thema='260 123 123 123')\n",
    "dictionary"
   ]
  },
  {
   "cell_type": "markdown",
   "metadata": {},
   "source": [
    "Much like with a list you can use the pop method to remove a key-value pair from a dictionary. Instead of referencing the index you would reference the key of the value you want to remove. The pop() method will not remove the last indexed key-value pair by default as a dictionary is unordered"
   ]
  },
  {
   "cell_type": "code",
   "execution_count": 112,
   "metadata": {},
   "outputs": [
    {
     "data": {
      "text/plain": [
       "{'Zala': '27 082 123 1234',\n",
       " 'Harry': '234 09 000 0000',\n",
       " 'Sipho': '251 082 000 0000',\n",
       " 'Abedi': '254 711 111 111',\n",
       " 'Akinyi': '263 077 210 1011'}"
      ]
     },
     "execution_count": 112,
     "metadata": {},
     "output_type": "execute_result"
    }
   ],
   "source": [
    "dictionary.pop('Thema')\n",
    "dictionary"
   ]
  },
  {
   "cell_type": "markdown",
   "metadata": {},
   "source": [
    "It is highly recommended that you read the following sources to learn more about dictionaries:\n",
    "* Chapter 20 Dictionaries - How to think like a Computer Scientist: Learning with Python 3 ; http://openbookproject.net/thinkcs/python/english3e/dictionaries.html\n",
    "* Data Structures (Part II) Dictionaries - Python like you mean it : https://www.pythonlikeyoumeanit.com/Module2_EssentialsOfPython/DataStructures_II_Dictionaries.html"
   ]
  },
  {
   "cell_type": "markdown",
   "metadata": {},
   "source": [
    "### 3.2 Assignments and Variables"
   ]
  },
  {
   "cell_type": "markdown",
   "metadata": {},
   "source": [
    "You can think of a variable as a container where you can store any type of data. In Python you create a variable by assigning a value to it and can access this data using the variable's name. You can also assign lists, tuples and dictionaries to a variable.\n",
    "\n",
    "Assignment is done with a single = sign. This should not be mistaken for the comparison operator '=='"
   ]
  },
  {
   "cell_type": "code",
   "execution_count": 28,
   "metadata": {},
   "outputs": [
    {
     "data": {
      "text/plain": [
       "4"
      ]
     },
     "execution_count": 28,
     "metadata": {},
     "output_type": "execute_result"
    }
   ],
   "source": [
    "x = 4 # in this case we store the value 4 in a variable named x. \n",
    "x # we can now access the value in x by referencing the name of the variable"
   ]
  },
  {
   "cell_type": "markdown",
   "metadata": {},
   "source": [
    "The data type of the value in x remains an integer"
   ]
  },
  {
   "cell_type": "code",
   "execution_count": 29,
   "metadata": {},
   "outputs": [
    {
     "data": {
      "text/plain": [
       "int"
      ]
     },
     "execution_count": 29,
     "metadata": {},
     "output_type": "execute_result"
    }
   ],
   "source": [
    "type(x)"
   ]
  },
  {
   "cell_type": "markdown",
   "metadata": {},
   "source": [
    "There are a few naming conventions you need to keep in mind when naming a variable:\n",
    "\n",
    "* Variable names are case-sensitive\n",
    "* The name of a variable cannot begin with an integer\n",
    "* The name of a variable cannot contain a space, for example 'my var' is not a legal variable name. Trying to create such a variable by assigning a value to it would return what is regarded as a Syntax error. You can however replace the space with an underscore and this would make the variable permissible for example 'my_var'\n",
    "* The name of a variable cannot contain a dash\n",
    "* The name of the variable should not be the same as the name of an inbuilt function as this will cause a lot of confusion "
   ]
  },
  {
   "cell_type": "markdown",
   "metadata": {},
   "source": [
    "You can also assign multiple values to multiple variables in one go. In order to do this the left side (the variable names) must have the same number of variables as the values on the right side"
   ]
  },
  {
   "cell_type": "code",
   "execution_count": 91,
   "metadata": {},
   "outputs": [
    {
     "name": "stdout",
     "output_type": "stream",
     "text": [
      "1\n",
      "2\n",
      "3\n"
     ]
    }
   ],
   "source": [
    "a,b,c = 1,2,3 #this will assign the values 1,2 and 3 to a,b and c respectively\n",
    "print(a)\n",
    "print(b)\n",
    "print(c)"
   ]
  },
  {
   "cell_type": "code",
   "execution_count": null,
   "metadata": {},
   "outputs": [],
   "source": []
  },
  {
   "cell_type": "markdown",
   "metadata": {},
   "source": [
    "### 3.3 Functions"
   ]
  },
  {
   "cell_type": "markdown",
   "metadata": {},
   "source": [
    "Sometimes in Python we write a few lines of code that do something. For example let's say you a program that takes in some input, lets assume the input is a person's first name. Each time you take in the input you want the program to print out Hello so and so (so and so being a place holder for the person's first name). To avoid having to write this code over and over again you can enscapsulate the logic in a function and then call the function along with the argument (the person's first name) each time you want to use it.\n",
    "\n",
    "Much like a variable you can name your function, however the name must be a legal name.\n",
    "\n",
    "When you create a function there must be a header line which beings with 'def', is followed by the name you want to give to the function and followed by either blank brackets () if the function takes no arguments or an argument/arguments enclosed in brackets. The header line ends with a colon. \n",
    "\n",
    "After writing out the headerline we move on to the body/logic of the function. This may contain one or multiple lines of code depending on what your function does. Each line of the body must be indented by the same amount (4 spaces is the recommended indentation).\n",
    "\n",
    "Simply defining a function does not make the function run, the function runs when you call the function. The function call will contain the name of the function that needs to be run along with any arguments that need to be included-assuming arguments have been assigned to the function.\n",
    "\n",
    "Let's construct a function that named greeting that will take in an argument (firstname) and print out Hello first name"
   ]
  },
  {
   "cell_type": "code",
   "execution_count": 92,
   "metadata": {},
   "outputs": [
    {
     "name": "stdout",
     "output_type": "stream",
     "text": [
      "HelloHarry\n"
     ]
    }
   ],
   "source": [
    "def greetings(firstname): #the headerline always ends with a colon\n",
    "    print('Hello'+firstname) #we can concatenate two strings \n",
    "greetings('Harry') #here we call the function with the firstname argument as 'Harry'"
   ]
  },
  {
   "cell_type": "markdown",
   "metadata": {},
   "source": [
    "If we want to add a space between Hello and the firstname we can either add a space after Hello or concatenate a space between Hello and the firstname argument "
   ]
  },
  {
   "cell_type": "code",
   "execution_count": 95,
   "metadata": {},
   "outputs": [
    {
     "name": "stdout",
     "output_type": "stream",
     "text": [
      "Hello Harry\n",
      "Hello Harry\n"
     ]
    }
   ],
   "source": [
    "def greetings(firstname):\n",
    "    print('Hello '+firstname)\n",
    "greetings('Harry')\n",
    "#OR\n",
    "def greetings(firstname):\n",
    "    print('Hello'+' '+firstname)\n",
    "greetings('Harry')"
   ]
  },
  {
   "cell_type": "markdown",
   "metadata": {},
   "source": [
    "For additional information on functions in Python it is strongly recommended that you read these sources:\n",
    "* Chapter 4 Functions - How to Think Like a Computer Scientist: Learning with Python 3 http://openbookproject.net/thinkcs/python/english3e/functions.html\n",
    "* Chapter 3 Functions - Automate the Boring stuff: https://automatetheboringstuff.com/2e/chapter3/\n",
    "* Chapter 1.3 Defining new functions - Composing Programs: http://composingprograms.com/pages/13-defining-new-functions.html\n",
    "* Chapter 1.4 Designing functions - Composing Programs: http://composingprograms.com/pages/14-designing-functions.html"
   ]
  },
  {
   "cell_type": "code",
   "execution_count": null,
   "metadata": {},
   "outputs": [],
   "source": []
  },
  {
   "cell_type": "markdown",
   "metadata": {},
   "source": [
    "For more Reading:\n",
    "\n",
    "i.) Jupyer Notebook Tutorial: The Definitive Guide - DataCamp; https://medium.com/datacamp/jupyter-notebook-tutorial-the-definitive-guide-660c7e651ecd#.6eaagkurd\n",
    "\n",
    "ii.) LaTeX - Mathematical Python : https://www.math.ubc.ca/~pwalls/math-python/jupyter/latex/\n",
    "\n",
    "iii.) About Python: https://python.swaroopch.com/about_python.html\n",
    "\n",
    "iv.) Perceiving Python programming paradigms - Opensource.com: https://opensource.com/article/19/10/python-programming-paradigms\n",
    "\n",
    "v.) Part 1 Learning the Basics - Python 101 https://python101.pythonlibrary.org/part_i.html\n"
   ]
  }
 ],
 "metadata": {
  "kernelspec": {
   "display_name": "Python 3",
   "language": "python",
   "name": "python3"
  },
  "language_info": {
   "codemirror_mode": {
    "name": "ipython",
    "version": 3
   },
   "file_extension": ".py",
   "mimetype": "text/x-python",
   "name": "python",
   "nbconvert_exporter": "python",
   "pygments_lexer": "ipython3",
   "version": "3.7.4"
  }
 },
 "nbformat": 4,
 "nbformat_minor": 2
}
