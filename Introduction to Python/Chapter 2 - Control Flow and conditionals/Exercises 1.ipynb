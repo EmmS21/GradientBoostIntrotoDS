{
 "cells": [
  {
   "cell_type": "markdown",
   "metadata": {},
   "source": [
    "# Exercises Questions\n"
   ]
  },
  {
   "cell_type": "markdown",
   "metadata": {},
   "source": [
    "Please answer the questions using this notebook and submit the complete notebook in a GitHub repository dedicated to exercises you will complete through the duration of this course.\n",
    "\n",
    "You can read about more about creating a GitHub repository here: https://help.github.com/en/github/getting-started-with-github/create-a-repo"
   ]
  },
  {
   "cell_type": "markdown",
   "metadata": {},
   "source": [
    "## Question 1"
   ]
  },
  {
   "cell_type": "code",
   "execution_count": 77,
   "metadata": {},
   "outputs": [
    {
     "data": {
      "text/plain": [
       "633488052898858544499148771092839124514595999101862817725838683309291840024205802279025491383345356576499488584730987766952448784885984122731863416160780070299204852665243431988713607186676138829722973447399923020059348300842859957937073017130987802180194898900614812188513097474482962255638200498053175859902897056225658204963295810578048074222458479049626965591170973931347975508159455989920432235575725479058576238059052518108082956788315476715540228964829921998521318725922222786625910724102920843214353995190593337949997548087206160855882621838739769363767036952691436464755711271358017947578983763474361895995794234021736221180595780248179505083017726381737265758662897917295989845130563117996440785903668604241831055159030578062930387117763249053429500324919793390922144781654254520326630386488773316177739257697105771549625568835605214754370477692493309690028305891851078984892144997425500993417475157687361321451304423666179002593596034928753701700608610883510721318157955543733782747081569468374907748450815068061654384263461403522835483663916422302913483567141003691311036332301654766440533442922924273061759870410283988331324454061666959410855398705168937881334940737734607670879940050200008813872411366861834402819266660131120382637311811479206341853924387201909520915504044795372123622098519120939913215976005790033971010310303435623652385412814190497873439734707476362866963214591538053332742370927429306522457086757358987319919701456698393652759138036610448052644917185944171621596307270969993792003693364823230413022897978534465535715851566324908189402610619891861009903540669654680428594012633862484446177248199473636789490074369043316795796910476725166596470281583107222609379833498746780600530621644115779932155347076222822481444789683055203244602754479878128283603601331836128494435525310731743546976395107937699235333902748236413189504663296115948380418370574520933671796834517147632252734984516312364468438320874793875668868966761172801558557933146465953686504478656655545755391503329609096804150216166558187108624452933907585508908026926874054835399510092216286537822265208496379924530204077907327728685086191900304030375557947158939230952696981049383372369471330835483886335662947924968408496211050677742548755118280045132406193619181647332489070309636009690620036918228169212502450165521917225290694730806806178319663434248337358634915871071243525228190802319443243375945381866727752674870405798074195537058981028585752477248714771519015311982522702299331799306829348874329805488663658045991022460854562992885904177282884346306430739367220566298229664550561221974326297611847488704073604397212475514030776276211665607667767297807151392782004097011938129774772060386581954515644620681167971390267600755861386630867478273161908531272870669052483821442725675551650296957301672562543585580270107433869474925786973081839609720997333019660315877933841080615502036842284573054234677093367337058885378425506415169046534859523800036662903190376453823470021861606864904649207703969491393848972320339014418829774984831889960553799261316654804264809175270435423687038132185406772443388999641952856605288449129186763594400202261320727641635089320547222658993495992731585735277107264611461987711814780321627037880994981299098754946693219201350796098570514760135198145709110544605818584109118277411605474399997189313261571833127302970534553336395745989253952849625479713973360604915572072663264810954190178684222643061593832526732625474571845019198990596946487543048411952825761556534113132258929918509644991498567775515852171663198316241374787984129733935996956516333087117493265873856447717739007048811615978305852557302646656345824199261671495288785792154154283117287846157835769107742017856887780617576009045058313051607370488038252703696732347141743942965054194406656611524664406188649113328705221612433884163551591343581565432881181179576422349332597276137014635833956635832252578294225590497444668025981827544231348381876793328857367657933374573838894976403224260381573620914021092644315206604427934795189532035744309264108913073250757971620782938626957111930133804053191020526356077966417340138307410184834374961326273649984570924970414065569391351049448746749614416630695488280893236256521401588489297978817390288040584188395883703435680437408946854590763860830736779092485608421992019013789995070997081678763702221932330874921331886296430773954916125011800558697029329970882979832218064236856318224530904289096146093911928521563907226439087196280155012648424952273863203497712156175986986244644865230774435970854251071337414879003690405939765651241039774351170283683208155126755694128427872413383441976491530196355203247611699728345001416645102821404668305130206203039232378308010363794024999500125135755731387760103916510152353679045851495929433505492721356690817952485520367443869526706610634230630707322314762797347231575015209109822937241804686263619181909881990741788412324348933115656738239035897485480659041512338874430328242526694841781217846506772617003631274766901198298318188205974962968748809553080401568284228100799552280721083739009045048093500883015937064252028860323490662361865865751573023028741338738645146512561911550471658731604353387345667463813341743271371553334457061841427267810487892318032906533056021149234886433655752991560639533054075485976260516606976937695941643400640097670248515093794504579573398064017348383936206491011395855450731122969595886352615218510226759143120749439807570953696021200510885334074454428866604244454155131137769171341792508394631199066727141378134201075393295581319892515608295598494530226531800102642174970361224526448287133214297621881564612414670294649266099327825835673518958693280778362217222817309112538655919780125818400694461051412800303069516998798919525001323390252511268931419756046320341675233009714228042916768839235014037258428701830589799354558034270789918807247366359910963814795554538091091218004646544597920519623305846217951707041163131721552767151347677384954470313922544555785892366834734629126564401786111792384327004568449601040987549944431658618940528657095146368850686602195434363582665222225175629762677545404685008937897055641484530962177630138730476617374197908675145620127439989137845924360080899811413654224514341596383254142418625381333810436682680883052517208770824542234133165621754316494292648833378789009584808376095781966242461104325900720931993591896266181959217635953495470035844186647176093514414740829944124454561650622411500993166604951267875295250532234122663232593994795804258473155887402078274001742470307241496822647731276592655033109423920183985750830748505285074736260244905087882588766938312999064543788603463740890562343921908179900984234410009283515945956224590148451297792258512128247957420766920751163347726204686095775536519028866469585435046790528992250313375535964451900536422393329147690275976488990438913511870935312034190965539399744322219841513514021248523771738409817086798316313746793242846185894517259516676873457329071936614460314347218973168665135949692000941062860179844815360413610337344906396112376161547444847371319117277422910491024098047980424189524280139144281566615357644087916271009362744434129987325040285316218599870867490363265396078392033371098802472637912366858428640672839466437029391808760789486383400046365965718091031447985916246277996938453262837190573769467740234485600412856604230601573471287922125316462391955093052788918585054602297195561442718675310588159650343539641556840651853489164101109184873208383292031543787843832645141056935870965391281172803908261834785890975546029039114387440822362367348903947228895936642369121346992086449047827886607574346120716123259461886349354835938539988705613090231818951693111893378678709191828017018098245240615614898378122540934286426915011228404464020717773333075568911015319797806297572924254415148372974436122226983069690165650956486472749573036550504553048890967133389721604035908884884788887927163750757729548408810276315813923935975153793017931060422817393392460670676897048475882703594802620078687666445999089505168542505377713809852167305167840409619817422776806774998027773864403773185144780147362673929543509870172755716360820385804219658817339070465086884286939137823539715482953134566706837623749355418285993907154978813407727400194096787274037085071362252025782849099910535085605567451891464919693075744201890898019187083581843777053620519975753121657170715733333010431354174237694978530118050762759714148052623015975141763380280684915785422382887622079769944311400575901037113296039257216825649684036772166759566814217923743515656227998270718976705313648760277621263808824689408159985809030109731500967659357664700660114673288876995029354618491269764226883745123676441690061215513963982623770491076873076388432301356414572647540622041509917748658454393500915977974301755801428607212717141445224465269536166552602312862543690494595917866981120575735421399212998114520494982328859590122961684824419655698824282521130278906722935107074183757701100984572796807500100246816145608445212535"
      ]
     },
     "execution_count": 77,
     "metadata": {},
     "output_type": "execute_result"
    }
   ],
   "source": [
    "#only run this once as it will generate a random integer each time it is run\n",
    "import random \n",
    "nums = random.randint(10**5000,10**9000)\n",
    "nums"
   ]
  },
  {
   "cell_type": "markdown",
   "metadata": {},
   "source": [
    "Find the sum of all the numbers in variable 'nums', and then find the sum of the first 5 digits of this number. Notice that nums is an integer, think about how you can iterate through an integer or alternatively if you may need to convert this into a different data type. If you are stuck initially start off by noting the error message you are receiving to guide your solution, if this fails post your questions on Slack and someone will help guide you to the correct answer"
   ]
  },
  {
   "cell_type": "code",
   "execution_count": 34,
   "metadata": {},
   "outputs": [],
   "source": [
    "#Enter your answer here:\n"
   ]
  },
  {
   "cell_type": "code",
   "execution_count": null,
   "metadata": {},
   "outputs": [],
   "source": []
  },
  {
   "cell_type": "markdown",
   "metadata": {},
   "source": [
    "## Question 2"
   ]
  },
  {
   "cell_type": "code",
   "execution_count": 41,
   "metadata": {},
   "outputs": [
    {
     "data": {
      "text/plain": [
       "[1,\n",
       " 8,\n",
       " 0,\n",
       " 5,\n",
       " 10,\n",
       " 9,\n",
       " 3,\n",
       " 8,\n",
       " 1,\n",
       " 0,\n",
       " 1,\n",
       " 1,\n",
       " 2,\n",
       " 10,\n",
       " 6,\n",
       " 0,\n",
       " 2,\n",
       " 3,\n",
       " 9,\n",
       " 7,\n",
       " 0,\n",
       " 3,\n",
       " 3,\n",
       " 9,\n",
       " 10,\n",
       " 3,\n",
       " 1,\n",
       " 2,\n",
       " 2,\n",
       " 10,\n",
       " 7,\n",
       " 7,\n",
       " 6,\n",
       " 4,\n",
       " 7,\n",
       " 8,\n",
       " 4,\n",
       " 7,\n",
       " 9,\n",
       " 4,\n",
       " 10,\n",
       " 10,\n",
       " 8,\n",
       " 7,\n",
       " 7,\n",
       " 5,\n",
       " 7,\n",
       " 10,\n",
       " 7,\n",
       " 9]"
      ]
     },
     "execution_count": 41,
     "metadata": {},
     "output_type": "execute_result"
    }
   ],
   "source": [
    "list_nums = [random.randint(0,10) for iter in range(50)]\n",
    "list_nums"
   ]
  },
  {
   "cell_type": "markdown",
   "metadata": {},
   "source": [
    "Print out a list of numbers in list_nums of numbers that are less than or equals to 4. Write the solution out in one line"
   ]
  },
  {
   "cell_type": "code",
   "execution_count": 50,
   "metadata": {},
   "outputs": [],
   "source": [
    "#Enter your answer here:\n"
   ]
  },
  {
   "cell_type": "code",
   "execution_count": null,
   "metadata": {},
   "outputs": [],
   "source": []
  },
  {
   "cell_type": "markdown",
   "metadata": {},
   "source": [
    "## Question 3"
   ]
  },
  {
   "cell_type": "markdown",
   "metadata": {},
   "source": [
    "Write a program to generate a dictionary that contains (i, i*i) such that if the value 8 is assigned to the variable input_var your dictionary should generate the following output:\n",
    "\n",
    "{1:1, 2:4, 3:9, 4:16, 5:25, 6:36, 7:49, 8:64}"
   ]
  },
  {
   "cell_type": "code",
   "execution_count": 55,
   "metadata": {},
   "outputs": [],
   "source": [
    "input_var = random.randint(5,20)"
   ]
  },
  {
   "cell_type": "code",
   "execution_count": null,
   "metadata": {},
   "outputs": [],
   "source": [
    "#Enter your answer here:"
   ]
  },
  {
   "cell_type": "code",
   "execution_count": null,
   "metadata": {},
   "outputs": [],
   "source": []
  },
  {
   "cell_type": "markdown",
   "metadata": {},
   "source": [
    "## Question 4"
   ]
  },
  {
   "cell_type": "markdown",
   "metadata": {},
   "source": [
    "You are driving along the N1 a little faster than you should be and a police officer stops your vehicle. Write a function that will compute the fine you will be required to pay depending on how fast you were travelling. For each 10kilometres above the limit you will be required to pay R50 on top of a base fine of R1000. \n",
    "\n",
    "Limitations:\n",
    "* the speed limit is 80km/hr\n",
    "* Prior offenses affect the fine you will be required to pay. If you have a single prior driving offence you will be required to pay 25% more for each 10 km/hr over the speed limit, if you have two prior offences you will be required to pay 40% more and if you have 3 or more prior offences you will be required to pay 60% more.\n",
    "\n"
   ]
  },
  {
   "cell_type": "code",
   "execution_count": 61,
   "metadata": {},
   "outputs": [],
   "source": [
    "#Enter your answer here:\n"
   ]
  },
  {
   "cell_type": "code",
   "execution_count": null,
   "metadata": {},
   "outputs": [],
   "source": []
  },
  {
   "cell_type": "markdown",
   "metadata": {},
   "source": [
    "## Question 5"
   ]
  },
  {
   "cell_type": "markdown",
   "metadata": {},
   "source": [
    "Regular expressions or regex/regexp in short is a special text string used to describe a search pattern. You can use regex to find and/or replace a specified pattern in a given expression. Regular expressions make finding information a lot easier.\n",
    "\n",
    "You can use a regexp to search through a text file to find email addresses or to verify if email addresses you have received are valid email addresses\n",
    "\n",
    "For more information on regular expressions please read these sources:\n",
    "* Regular Expressions | A Complete Beginners Tutorial https://blog.usejournal.com/regular-expressions-a-complete-beginners-tutorial-c7327b9fd8eb\n",
    "* RE - Regular Expression Operations: https://docs.python.org/3/library/re.html\n",
    "* Regex Cheat Sheet: A Quick Guide to Regular Expressions in Python\n",
    "https://www.dataquest.io/blog/regex-cheatsheet/\n",
    "\n",
    "For this question, assume you have receive the passwords in variable password_list. For each password verify the validity of the password according to the rules of validation listed below. If the password is valid print or return the password along with a message \"password is valid\", if the password is invalid print or return the password along with the message \"password is not valid\".\n",
    "\n",
    "Rules of validation\n",
    "* The password must have atleast 1 (one) letter in the english alphabet \n",
    "* The password must have atleast 1 capitalized letter in the english alphabet\n",
    "* The password must atleast 1 special character from the list of these characters: (%$@^#)\n",
    "* The password must be atleast 7 characters but not exceed 20 characters in length\n",
    "* The password must not be the word: password or contain the user's firstname"
   ]
  },
  {
   "cell_type": "code",
   "execution_count": null,
   "metadata": {},
   "outputs": [],
   "source": [
    "#you only need to run this once as it will generate a list of 100 randomly generated passwords each time you click run\n",
    "import random \n",
    "import string\n",
    "def randompassword(length):\n",
    "    password = string.ascii_letters + string.digits + string.punctuation\n",
    "    return ''.join(random.choice(password) for i in range(length))\n",
    "password_list = [randompassword(random.randint(0,30)) for iter in range(0,100)]"
   ]
  },
  {
   "cell_type": "code",
   "execution_count": 99,
   "metadata": {},
   "outputs": [],
   "source": [
    "#Enter your answer here:\n"
   ]
  },
  {
   "cell_type": "code",
   "execution_count": null,
   "metadata": {},
   "outputs": [],
   "source": []
  },
  {
   "cell_type": "markdown",
   "metadata": {},
   "source": [
    "## Question 6"
   ]
  },
  {
   "cell_type": "markdown",
   "metadata": {},
   "source": [
    "Write a function that will take an input of three numerical values and returns the largest and the lowest of the three values. Build this funciton without using the Python max() or max() function"
   ]
  },
  {
   "cell_type": "code",
   "execution_count": null,
   "metadata": {},
   "outputs": [],
   "source": [
    "#Enter your answer here:\n"
   ]
  },
  {
   "cell_type": "code",
   "execution_count": null,
   "metadata": {},
   "outputs": [],
   "source": []
  },
  {
   "cell_type": "markdown",
   "metadata": {},
   "source": [
    "## Question 7\n"
   ]
  },
  {
   "cell_type": "markdown",
   "metadata": {},
   "source": [
    "Create a function that takes a dictionary of peoples names and then returns a list of all the names in alphabetic order"
   ]
  },
  {
   "cell_type": "code",
   "execution_count": null,
   "metadata": {},
   "outputs": [],
   "source": [
    "#Enter your answer here:\n"
   ]
  },
  {
   "cell_type": "code",
   "execution_count": null,
   "metadata": {},
   "outputs": [],
   "source": []
  },
  {
   "cell_type": "markdown",
   "metadata": {},
   "source": [
    "## Question 8"
   ]
  },
  {
   "cell_type": "markdown",
   "metadata": {},
   "source": [
    "Write a program which will find all numbers which are divisible by 7 but are not a multiple of 5, between 2000 and 4200 (both included)."
   ]
  },
  {
   "cell_type": "code",
   "execution_count": 4,
   "metadata": {},
   "outputs": [],
   "source": [
    "#Enter your answer here:\n"
   ]
  },
  {
   "cell_type": "code",
   "execution_count": null,
   "metadata": {},
   "outputs": [],
   "source": []
  },
  {
   "cell_type": "markdown",
   "metadata": {},
   "source": [
    "## Question 9"
   ]
  },
  {
   "cell_type": "markdown",
   "metadata": {},
   "source": [
    "Write a program which accepts a sequence of comma-separated numbers and then generates a list which contains every number in the sequence.\n",
    "\n",
    "Suppose the following input is supplied to the program:\n",
    "\n",
    "**sequence = '34,67,55,33,12,98'**\n",
    "\n",
    "Then, the output should be:\n",
    "\n",
    "**[34,67,55,33,12,98]**"
   ]
  },
  {
   "cell_type": "code",
   "execution_count": 22,
   "metadata": {},
   "outputs": [],
   "source": [
    "sequence = ';99,100,2,3,4,6,7,12,35,65,76,8,989,0,9,2,12,1,67,55,33,12,98;'"
   ]
  },
  {
   "cell_type": "code",
   "execution_count": null,
   "metadata": {},
   "outputs": [],
   "source": [
    "#Enter your answer here:\n"
   ]
  },
  {
   "cell_type": "code",
   "execution_count": null,
   "metadata": {},
   "outputs": [],
   "source": []
  },
  {
   "cell_type": "markdown",
   "metadata": {},
   "source": [
    "## Question 10"
   ]
  },
  {
   "cell_type": "markdown",
   "metadata": {},
   "source": [
    "Write a program that translates the following words into any words of a language of your choosing and prints out a message notifying the end user of the language the words have been translated to"
   ]
  },
  {
   "cell_type": "code",
   "execution_count": null,
   "metadata": {},
   "outputs": [],
   "source": [
    "#Enter your answer here:\n"
   ]
  }
 ],
 "metadata": {
  "kernelspec": {
   "display_name": "Python 3",
   "language": "python",
   "name": "python3"
  },
  "language_info": {
   "codemirror_mode": {
    "name": "ipython",
    "version": 3
   },
   "file_extension": ".py",
   "mimetype": "text/x-python",
   "name": "python",
   "nbconvert_exporter": "python",
   "pygments_lexer": "ipython3",
   "version": "3.7.4"
  }
 },
 "nbformat": 4,
 "nbformat_minor": 2
}
