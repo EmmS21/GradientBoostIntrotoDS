{
 "cells": [
  {
   "cell_type": "markdown",
   "metadata": {},
   "source": [
    "## Conditionals"
   ]
  },
  {
   "cell_type": "markdown",
   "metadata": {},
   "source": [
    "We already dealt with boolean values in the previous notebook. As mentioned boolean values are either True or False. You can sue this to test conditions between expressions and programs. You can also use what is referred as conditional statements. Such statements give us the ability to check certain conditions and alter the behaviour of our program based on conditions.\n"
   ]
  },
  {
   "cell_type": "markdown",
   "metadata": {},
   "source": [
    "### 1. The If Statement"
   ]
  },
  {
   "cell_type": "markdown",
   "metadata": {},
   "source": [
    "One of the simplest conditional statement is an if statement. The logic of an if statement is actually quite intutitive. Let's imagine a scenario where you have to decide whether you go to the store with an umbrella or without one. If the weather is good ie. If it is not raining you probably would not need to carry an umbrella, if on the other hand it is raining you would need to carry an umbrella.\n",
    "\n",
    "This is how an if statement works the if statement consists of a header line. This line begins with the keyword if followed by the boolean expression you are testing. So in this instance it would be whether it is raining. The next line would then consist of the statement that would need to be executed if the boolean expression is True.\n",
    "\n",
    "You would then have an else clause which would be along with the statement that would need to be evaluated if the boolean expression evalutes to False.\n",
    "\n",
    "Let's look at a practical example"
   ]
  },
  {
   "cell_type": "code",
   "execution_count": 1,
   "metadata": {},
   "outputs": [
    {
     "data": {
      "text/plain": [
       "'Do not carry umbrella'"
      ]
     },
     "execution_count": 1,
     "metadata": {},
     "output_type": "execute_result"
    }
   ],
   "source": [
    "rain = False #it is not raining, therefore we assign False to rain\n",
    "umbrella = '' #we assign an empty string to the variable umbrella\n",
    "if rain:\n",
    "    umbrella = 'Carry umbrella'\n",
    "else:\n",
    "    umbrella = 'Do not carry an umbrella'\n",
    "umbrella "
   ]
  },
  {
   "cell_type": "markdown",
   "metadata": {},
   "source": [
    "Since we predefined the rain variable as False, the statement under the else clause will be executed and the variable umbrella will be assigned with the string 'Do not carry an umbrella'.\n",
    "\n",
    "Now let's imagine a scenario where we want to carry an umbrella if it is raining, wear a hat if it is sunny and wear a jacket if it is cold. In this scenario we have three conditions, the weather can either be hot, cold or rainy for each condition we will need to execute a different statement.\n",
    "\n",
    "In order to do this we would need to use a chained conditional. A chained conditional would consist of an if clause, elif clause (or multiple) and if required an else clause. The statement under the else clause would be executed if none of the neither if none of the conditions in the if and elif clauses have been met. You never have to explicitly define the condition that will need to be met for the statement under the else clause to execute. \n",
    "\n",
    "Let's look at a practical example. This time we are going to create a function that takes in a weather argument and then define our a chained conditional to execute a statement based on the weather"
   ]
  },
  {
   "cell_type": "code",
   "execution_count": 5,
   "metadata": {},
   "outputs": [
    {
     "name": "stdout",
     "output_type": "stream",
     "text": [
      "I need to wear a hat\n",
      "I need to carry an umbrella\n",
      "I need to wear a jacket\n",
      "I do not need an umbrella, jacket or hat\n"
     ]
    }
   ],
   "source": [
    "def clothing(weather):\n",
    "    if weather == 'rain':#we use a comparison operator to check if the weather argument evaluates to true for the string rain\n",
    "        print('I need to carry an umbrella')\n",
    "    elif weather == 'sun':\n",
    "        print('I need to wear a hat')\n",
    "    elif weather == 'cold':\n",
    "        print('I need to wear a jacket')\n",
    "    else:\n",
    "        print('I do not need an umbrella, jacket or hat')\n",
    "clothing(weather='sun') # I assign the value sun to the weather variable which will also serve as the argument in our function\n",
    "clothing(weather='rain')\n",
    "clothing(weather='cold')\n",
    "clothing(weather='normal')\n",
    "    "
   ]
  },
  {
   "cell_type": "markdown",
   "metadata": {},
   "source": [
    "Its important to note that a chained conditional is different from multiple if statements. A chained conditional is treated as a unit and the conditional will stop the moment statement associated with the first matched condition is executed. However multiple if statements are treated individually. \n",
    "\n",
    "Let's use an example to illustrate this. Assume a is 1, b is 2 and c is 3, what would happen if we write multiple if statements to test each condition"
   ]
  },
  {
   "cell_type": "code",
   "execution_count": 6,
   "metadata": {},
   "outputs": [
    {
     "name": "stdout",
     "output_type": "stream",
     "text": [
      "1\n",
      "2\n",
      "3\n"
     ]
    }
   ],
   "source": [
    "a = 1\n",
    "b = 2\n",
    "c = 3\n",
    "if a == 1:\n",
    "    print(a)\n",
    "if b == 2:\n",
    "    print(b)\n",
    "if c == 3:\n",
    "    print(c)"
   ]
  },
  {
   "cell_type": "markdown",
   "metadata": {},
   "source": [
    "Since all these conditions are true, unlike with a chained conditional, each if statement will be treated individually and since all the conditions are true, all the associated statements will be executed."
   ]
  },
  {
   "cell_type": "markdown",
   "metadata": {},
   "source": [
    "### 2 While Statements"
   ]
  },
  {
   "cell_type": "markdown",
   "metadata": {},
   "source": [
    "#### 1.1 Problem solving using if statements.\n"
   ]
  },
  {
   "cell_type": "markdown",
   "metadata": {},
   "source": [
    "**Question**\n",
    "\n",
    "Write a function named sleep_in that takes the arguments weekday and vacation. If the day the parameter weekday or vacation is True return the value True, if either parameters evaluate to False return the value False.\n",
    "\n",
    "**Answer**\n",
    "\n",
    "Let's think about this problem for a while.\n",
    "\n",
    "We want to create a function that will check whether the arguments weekday and vacation evalute to True or False. \n",
    "\n",
    "* We need to start off by defining a function and naming it sleep_in\n",
    "* We need to include the arguments weekday and vacation\n",
    "* We need to find out whether these arguments evaluate to True or False.\n",
    "* If either of the values evaluate to True we need to execute a statement that will return the value True\n",
    "* If the values evaluate to False we need to execute a statement that will return the value False\n",
    "\n",
    "Let's write this logic out in Python"
   ]
  },
  {
   "cell_type": "code",
   "execution_count": 13,
   "metadata": {},
   "outputs": [
    {
     "name": "stdout",
     "output_type": "stream",
     "text": [
      "True\n",
      "False\n"
     ]
    }
   ],
   "source": [
    "def sleep_in(weekday,vacation):\n",
    "    if weekday or vacation: #we do not need to explicitly compare the arguments weekday or vacation to the boolean values. If either statement is True, the following statement will be executed\n",
    "        return True\n",
    "    else:\n",
    "        return False\n",
    "print(sleep_in(weekday=True,vacation=False))\n",
    "print(sleep_in(weekday=False,vacation=False))"
   ]
  },
  {
   "cell_type": "markdown",
   "metadata": {},
   "source": [
    "Since we want to compare either weekday or vacation to the boolean True, we need to use the or operator. Since there are only two conditions (either weekday or vacation evaluate to True or they do not), we only need to define an if else statement as opposed to an if elif else statement.\n",
    "\n",
    "Let's look at another example\n",
    "\n",
    "**Question** \n",
    "\n",
    "For a random number between 1 and 100, depending on whether the number is even or odd print out a message to the user indicating whether the number chosen is odd or even. However if the number if 4 print out a different message.\n",
    "\n",
    "**Answer**\n",
    "\n",
    "* We first need to know how to select a random whole number between the specified range of 1 - 100. Since the number has to be a whole number it must be an integer.\n",
    "* At this point if we do not know how to do this, we would research it and find out that the random library has functions that could allow us to generate a pseudo random number. Read more about this here: https://docs.python.org/3/library/random.html\n",
    "* In order to use functions in a library we need to first import the library into our notebook. You can read more about this: https://www.digitalocean.com/community/tutorials/how-to-import-modules-in-python-3 \n",
    "* We would then use the random.randint() function to generate a random integer\n",
    "* We need to store this integer in a variable\n",
    "* Since all even numbers are divisible by 2, we need to use a comparion operator to check whether the number is divisible by 2. If this is the case we want to print out a statement indicating that the number is an even number. We can use the modulo operator ('%'). This will return the remainder of the value after dividing the left hand value/operand by the right hand operand. If this value is 0 we know that the number is divisible by 2 with no remainder, therefore it is an even number. You can read more about the modulo operator here: https://www.freecodecamp.org/news/the-python-modulo-operator-what-does-the-symbol-mean-in-python-solved/\n",
    "* Since we specifically want to print a different message if the value is 4. We need to explicitly exclude the number 4 from the first if statement\n",
    "* We need to use elif to check if the number is 4, if the number is 4, we need to print a different message.\n",
    "* If the number selected does not match any of the prior conditions we know that it is an odd number and we would need to print a message indicating that the number selected by the user is false.\n"
   ]
  },
  {
   "cell_type": "code",
   "execution_count": 7,
   "metadata": {},
   "outputs": [
    {
     "name": "stdout",
     "output_type": "stream",
     "text": [
      "You have picked an odd number.The number you picked is 85\n"
     ]
    }
   ],
   "source": [
    "import random\n",
    "selected = random.randint(1,100)\n",
    "if selected % 2 == 0 and selected != 4:\n",
    "    print('You have picked an even number. The number you picked is {}'.format(selected))\n",
    "elif selected == 4:\n",
    "    print('You have picked the number 4.The number you picked is {}'.format(selected))\n",
    "else:\n",
    "    print('You have picked an odd number.The number you picked is {}'.format(selected))\n"
   ]
  },
  {
   "cell_type": "code",
   "execution_count": null,
   "metadata": {},
   "outputs": [],
   "source": []
  },
  {
   "cell_type": "markdown",
   "metadata": {},
   "source": [
    "### 2 While Statements"
   ]
  },
  {
   "cell_type": "markdown",
   "metadata": {},
   "source": [
    "A while statement lets you repeatedly execute a line or multiples lines of code as long as a condition evaluates and continues to evaluate to True. Let's demonstrate how this works using a practical example:\n",
    "\n",
    "Lets assume own a car, your car takes 50 litres of fuel. One day you decide to fill up your car, you give the fuel attendant the instruction to fill up your tank. The fuel attendant filling you tank up with fuel resembles the logic of a while loop. While your fuel tank is not full, the fuel attendant will continue to pump more fuel into your car. .\n",
    "\n",
    "Let's write this out in Python and let's assume we also want to know the length of time it took to fill our car, assuming it takes 3 seconds to pump 1 litre of fuel into our vehicle."
   ]
  },
  {
   "cell_type": "code",
   "execution_count": 16,
   "metadata": {},
   "outputs": [
    {
     "name": "stdout",
     "output_type": "stream",
     "text": [
      "The fuel attendant was able to fill you tank up to 50 litres in 120 seconds\n"
     ]
    }
   ],
   "source": [
    "full = 50 # a full tank is 50 litres\n",
    "pace = 1 # let's assume the fuel attendant can only pump 1 litre of fuel into your car per 3 second\n",
    "current_fuel = 10 # your car currently has 10 litres of fuel\n",
    "time_to_fill = 0\n",
    "while current_fuel != full:\n",
    "    current_fuel += pace #+= simply adds the value of pace to current fuel\n",
    "    time_to_fill +=3\n",
    "print('The fuel attendant was able to fill you tank up to {} litres in {} seconds'.format(current_fuel,time_to_fill))"
   ]
  },
  {
   "cell_type": "markdown",
   "metadata": {},
   "source": [
    "In the while loop in Python the test expression is always evaluated in the beginning, this means that the program will only execute the body of the loop if the test expression evaluates to a True condition. The body of the loop will continue to be evaluated +1 times until the test expression does not evaluate to True. Because of the nature of a while loop if we do not a termination point, we will get an infinite loop that continues to run infinitely. A termination point refers to a point where the while loop evaluates as False and seizes to run.\n",
    "\n",
    "An example of an infinite loop would resemble this:\n",
    "while True:\n",
    " print('Hello')\n",
    " \n",
    "Since there is no termination point and the test expression will always evaluate to True, the while loop will continue to execute the body of the loop, until your computer crashes.\n",
    "\n",
    "We have also introduced a something that you may not be aware of yet. '{}.format'\n",
    "\n",
    "This is known as a string formatting method that allows you to make multiple substitutions and value formatting. The curly brackets act as a placeholder that will be replaced by the corresponding value inside format(). In this example we used multiple pairs of curly brackets. The placeholders for each are replaced by the values in the order you have placed them inside format().\n",
    "\n",
    "\n",
    "We strongly recommend you read the following sources to learn more about while loops:\n",
    "* Chapter 3.3 While Statements - Hands on Python Tutorial http://anh.cs.luc.edu/handsonPythonTutorial/whilestatements.html\n",
    "* Control Flow https://python.swaroopch.com/control_flow.html\n"
   ]
  },
  {
   "cell_type": "markdown",
   "metadata": {},
   "source": [
    "**Question**\n",
    "Let's create a game. Write a function that will generate a random number between 1 and 10 and prompt the user to guess the number. If the user correctly guesses the number print out the number along with an a message indicating that the user has won the game. The user should only be allowed to guess the number 3 times before the game terminates.\n",
    "\n",
    "**Answer**\n",
    "\n",
    "Lets try and break down this problem into smaller chunks.\n",
    "\n",
    "Firstly we need to generate a random integer between 1 and 10. We already know that we can use the random.randint() method to generate a pseudo random number betweena start and end point. We also know that we will need to store this number in a variable in order to compare it with the input we get from the user at a later stage.\n",
    "\n",
    "For the second part, we need to figure out how to ask a user for input. If we don't already know how to do this we would research how to do this and quickly find out that we can use the inbuilt input() function that will prompt a user for some keyboard input Read More about this function here: https://stackabuse.com/getting-user-input-in-python/\n",
    "\n",
    "We can already foresee a problem with this, the input will be represented as a string, since we are trying to guess a number we will need to convert this input into an integer. In the event that the user enters a string than cannot be converted into an integer we will need a way to handle this error. One way of doing this is through what is referred to as handling exceptions. You can write a program that can handle certain exceptions, in this case we would need to handle a Value Error. In this instance this refers to an error pertaining to the content of the object we have tried to assign the value to. Read More about this here: http://cs.carleton.edu/cs_comps/1213/pylearn/final_results/encyclopedia/valueError.html\n",
    "\n",
    "We can use try and except to handle exceptions. First the program will try and execute the try clause, if this fails it will execute the exception named in the except clause- assuming this was the exception matches the exception raised in our program. For more on handling exceptions read more here: https://docs.python.org/3/tutorial/errors.html\n",
    "\n",
    "Once we ensure that the user's input has been converted into an integer we may need to think about how we will handle the core logic of our program, that is as long as the user's input does not match the random number we need to continue to ask for the user's input until either the input matches the guess or the number of guesses reaches 3. So in other words. While the number of guesses is less than 3 we will ask for the user's guess. If the guess is correct we will print out a message indicating that the user has won the game, if the user's guess is incorrect we will continue asking the user's input until s/he either correctly guesses the number or the number of his/her guesses reaches the nuber 3. This means that we need to create a variable, assign the number 0 to it and continue to increment this variable by 1 for each iteration.\n",
    "\n",
    "Now let's try and translate this logic into Python code"
   ]
  },
  {
   "cell_type": "code",
   "execution_count": 3,
   "metadata": {},
   "outputs": [],
   "source": [
    "import random\n",
    "random_num = random.randint(1,10)\n",
    "guesses = 3\n",
    "while guesses > 3:\n",
    "    try:\n",
    "        guess = int(input())\n",
    "        if guess == random_num:\n",
    "            print('Well done you have correctly guesses the number after {} tries'.format(guesses))\n",
    "            break\n",
    "        else:\n",
    "            print('Try again, you have made {} guesses'.format(guesses))\n",
    "        guesses +=1\n",
    "    except ValueError:\n",
    "        print('Please enter a valid number')\n"
   ]
  },
  {
   "cell_type": "markdown",
   "metadata": {},
   "source": [
    "### 3. For Loops"
   ]
  },
  {
   "cell_type": "markdown",
   "metadata": {},
   "source": [
    "One of the basic building blocks of programs in Python is the ability to repeat some code multiple times. This repetition is referred to as iteration. We may for example iterate through a list and print out each value in the list, or perform some calculation.\n",
    "\n",
    "The for statement in Python allows you to implement this iteration. Unlike with the while loop, the for statement does not need to check for a condition for each iteration. Additionally, the for loop only runs for fixed amount of times.\n",
    "\n",
    "For example, we could create a for loop that prints out each number between 0 and 20"
   ]
  },
  {
   "cell_type": "code",
   "execution_count": 4,
   "metadata": {},
   "outputs": [
    {
     "name": "stdout",
     "output_type": "stream",
     "text": [
      "0\n",
      "1\n",
      "2\n",
      "3\n",
      "4\n",
      "5\n",
      "6\n",
      "7\n",
      "8\n",
      "9\n",
      "10\n",
      "11\n",
      "12\n",
      "13\n",
      "14\n",
      "15\n",
      "16\n",
      "17\n",
      "18\n",
      "19\n",
      "20\n"
     ]
    }
   ],
   "source": [
    "for i in range(0,21):\n",
    "    print(i)"
   ]
  },
  {
   "cell_type": "markdown",
   "metadata": {},
   "source": [
    "In the above example we use the range() function to generate a list of numbers between a starting point - 0 in this instance and a stop point. Note that we use the number 21 instead of 20 even though we want to print numbers from 0 to 20. We do this because the stop number tells Python were we want to stop and does not include the stop number. So for example range(0,5) will not include the stopping point which is 5.\n",
    "\n",
    "You can read more about the range() function here: https://www.pythoncentral.io/pythons-range-function-explained/\n",
    "\n",
    "Going back to the for loop, what we are saying with the code we wrote is that for each single value, which we represent by i, between the start and stop point (not including the stop number) we want to print the value represented by i. Since we have created a list of numbers with range(0,11) we will print out the next value to the right of the previous value in the next iteration. We will continue doing this until we print all the values in the list we have created.\n",
    "\n",
    "* Here is an interesting article that differentiates between looping and recursion: https://hackernoon.com/recursion-vs-looping-in-python-9261442f70a5\n"
   ]
  },
  {
   "cell_type": "markdown",
   "metadata": {},
   "source": [
    "### 4. Exercises"
   ]
  },
  {
   "cell_type": "markdown",
   "metadata": {},
   "source": [
    "One of the best ways of learning how to code and the reasoning process that goes into solving a problem is through doing. So now that we have learnt about if/else conditionals, while statements and for loops let's work on a few exercises that will help further cement the theoretical knowledge we have gained."
   ]
  },
  {
   "cell_type": "markdown",
   "metadata": {},
   "source": [
    "#### 4.1 The Fizz Buzz Test"
   ]
  },
  {
   "cell_type": "markdown",
   "metadata": {},
   "source": [
    "The essence of writing code is problem solving, this applies to data science and data analysis as much as it applies to software development. You write code as part of a solution to a problem you need to solve. You can think of writing code as one solution to achieve a given goal.\n",
    "\n",
    "The ultimate skill you want to develop with this course is learning how to use Python to solve a problem. While syntax is important the reasoning process is a lot more important. You can always research the correct syntax, but  its a lot harder to research how to solve a problem, particularly if you do not understand the problem and possible solutions enough to Google the right question.\n",
    "\n",
    "One test that has often been used to test how a programmer goes about solving a problem is the Fizz Buzz Test. The Fizz Buzz Test is designed to help filter out a large percentage of programming job applicants who cannot problem solve.\n",
    "\n",
    "Here is how it goes:\n",
    "\n",
    "<i>\"Write a program that prints the numbers from 1 to 100. But for multiples of three print 'Fizz' instead of the number for the multiples of five print 'Buzz'. For numbers which are multiples of both three and five print 'FizzBuzz'.\"</i>\n",
    "\n",
    "**Answer**\n",
    "\n",
    "So lets think about this problem:\n",
    "\n",
    "One clear think that pops up is that we will need to build a list of numbers from 1 to 100 and iterate through this numbers. For each number we would want to use a comparison operator to test whether the number is a mulitple of 3,5 or both 3 and 5. From previous examples we already know that we could potentially use the modulo operator to test if dividing a number by 3,5 or both would return a remainder equal to 0. This would mean that the number is a multiple of 3,5 or both depending on what we are testing.\n",
    "\n",
    "One simple way to translate this reasoning into code is through a mixture of a for loop to iterate through the list of numbers we create and if else statements to test if the number we are currently looking at is divisible by 3,5 or both.\n",
    "\n",
    "But what happens when we encounter a number like 15 that is both divisible by 3 and 5. If we use if statements and for example the first if statement checks if 15 is divisible by 3 we will print out Fizz instead of FizzBuzz since. This is because if an 'if' condition evalutes to true the program will execute the statement associated with the if statement and move on to the next number. One way to factor this into the logic of our program is to only print Fizz if the number is a multiple of 3 and not a multiple of 5, Buzz if the number is a multiple of 5 and not a multiple of 3 and FizzBuzz is the number is divisible by both 3 and 5. For every other number we would simply print out the number itself\n"
   ]
  },
  {
   "cell_type": "code",
   "execution_count": 8,
   "metadata": {},
   "outputs": [
    {
     "name": "stdout",
     "output_type": "stream",
     "text": [
      "1\n",
      "2\n",
      "Fizz\n",
      "4\n",
      "Buzz\n",
      "Fizz\n",
      "7\n",
      "8\n",
      "Fizz\n",
      "Buzz\n",
      "11\n",
      "Fizz\n",
      "13\n",
      "14\n",
      "FizzBuzz\n",
      "16\n",
      "17\n",
      "Fizz\n",
      "19\n",
      "Buzz\n",
      "Fizz\n",
      "22\n",
      "23\n",
      "Fizz\n",
      "Buzz\n",
      "26\n",
      "Fizz\n",
      "28\n",
      "29\n",
      "FizzBuzz\n",
      "31\n",
      "32\n",
      "Fizz\n",
      "34\n",
      "Buzz\n",
      "Fizz\n",
      "37\n",
      "38\n",
      "Fizz\n",
      "Buzz\n",
      "41\n",
      "Fizz\n",
      "43\n",
      "44\n",
      "FizzBuzz\n",
      "46\n",
      "47\n",
      "Fizz\n",
      "49\n",
      "Buzz\n",
      "Fizz\n",
      "52\n",
      "53\n",
      "Fizz\n",
      "Buzz\n",
      "56\n",
      "Fizz\n",
      "58\n",
      "59\n",
      "FizzBuzz\n",
      "61\n",
      "62\n",
      "Fizz\n",
      "64\n",
      "Buzz\n",
      "Fizz\n",
      "67\n",
      "68\n",
      "Fizz\n",
      "Buzz\n",
      "71\n",
      "Fizz\n",
      "73\n",
      "74\n",
      "FizzBuzz\n",
      "76\n",
      "77\n",
      "Fizz\n",
      "79\n",
      "Buzz\n",
      "Fizz\n",
      "82\n",
      "83\n",
      "Fizz\n",
      "Buzz\n",
      "86\n",
      "Fizz\n",
      "88\n",
      "89\n",
      "FizzBuzz\n",
      "91\n",
      "92\n",
      "Fizz\n",
      "94\n",
      "Buzz\n",
      "Fizz\n",
      "97\n",
      "98\n",
      "Fizz\n",
      "Buzz\n"
     ]
    }
   ],
   "source": [
    "for i in range(1,101):\n",
    "    if i % 3 == 0 and i % 5 !=0:\n",
    "        print('Fizz')\n",
    "    elif i % 5 == 0 and i % 3 !=0:\n",
    "        print('Buzz')\n",
    "    elif i % 5 == 0 and i % 3 == 0:\n",
    "        print('FizzBuzz')\n",
    "    else:\n",
    "        print(i)"
   ]
  },
  {
   "cell_type": "markdown",
   "metadata": {},
   "source": [
    "This is also a good time to introduce list comprehension. List comprehension provides a more concise way to create lists in Python based on some iterable. The basic components of a list comprehension are the output expression, the iterable and the iterator variable. For example we can create a List comprehension of the every whole number from 1 to 5 multiplied by two. Whereas we would typically do this by writing a for loop to iterate through each number in our list, multiply the number by 2 and append the output to a new list. We could list comprehension to do this in just one line of code.\n",
    "\n",
    "You can read more about list comprehension here: https://treyhunner.com/2015/12/python-list-comprehensions-now-in-color/"
   ]
  },
  {
   "cell_type": "code",
   "execution_count": 13,
   "metadata": {},
   "outputs": [
    {
     "data": {
      "text/plain": [
       "[2, 4, 6, 8, 10]"
      ]
     },
     "execution_count": 13,
     "metadata": {},
     "output_type": "execute_result"
    }
   ],
   "source": [
    "#list comprehension\n",
    "list_comprehension = [i*2 for i in range(1,6)]\n",
    "list_comprehension"
   ]
  },
  {
   "cell_type": "markdown",
   "metadata": {},
   "source": [
    "So with this code we start off with the output expression. Which in this case is i (which represents the number we are currently evaluating). We multiply this iterable by 2 because this is the output we want. We then finish off with a for loop that iterates through numbers in the range between 1 and 6 (excluding 6 itself).\n",
    "\n",
    "Now let's try and built a more complex list comprehension that includes a conditional statement. In this scenario we would follow the same format as the previous example. However after the for statement we would include the conditional statement. So, for example if we only want to return the numbers between 1 and 5 multipled by 2 only in cases where the number in question is equals to or greater than 3 here is an example if what we would write"
   ]
  },
  {
   "cell_type": "code",
   "execution_count": 16,
   "metadata": {},
   "outputs": [
    {
     "data": {
      "text/plain": [
       "[6, 8, 10]"
      ]
     },
     "execution_count": 16,
     "metadata": {},
     "output_type": "execute_result"
    }
   ],
   "source": [
    "multiplied_by_two = [i*2 for i in range(1,6) if i >= 3]\n",
    "multiplied_by_two"
   ]
  },
  {
   "cell_type": "markdown",
   "metadata": {},
   "source": [
    "But what if we need to include elif in our conditionals such as is required to solve our FizzBuzz test, this is where conditional expressions come into play. Conditional Expressions where introduced to Python in Python 2.5 (and as a consequence continue to exist in later versions). This allows us to express if else statements in one line. For example if we want to return True if a number a condition is true and false if the conditio evaluates to False we could simply write:\n",
    "\n",
    "x = true_value if condition else false_value\n",
    "\n",
    "As you can see, the order seems a little weird, we start with the condition expression and have the condition in the middle.\n",
    "\n",
    "You can read more about this here: https://docs.python.org/release/2.5.3/whatsnew/pep-308.html\n",
    "\n",
    "Using this syntax let's try and solve our Fizz Buzz challenge using list comprehension:"
   ]
  },
  {
   "cell_type": "code",
   "execution_count": 20,
   "metadata": {},
   "outputs": [
    {
     "data": {
      "text/plain": [
       "[1,\n",
       " 2,\n",
       " 'Fizz',\n",
       " 4,\n",
       " 'Buzz',\n",
       " 'Fizz',\n",
       " 7,\n",
       " 8,\n",
       " 'Fizz',\n",
       " 'Buzz',\n",
       " 11,\n",
       " 'Fizz',\n",
       " 13,\n",
       " 14,\n",
       " 'FizzBuzz',\n",
       " 16,\n",
       " 17,\n",
       " 'Fizz',\n",
       " 19,\n",
       " 'Buzz',\n",
       " 'Fizz',\n",
       " 22,\n",
       " 23,\n",
       " 'Fizz',\n",
       " 'Buzz',\n",
       " 26,\n",
       " 'Fizz',\n",
       " 28,\n",
       " 29,\n",
       " 'FizzBuzz',\n",
       " 31,\n",
       " 32,\n",
       " 'Fizz',\n",
       " 34,\n",
       " 'Buzz',\n",
       " 'Fizz',\n",
       " 37,\n",
       " 38,\n",
       " 'Fizz',\n",
       " 'Buzz',\n",
       " 41,\n",
       " 'Fizz',\n",
       " 43,\n",
       " 44,\n",
       " 'FizzBuzz',\n",
       " 46,\n",
       " 47,\n",
       " 'Fizz',\n",
       " 49,\n",
       " 'Buzz',\n",
       " 'Fizz',\n",
       " 52,\n",
       " 53,\n",
       " 'Fizz',\n",
       " 'Buzz',\n",
       " 56,\n",
       " 'Fizz',\n",
       " 58,\n",
       " 59,\n",
       " 'FizzBuzz',\n",
       " 61,\n",
       " 62,\n",
       " 'Fizz',\n",
       " 64,\n",
       " 'Buzz',\n",
       " 'Fizz',\n",
       " 67,\n",
       " 68,\n",
       " 'Fizz',\n",
       " 'Buzz',\n",
       " 71,\n",
       " 'Fizz',\n",
       " 73,\n",
       " 74,\n",
       " 'FizzBuzz',\n",
       " 76,\n",
       " 77,\n",
       " 'Fizz',\n",
       " 79,\n",
       " 'Buzz',\n",
       " 'Fizz',\n",
       " 82,\n",
       " 83,\n",
       " 'Fizz',\n",
       " 'Buzz',\n",
       " 86,\n",
       " 'Fizz',\n",
       " 88,\n",
       " 89,\n",
       " 'FizzBuzz',\n",
       " 91,\n",
       " 92,\n",
       " 'Fizz',\n",
       " 94,\n",
       " 'Buzz',\n",
       " 'Fizz',\n",
       " 97,\n",
       " 98,\n",
       " 'Fizz',\n",
       " 'Buzz']"
      ]
     },
     "execution_count": 20,
     "metadata": {},
     "output_type": "execute_result"
    }
   ],
   "source": [
    "fizzbuzz = ['Fizz' if (i % 3 == 0) and (i % 5 !=0) else 'Buzz' if (i % 5 == 0) and (i % 3 != 0) else 'FizzBuzz' if (i % 3 == 0) and (i % 5 == 0) else i for i in range(1,101)]\n",
    "fizzbuzz"
   ]
  },
  {
   "cell_type": "markdown",
   "metadata": {},
   "source": [
    "Note: I encloseed each condition in brackets just to make my code easier to read and follow along. It is very important to write code that is easy to read. Remember you probably won't be the only person required to read your code. You want the next person to have an easy time understanding what you wrote. In certain cases it might also be worthwhile to include comments that help explain the rationale you followed when you wrote a particular line of code.\n",
    "\n",
    "You can read more about writing good code here: https://developer.gnome.org/programming-guidelines/stable/writing-good-code.html.en\n",
    "\n",
    "Can you think of another way to solve the Fizz Buzz challange? Think of how you could replace the for loop with a while statement, is there also a way to shorten our first solution. What happens if we start off by testing if the number is both a multiple of 3 and 5 and then proceed to test whether the number is a multiple of 3 or 5, would this not negate the need to check whether a number is both a multiple of 3 and not of 5 and a multiple of 5 and not a 3. If you can come up with a unique solution that hasn't been included here go for it. Remember the most things are learning how to solve problems and learning by practise"
   ]
  },
  {
   "cell_type": "markdown",
   "metadata": {},
   "source": [
    "Let's look at another example:\n",
    "\n",
    "**Question**\n",
    "\n",
    "<i>If we list all the natural numbers below 10 that are multiples of 3 or 5, we get 3, 5, 6 and 9. The sum of these multiples is 23. Find the sum of all the multiples of 3 or 5 below 1000.</i>\n",
    "\n",
    "**Answer**\n",
    "We can use a one line list comprehension solution to solve this problem. Let's break down the solution into simple steps\n",
    "* First we need to create a list of numbers from 1 to 1000. We can do this using the range() method\n",
    "* We then need to iterate through each number from 1 to 1000. This can be done with a for loop\n",
    "* For each number we iterate through we need to check if is divisible by 3 or 5. As previous examples have shown we can use the modulo operator to check whether you get a remainder. If you don't get a remainder the number is a multiple of the right hand value.\n",
    "* We can enclose this entire logic in list comprehension\n",
    "* Since we would have generated a list of numbers that are multiples of 3 or 5, we can then enclose the entire list in a predefined sum() function. You can read more about this function here: https://medium.com/programminginpython-com/python-program-to-calculate-the-sum-of-elements-in-a-list-ed2b80db8268\n"
   ]
  },
  {
   "cell_type": "code",
   "execution_count": 24,
   "metadata": {},
   "outputs": [
    {
     "data": {
      "text/plain": [
       "234168"
      ]
     },
     "execution_count": 24,
     "metadata": {},
     "output_type": "execute_result"
    }
   ],
   "source": [
    "mutliples_sum = sum([i for i in range(1,1001) if (i % 3 == 0) or (i % 5 == 0)])\n",
    "mutliples_sum"
   ]
  }
 ],
 "metadata": {
  "kernelspec": {
   "display_name": "Python 3",
   "language": "python",
   "name": "python3"
  },
  "language_info": {
   "codemirror_mode": {
    "name": "ipython",
    "version": 3
   },
   "file_extension": ".py",
   "mimetype": "text/x-python",
   "name": "python",
   "nbconvert_exporter": "python",
   "pygments_lexer": "ipython3",
   "version": "3.7.4"
  }
 },
 "nbformat": 4,
 "nbformat_minor": 2
}
