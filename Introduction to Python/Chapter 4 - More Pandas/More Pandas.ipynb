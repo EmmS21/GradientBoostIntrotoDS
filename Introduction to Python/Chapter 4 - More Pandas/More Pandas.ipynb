{
 "cells": [
  {
   "cell_type": "markdown",
   "metadata": {},
   "source": [
    "Topics\n",
    "- Summary Statistics (min,max,var,median)\n",
    "- sorting and transforming dataframe(str.replace,sort,pivot)\n",
    "- Primer to data cleaning (dropping duplicates, dealing with missing values)\n",
    "- Primer to data visualization\n",
    "- Merge, concatenate and join\n",
    "- Stats (relationships between continuous variables)\n",
    "- Applying functions and lambda functions\n",
    "- More about numpy\n",
    "\n",
    "Other things to add\n",
    "- Case studies - 2 \n",
    "- 2 Assignments with 10 questions each\n",
    "- 1 project"
   ]
  },
  {
   "cell_type": "markdown",
   "metadata": {},
   "source": [
    "https://www.learndatasci.com/tutorials/python-pandas-tutorial-complete-introduction-for-beginners/\n",
    "\n",
    "http://jonathansoma.com/lede/foundations/classes/pandas%20introduction/introduction-to-pandas-complete/\n",
    "\n",
    "https://hackernoon.com/introduction-to-numpy-1-an-absolute-beginners-guide-to-machine-learning-and-data-science-5d87f13f0d51\n",
    "\n",
    "https://hackernoon.com/introduction-to-numpy-2-an-absolute-beginners-guide-to-machine-learning-and-data-science-967b21e3542a"
   ]
  },
  {
   "cell_type": "code",
   "execution_count": null,
   "metadata": {},
   "outputs": [],
   "source": []
  }
 ],
 "metadata": {
  "kernelspec": {
   "display_name": "Python 3",
   "language": "python",
   "name": "python3"
  },
  "language_info": {
   "codemirror_mode": {
    "name": "ipython",
    "version": 3
   },
   "file_extension": ".py",
   "mimetype": "text/x-python",
   "name": "python",
   "nbconvert_exporter": "python",
   "pygments_lexer": "ipython3",
   "version": "3.7.4"
  }
 },
 "nbformat": 4,
 "nbformat_minor": 2
}
