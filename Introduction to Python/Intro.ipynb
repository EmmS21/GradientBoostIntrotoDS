{
 "cells": [
  {
   "cell_type": "markdown",
   "metadata": {},
   "source": [
    "<H1>Introduction to Python</H1>"
   ]
  },
  {
   "cell_type": "markdown",
   "metadata": {},
   "source": [
    "## 1. Getting to understand  your Jupyter Notebook"
   ]
  },
  {
   "cell_type": "markdown",
   "metadata": {},
   "source": [
    "In this case, “notebook” or “notebook documents” denote documents that contain both code and rich text elements, such as figures, links, equations, … Because of the mix of code and text elements, these documents are the ideal place to bring together an analysis description and its results as well as they can be executed perform the data analysis in real time.\n",
    "These documents are produced by the Jupyter Notebook App\n",
    "\n",
    "The Jupyter Notebook App allows you to edit and run your notebooks via a web browser which can be executed on a PC while offline and can be install on a remote server allowing you to access the app through the internet. \n",
    "\n",
    "You can also convert your Jupyter notebook to html using nbconvert or make your notebook into a slideshow"
   ]
  },
  {
   "cell_type": "markdown",
   "metadata": {},
   "source": [
    "### Understanding the kind of cells in Jupyter"
   ]
  },
  {
   "cell_type": "markdown",
   "metadata": {},
   "source": [
    "There are essentially four kinds of cells in your Jupyter notebook: Code Cells, Markdown Cells, Raw Cells, and Header Cells, though there are six levels of Header Cells.  "
   ]
  },
  {
   "cell_type": "markdown",
   "metadata": {},
   "source": [
    "### i. Code Cells"
   ]
  },
  {
   "cell_type": "markdown",
   "metadata": {},
   "source": [
    "By default, Jupyter Notebooks' Code Cells will execute Python. Jupyter Notebooks can generally also support JavaScript, Python, HTML, and Bash commands.\n",
    "\n",
    "Code cells have both an input and an output component. You can view these components in three different ways. Unless you specific otherwise, your Code Cells will always be configured in such a way that both the input (In) and output (Out) components appear as horizontal rows and with the input above the output. Click the run button on the cell below to view this layout:"
   ]
  },
  {
   "cell_type": "code",
   "execution_count": 2,
   "metadata": {},
   "outputs": [
    {
     "data": {
      "text/plain": [
       "2"
      ]
     },
     "execution_count": 2,
     "metadata": {},
     "output_type": "execute_result"
    }
   ],
   "source": [
    "1 + 1"
   ]
  },
  {
   "cell_type": "markdown",
   "metadata": {},
   "source": [
    "### ii. Markdown Cells"
   ]
  },
  {
   "cell_type": "markdown",
   "metadata": {},
   "source": [
    "Jupyter notebook also recognizes LaTeX that is written in markdown cells and renders the symbols using the MathJax Javascript library.\n",
    "\n",
    "LaTeX is a typesetting language for producing scientific documents\n",
    "\n",
    "MathJax Documentation: https://www.mathjax.org/\n",
    "More on LaTeX: https://www.latex-project.org/"
   ]
  },
  {
   "cell_type": "markdown",
   "metadata": {},
   "source": [
    "In Jupyter Notebooks, Markdown Cells are the simplest and most effecient way to write and format text. \n",
    "\n",
    "More Information on Markdown: https://medium.com/ibm-data-science-experience/markdown-for-jupyter-notebooks-cheatsheet-386c05aeebed\n",
    "\n",
    "Jupyter notebook also recognizes LaTeX that is written in markdown cells and renders the symbols using the MathJax Javascript library.\n",
    "\n",
    "LaTeX is a typesetting language for producing scientific documents. Click run on the next cell to see an example of this\n",
    "\n",
    "MathJax Documentation: https://www.mathjax.org/ More on LaTeX: https://www.latex-project.org/"
   ]
  },
  {
   "cell_type": "markdown",
   "metadata": {},
   "source": [
    "An example of an equation written in LaTeX:\n",
    "\n",
    "$F(k) = \\int_{-\\infty}^{\\infty} f(x) e^{2\\pi i k} dx$\n"
   ]
  },
  {
   "cell_type": "markdown",
   "metadata": {},
   "source": [
    "### iii. Raw Cells"
   ]
  },
  {
   "cell_type": "markdown",
   "metadata": {},
   "source": [
    "Raw Cells, unlike all other Jupyter Notebook cells, have no input-output distinction. This means that Raw Cells cannot be rendered into anything other than what they already are. If you click the run button in your tool bar with a Raw Cell selected, the cell will remain exactly as is and your Jupyter Notebook will automatically select the cell directly below it. Raw cells have no style options, just the same monospace font that you use in all other unrendered Notebook cells. You cannot bold, italicize, or enlarge any text or characters in a Raw Cell. \n",
    "\n",
    "Because they have no rendered form, Raw Cells are mainly used to create examples. If you save and close your Notebook and then reopen it, all of the Code, Markdown, and Header Cells will automatically render in whatever form you left them when you first closed the document. This means  that if you wanted to preserve the unrendered version of a cell, say if you were writing a computer science paper and needed code examples, or if you were writing [documentation on how to use Markdown] [writing markdown] and needed to demonstrate what input would yield which output, then you might want to use a Raw Cell to make sure your examples stayed in their most useful form. \n",
    "\n",
    "[writing markdown]: #4.-Using-Markdown-Cells-for-Writing \"Using Markdown Cells for Writing\""
   ]
  },
  {
   "cell_type": "markdown",
   "metadata": {},
   "source": [
    "### iv. Header Cells"
   ]
  },
  {
   "cell_type": "markdown",
   "metadata": {},
   "source": [
    "While it is possible to organize your document using Markdown headers, Header Cells provide a more deeply structural organization for your Notebook and thus there are several advantages to using them."
   ]
  },
  {
   "cell_type": "code",
   "execution_count": null,
   "metadata": {},
   "outputs": [],
   "source": []
  },
  {
   "cell_type": "markdown",
   "metadata": {},
   "source": [
    "## 2. What is Python"
   ]
  },
  {
   "cell_type": "markdown",
   "metadata": {},
   "source": [
    "Python is a general purpose programming language that has been under development for over 25 years.\n",
    "\n",
    "__Python is Simple__\n",
    "Python is a simple and minimalistic language. Well written code almost resembles reading English. This allows you to focus more on developing the solution to a problem as opposed to the syntax itself. This makes Python easier to learn. Since you never have to manage lower levels details such as managing the memory used by your program Python is referred to as High-level language\n",
    "\n",
    "Python has four main coding styles adding to its flexibility as a programming language; i.) functional, ii.) imperative, iii.) object-oriented and iv.) procedural\n",
    "\n",
    "Ok, so lets break that down a bit further\n",
    "\n",
    "**Functional**\n",
    "So while python it not a functional language it has some functional features.\n",
    "\n",
    "These features include; first class functions and list comprehension to name a few. Don't worry too much about these features as some will be explained in greater detail at a later stage.\n",
    "\n",
    "Functional programming is called functional programming because its fundamental operation is the application of functions to arguments. This involves thinking about software construction by creating functions. For the time being you do not necessarily need to know more about this. However, if you are keen to build a stronger understanding of this here are a few sources for further reading:\n",
    "\n",
    "* What is functional programming? Tutorial with Example https://www.guru99.com/functional-programming-tutorial.html#2\n",
    "* An Introduction to the basic principles of Functional programming - https://www.freecodecamp.org/news/an-introduction-to-the-basic-principles-of-functional-programming-a2c2a15c84/\n",
    "* Why isn't Python very good for functional programming - https://stackoverflow.com/questions/1017621/why-isnt-python-very-good-for-functional-programming\n",
    "\n",
    "**Imperative**\n",
    "\n",
    "Imperative programming allows for the execution of commands in a step by step manner, similar to a series of verbal commands. Using this programming paradigm allows for quickly written and very simple elegant code. To put it in another way, an imperative languages allows the programmer to use a sequence of statements to determine how to reach a certain goal.\n",
    "\n",
    "**Object Oriented**\n",
    "\n",
    "This refers to concept of treating everything as an object (favoring code resue) that can only be manipulated through prescribed methods.\n",
    "\n",
    "As this concept can be confusing to beginners it will be dealt with at a later stage\n",
    "\n",
    "**Procedural**\n",
    "This refers to tasks being treated as step by step iterations where common tasks are placed as functions that are called as needed\n",
    "\n",
    "\n",
    "**Python Reference**:\n",
    "\n",
    "\n",
    "\n",
    "* https://docs.python.org/3.7/reference/\n"
   ]
  },
  {
   "cell_type": "code",
   "execution_count": null,
   "metadata": {},
   "outputs": [],
   "source": []
  },
  {
   "cell_type": "markdown",
   "metadata": {},
   "source": [
    "## 3. Statements"
   ]
  },
  {
   "cell_type": "markdown",
   "metadata": {},
   "source": [
    "Programs in Python consist of lines of code that are composed of statements. A statement can be:\n",
    "\n",
    "* a single expression\n",
    "* an assignment\n",
    "* a function call\n",
    "* a function definition\n",
    "* a statement; statement"
   ]
  },
  {
   "cell_type": "markdown",
   "metadata": {},
   "source": [
    "### 3i.) Expressions"
   ]
  },
  {
   "cell_type": "markdown",
   "metadata": {},
   "source": [
    "Expressions represent some"
   ]
  },
  {
   "cell_type": "markdown",
   "metadata": {},
   "source": [
    "Source:\n",
    "\n",
    "i.) https://www.math.ubc.ca/~pwalls/math-python/jupyter/latex/\n",
    "\n",
    "ii.) https://medium.com/datacamp/jupyter-notebook-tutorial-the-definitive-guide-660c7e651ecd#.6eaagkurd\n",
    "\n",
    "iii.) https://python101.pythonlibrary.org/part_i.html\n",
    "\n",
    "iv.) https://python.swaroopch.com/about_python.html\n",
    "\n",
    "v.) https://opensource.com/article/19/10/python-programming-paradigms"
   ]
  },
  {
   "cell_type": "code",
   "execution_count": null,
   "metadata": {},
   "outputs": [],
   "source": [
    "3. Statements"
   ]
  }
 ],
 "metadata": {
  "kernelspec": {
   "display_name": "Python 3",
   "language": "python",
   "name": "python3"
  },
  "language_info": {
   "codemirror_mode": {
    "name": "ipython",
    "version": 3
   },
   "file_extension": ".py",
   "mimetype": "text/x-python",
   "name": "python",
   "nbconvert_exporter": "python",
   "pygments_lexer": "ipython3",
   "version": "3.7.4"
  }
 },
 "nbformat": 4,
 "nbformat_minor": 2
}
