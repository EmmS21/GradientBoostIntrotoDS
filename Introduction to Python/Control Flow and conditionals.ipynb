{
 "cells": [
  {
   "cell_type": "markdown",
   "metadata": {},
   "source": [
    "## Conditionals"
   ]
  },
  {
   "cell_type": "markdown",
   "metadata": {},
   "source": [
    "We already dealt with boolean values in the previous notebook. As mentioned boolean values are either True or False. You can sue this to test conditions between expressions and programs. You can also use what is referred as conditional statements. Such statements give us the ability to check certain conditions and alter the behaviour of our program based on conditions.\n"
   ]
  },
  {
   "cell_type": "markdown",
   "metadata": {},
   "source": [
    "### 1. The If Statement"
   ]
  },
  {
   "cell_type": "markdown",
   "metadata": {},
   "source": [
    "One of the simplest conditional statement is an if statement. The logic of an if statement is actually quite intutitive. Let's imagine a scenario where you have to decide whether you go to the store with an umbrella or without one. If the weather is good ie. If it is not raining you probably would not need to carry an umbrella, if on the other hand it is raining you would need to carry an umbrella.\n",
    "\n",
    "This is how an if statement works the if statement consists of a header line. This line begins with the keyword if followed by the boolean expression you are testing. So in this instance it would be whether it is raining. The next line would then consist of the statement that would need to be executed if the boolean expression is True.\n",
    "\n",
    "You would then have an else clause which would be along with the statement that would need to be evaluated if the boolean expression evalutes to False.\n",
    "\n",
    "Let's look at a practical example"
   ]
  },
  {
   "cell_type": "code",
   "execution_count": 1,
   "metadata": {},
   "outputs": [
    {
     "data": {
      "text/plain": [
       "'Do not carry umbrella'"
      ]
     },
     "execution_count": 1,
     "metadata": {},
     "output_type": "execute_result"
    }
   ],
   "source": [
    "rain = False #it is not raining, therefore we assign False to rain\n",
    "umbrella = '' #we assign an empty string to the variable umbrella\n",
    "if rain:\n",
    "    umbrella = 'Carry umbrella'\n",
    "else:\n",
    "    umbrella = 'Do not carry an umbrella'\n",
    "umbrella "
   ]
  },
  {
   "cell_type": "markdown",
   "metadata": {},
   "source": [
    "Since we predefined the rain variable as False, the statement under the else clause will be executed and the variable umbrella will be assigned with the string 'Do not carry an umbrella'.\n",
    "\n",
    "Now let's imagine a scenario where we want to carry an umbrella if it is raining, wear a hat if it is sunny and wear a jacket if it is cold. In this scenario we have three conditions, the weather can either be hot, cold or rainy for each condition we will need to execute a different statement.\n",
    "\n",
    "In order to do this we would need to use a chained conditional. A chained conditional would consist of an if clause, elif clause (or multiple) and if required an else clause. The statement under the else clause would be executed if none of the neither if none of the conditions in the if and elif clauses have been met. You never have to explicitly define the condition that will need to be met for the statement under the else clause to execute. \n",
    "\n",
    "Let's look at a practical example. This time we are going to create a function that takes in a weather argument and then define our a chained conditional to execute a statement based on the weather"
   ]
  },
  {
   "cell_type": "code",
   "execution_count": 5,
   "metadata": {},
   "outputs": [
    {
     "name": "stdout",
     "output_type": "stream",
     "text": [
      "I need to wear a hat\n",
      "I need to carry an umbrella\n",
      "I need to wear a jacket\n",
      "I do not need an umbrella, jacket or hat\n"
     ]
    }
   ],
   "source": [
    "def clothing(weather):\n",
    "    if weather == 'rain':#we use a comparison operator to check if the weather argument evaluates to true for the string rain\n",
    "        print('I need to carry an umbrella')\n",
    "    elif weather == 'sun':\n",
    "        print('I need to wear a hat')\n",
    "    elif weather == 'cold':\n",
    "        print('I need to wear a jacket')\n",
    "    else:\n",
    "        print('I do not need an umbrella, jacket or hat')\n",
    "clothing(weather='sun') # I assign the value sun to the weather variable which will also serve as the argument in our function\n",
    "clothing(weather='rain')\n",
    "clothing(weather='cold')\n",
    "clothing(weather='normal')\n",
    "    "
   ]
  },
  {
   "cell_type": "markdown",
   "metadata": {},
   "source": [
    "Its important to note that a chained conditional is different from multiple if statements. A chained conditional is treated as a unit and the conditional will stop the moment statement associated with the first matched condition is executed. However multiple if statements are treated individually. \n",
    "\n",
    "Let's use an example to illustrate this. Assume a is 1, b is 2 and c is 3, what would happen if we write multiple if statements to test each condition"
   ]
  },
  {
   "cell_type": "code",
   "execution_count": 6,
   "metadata": {},
   "outputs": [
    {
     "name": "stdout",
     "output_type": "stream",
     "text": [
      "1\n",
      "2\n",
      "3\n"
     ]
    }
   ],
   "source": [
    "a = 1\n",
    "b = 2\n",
    "c = 3\n",
    "if a == 1:\n",
    "    print(a)\n",
    "if b == 2:\n",
    "    print(b)\n",
    "if c == 3:\n",
    "    print(c)"
   ]
  },
  {
   "cell_type": "markdown",
   "metadata": {},
   "source": [
    "Since all these conditions are true, unlike with a chained conditional, each if statement will be treated individually and since all the conditions are true, all the associated statements will be executed."
   ]
  },
  {
   "cell_type": "markdown",
   "metadata": {},
   "source": [
    "### 2 While Statements"
   ]
  },
  {
   "cell_type": "markdown",
   "metadata": {},
   "source": [
    "#### 1.1 Problem solving using if statements.\n"
   ]
  },
  {
   "cell_type": "markdown",
   "metadata": {},
   "source": [
    "**Question**\n",
    "\n",
    "Write a function named sleep_in that takes the arguments weekday and vacation. If the day the parameter weekday or vacation is True return the value True, if either parameters evaluate to False return the value False.\n",
    "\n",
    "**Answer**\n",
    "\n",
    "Let's think about this problem for a while.\n",
    "\n",
    "We want to create a function that will check whether the arguments weekday and vacation evalute to True or False. \n",
    "\n",
    "* We need to start off by defining a function and naming it sleep_in\n",
    "* We need to include the arguments weekday and vacation\n",
    "* We need to find out whether these arguments evaluate to True or False.\n",
    "* If either of the values evaluate to True we need to execute a statement that will return the value True\n",
    "* If the values evaluate to False we need to execute a statement that will return the value False\n",
    "\n",
    "Let's write this logic out in Python"
   ]
  },
  {
   "cell_type": "code",
   "execution_count": 13,
   "metadata": {},
   "outputs": [
    {
     "name": "stdout",
     "output_type": "stream",
     "text": [
      "True\n",
      "False\n"
     ]
    }
   ],
   "source": [
    "def sleep_in(weekday,vacation):\n",
    "    if weekday or vacation: #we do not need to explicitly compare the arguments weekday or vacation to the boolean values. If either statement is True, the following statement will be executed\n",
    "        return True\n",
    "    else:\n",
    "        return False\n",
    "print(sleep_in(weekday=True,vacation=False))\n",
    "print(sleep_in(weekday=False,vacation=False))"
   ]
  },
  {
   "cell_type": "markdown",
   "metadata": {},
   "source": [
    "Since we want to compare either weekday or vacation to the boolean True, we need to use the or operator. Since there are only two conditions (either weekday or vacation evaluate to True or they do not), we only need to define an if else statement as opposed to an if elif else statement.\n",
    "\n",
    "Let's look at another example\n",
    "\n",
    "**Question** \n",
    "\n",
    "For a random number between 1 and 100, depending on whether the number is even or odd print out a message to the user indicating whether the number chosen is odd or even. However if the number if 4 print out a different message.\n",
    "\n",
    "**Answer**\n",
    "\n",
    "* We first need to know how to select a random whole number between the specified range of 1 - 100. Since the number has to be a whole number it must be an integer.\n",
    "* At this point if we do not know how to do this, we would research it and find out that the random library has functions that could allow us to generate a pseudo random number. Read more about this here: https://docs.python.org/3/library/random.html\n",
    "* In order to use functions in a library we need to first import the library into our notebook. You can read more about this: https://www.digitalocean.com/community/tutorials/how-to-import-modules-in-python-3 \n",
    "* We would then use the random.randint() function to generate a random integer\n",
    "* We need to store this integer in a variable\n",
    "* Since all even numbers are divisible by 2, we need to use a comparion operator to check whether the number is divisible by 2. If this is the case we want to print out a statement indicating that the number is an even number. We can use the modulo operator ('%'). This will return the remainder of the value after dividing the left hand value/operand by the right hand operand. If this value is 0 we know that the number is divisible by 2 with no remainder, therefore it is an even number. You can read more about the modulo operator here: https://www.freecodecamp.org/news/the-python-modulo-operator-what-does-the-symbol-mean-in-python-solved/\n",
    "* Since we specifically want to print a different message if the value is 4. We need to explicitly exclude the number 4 from the first if statement\n",
    "* We need to use elif to check if the number is 4, if the number is 4, we need to print a different message.\n",
    "* If the number selected does not match any of the prior conditions we know that it is an odd number and we would need to print a message indicating that the number selected by the user is false.\n"
   ]
  },
  {
   "cell_type": "code",
   "execution_count": 7,
   "metadata": {},
   "outputs": [
    {
     "name": "stdout",
     "output_type": "stream",
     "text": [
      "You have picked an odd number.The number you picked is 85\n"
     ]
    }
   ],
   "source": [
    "import random\n",
    "selected = random.randint(1,100)\n",
    "if selected % 2 == 0 and selected != 4:\n",
    "    print('You have picked an even number. The number you picked is {}'.format(selected))\n",
    "elif selected == 4:\n",
    "    print('You have picked the number 4.The number you picked is {}'.format(selected))\n",
    "else:\n",
    "    print('You have picked an odd number.The number you picked is {}'.format(selected))\n"
   ]
  },
  {
   "cell_type": "code",
   "execution_count": null,
   "metadata": {},
   "outputs": [],
   "source": []
  },
  {
   "cell_type": "markdown",
   "metadata": {},
   "source": [
    "### 2 While Statements"
   ]
  },
  {
   "cell_type": "markdown",
   "metadata": {},
   "source": [
    "A while statement lets you repeatedly execute a line or multiples lines of code as long as a condition evaluates and continues to evaluate to True. Let's demonstrate how this works using a practical example:\n",
    "\n",
    "Lets assume own a car, your car takes 50 litres of fuel. One day you decide to fill up your car, you give the fuel attendant the instruction to fill up your tank. The fuel attendant filling you tank up with fuel resembles the logic of a while loop. While your fuel tank is not full, the fuel attendant will continue to pump more fuel into your car. .\n",
    "\n",
    "Let's write this out in Python and let's assume we also want to know the length of time it took to fill our car, assuming it takes 3 seconds to pump 1 litre of fuel into our vehicle."
   ]
  },
  {
   "cell_type": "code",
   "execution_count": 16,
   "metadata": {},
   "outputs": [
    {
     "name": "stdout",
     "output_type": "stream",
     "text": [
      "The fuel attendant was able to fill you tank up to 50 litres in 120 seconds\n"
     ]
    }
   ],
   "source": [
    "full = 50 # a full tank is 50 litres\n",
    "pace = 1 # let's assume the fuel attendant can only pump 1 litre of fuel into your car per 3 second\n",
    "current_fuel = 10 # your car currently has 10 litres of fuel\n",
    "time_to_fill = 0\n",
    "while current_fuel != full:\n",
    "    current_fuel += pace #+= simply adds the value of pace to current fuel\n",
    "    time_to_fill +=3\n",
    "print('The fuel attendant was able to fill you tank up to {} litres in {} seconds'.format(current_fuel,time_to_fill))"
   ]
  },
  {
   "cell_type": "markdown",
   "metadata": {},
   "source": [
    "In the while loop in Python the test expression is always evaluated in the beginning, this means that the program will only execute the body of the loop if the test expression evaluates to a True condition. The body of the loop will continue to be evaluated +1 times until the test expression does not evaluate to True. Because of the nature of a while loop if we do not a termination point, we will get an infinite loop that continues to run infinitely. A termination point refers to a point where the while loop evaluates as False and seizes to run.\n",
    "\n",
    "An example of an infinite loop would resemble this:\n",
    "while True:\n",
    " print('Hello')\n",
    " \n",
    "Since there is no termination point and the test expression will always evaluate to True, the while loop will continue to execute the body of the loop, until your computer crashes.\n",
    "\n",
    "We have also introduced a something that you may not be aware of yet. '{}.format'\n",
    "\n",
    "This is known as a string formatting method that allows you to make multiple substitutions and value formatting. The curly brackets act as a placeholder that will be replaced by the corresponding value inside format(). In this example we used multiple pairs of curly brackets. The placeholders for each are replaced by the values in the order you have placed them inside format().\n",
    "\n",
    "\n",
    "We strongly recommend you read the following sources to learn more about while loops:\n",
    "* Chapter 3.3 While Statements - Hands on Python Tutorial http://anh.cs.luc.edu/handsonPythonTutorial/whilestatements.html\n",
    "* Control Flow https://python.swaroopch.com/control_flow.html\n"
   ]
  },
  {
   "cell_type": "code",
   "execution_count": 22,
   "metadata": {},
   "outputs": [
    {
     "name": "stdout",
     "output_type": "stream",
     "text": [
      "The fuel attendant was able to fill you tank up to 50 litres in 120 seconds. The total cost of this is 49\n"
     ]
    }
   ],
   "source": [
    "full = 50 \n",
    "pace = 1 \n",
    "current_fuel = 10 \n",
    "time_to_fill = 0\n",
    "while current_fuel != full:\n",
    "    to_pay = current_fuel \n",
    "    current_fuel += pace\n",
    "    time_to_fill +=3\n",
    "print('The fuel attendant was able to fill you tank up to {} litres in {} seconds. The total cost of this is {}'.format(current_fuel,time_to_fill,to_pay))"
   ]
  },
  {
   "cell_type": "code",
   "execution_count": 18,
   "metadata": {},
   "outputs": [
    {
     "data": {
      "text/plain": [
       "50"
      ]
     },
     "execution_count": 18,
     "metadata": {},
     "output_type": "execute_result"
    }
   ],
   "source": [
    "full"
   ]
  },
  {
   "cell_type": "code",
   "execution_count": null,
   "metadata": {},
   "outputs": [],
   "source": []
  }
 ],
 "metadata": {
  "kernelspec": {
   "display_name": "Python 3",
   "language": "python",
   "name": "python3"
  },
  "language_info": {
   "codemirror_mode": {
    "name": "ipython",
    "version": 3
   },
   "file_extension": ".py",
   "mimetype": "text/x-python",
   "name": "python",
   "nbconvert_exporter": "python",
   "pygments_lexer": "ipython3",
   "version": "3.7.4"
  }
 },
 "nbformat": 4,
 "nbformat_minor": 2
}
