{
 "cells": [
  {
   "cell_type": "markdown",
   "metadata": {},
   "source": [
    "# 1. Handling files in Python"
   ]
  },
  {
   "cell_type": "markdown",
   "metadata": {},
   "source": [
    "Working with files in Python is very similar to working with a book in the physical world. When you want to get something from a book you have to open it, you can either read it in its natural order or skip some lines and pages or you can write on it.\n",
    "\n",
    "The same rules apply to files in Python. You can opt to open a file by referencing its name and then indicating whether you want to read from the file or write to it.\n",
    "\n",
    "A file in Python is named location used to permanently store some information.\n",
    "\n",
    "Let's start off with writing into a file\n",
    "\n",
    "In order to write to a file we first need to open the file. You can open a file using the inbuilt open() function"
   ]
  },
  {
   "cell_type": "code",
   "execution_count": 5,
   "metadata": {},
   "outputs": [
    {
     "data": {
      "text/plain": [
       "<_io.TextIOWrapper name='file.txt' mode='r' encoding='cp1252'>"
      ]
     },
     "execution_count": 5,
     "metadata": {},
     "output_type": "execute_result"
    }
   ],
   "source": [
    "file = open('file.txt')\n",
    "file"
   ]
  },
  {
   "cell_type": "markdown",
   "metadata": {},
   "source": [
    "From this we can see that the default if we don't specify the mode is read.\n",
    "\n",
    "We can also specify the mode we want to engage our file with. For example do we want to read from the file, append new text to the file or write to the file. Let's see what happens when we try and write to the file after opening it"
   ]
  },
  {
   "cell_type": "code",
   "execution_count": 6,
   "metadata": {},
   "outputs": [
    {
     "data": {
      "text/plain": [
       "<_io.TextIOWrapper name='file.txt' mode='w' encoding='cp1252'>"
      ]
     },
     "execution_count": 6,
     "metadata": {},
     "output_type": "execute_result"
    }
   ],
   "source": [
    "file = open('file.txt','w')\n",
    "file"
   ]
  },
  {
   "cell_type": "markdown",
   "metadata": {},
   "source": [
    "You can also specify the type of encoding. The default is dependant on the platform you are using. If you are using the default will be 'cp1252' whereas if you are using Linux the default will be 'utf-8'.\n",
    "\n",
    "Now let's try and read a few lines from the file. We can read by specifying the number of characters we want to read from the file we have opened. Let us try and read the first three characters from our file"
   ]
  },
  {
   "cell_type": "code",
   "execution_count": 20,
   "metadata": {},
   "outputs": [
    {
     "data": {
      "text/plain": [
       "'Two'"
      ]
     },
     "execution_count": 20,
     "metadata": {},
     "output_type": "execute_result"
    }
   ],
   "source": [
    "file = open('file.txt')\n",
    "file.read(3)"
   ]
  },
  {
   "cell_type": "markdown",
   "metadata": {},
   "source": [
    "We can also choose to read the entire file in one go. We can do this by leaving out the number inside the brackets specifying the length of characters we want to read"
   ]
  },
  {
   "cell_type": "code",
   "execution_count": 22,
   "metadata": {},
   "outputs": [
    {
     "data": {
      "text/plain": [
       "'Two men went bear hunting. While one stayed in the cabin, the other went out looking for a bear. He soon found a huge bear, shot at it but only wounded it. The enraged bear charged toward him, he dropped his rifle and started running for the cabin as fast as he could.\\nHe ran pretty fast but the bear was just a little faster and gained on him with every step. Just ashe reached the open cabin door, he tripped and fell flat. Too close behind to stop, the bear tripped over him and went rolling into the cabin.\\nThe man jumped up, closed the cabin door and yelled to his friend inside, \"You skin this one while I go and get another one!\"'"
      ]
     },
     "execution_count": 22,
     "metadata": {},
     "output_type": "execute_result"
    }
   ],
   "source": [
    "file = open('file.txt')\n",
    "file.read()"
   ]
  },
  {
   "cell_type": "markdown",
   "metadata": {},
   "source": [
    "Once you have opened the file you can also opt to use a loop to read the file line by line. This can work either with a while statement or a for loop.\n",
    "\n",
    "With a while statement you can read each line in the file until there are no lines remaining. Let's look at a practical example of this."
   ]
  },
  {
   "cell_type": "code",
   "execution_count": 36,
   "metadata": {},
   "outputs": [
    {
     "name": "stdout",
     "output_type": "stream",
     "text": [
      "Two men went bear hunting. While one stayed in the cabin, the other went out looking for a bear. He soon found a huge bear, shot at it but only wounded it. The enraged bear charged toward him, he dropped his rifle and started running for the cabin as fast as he could.\n",
      "/nHe ran pretty fast but the bear was just a little faster and gained on him with every step. Just ashe reached the open cabin door, he tripped and fell flat. Too close behind to stop, the bear tripped over him and went rolling into the cabin.\n",
      "/nThe man jumped up, closed the cabin door and yelled to his friend inside, \"You skin this one while I go and get another one!\"/n"
     ]
    }
   ],
   "source": [
    "file = open('file.txt')\n",
    "while True:\n",
    "    line = file.readline()\n",
    "    if len(line) == 0:\n",
    "        break\n",
    "    print(line,end=\"\")\n",
    "file.close()"
   ]
  },
  {
   "cell_type": "markdown",
   "metadata": {},
   "source": [
    "With this while statement we start off by opening the file 'file.txt'. Once open we start reading each individual line using the readline() method. This method reads one entire line from our file. We then look at the length of the line with the inbuilt len() function. This function returns the length of a string, array, list or tuple. If the length of the line in this instance is 0 we break the while loop to ensure we don't continually reading from the while when we run out of lines.\n",
    "\n",
    "Generally speaking it is good practice to close a file once we are done using it.\n",
    "\n",
    "If you are using a with statement to open and read from your file, you do not need to close your file as the with statement will take care of closing the file for you. Here is an example"
   ]
  },
  {
   "cell_type": "code",
   "execution_count": 37,
   "metadata": {},
   "outputs": [
    {
     "name": "stdout",
     "output_type": "stream",
     "text": [
      "Two men went bear hunting. While one stayed in the cabin, the other went out looking for a bear. He soon found a huge bear, shot at it but only wounded it. The enraged bear charged toward him, he dropped his rifle and started running for the cabin as fast as he could.\n",
      "\n",
      "He ran pretty fast but the bear was just a little faster and gained on him with every step. Just ashe reached the open cabin door, he tripped and fell flat. Too close behind to stop, the bear tripped over him and went rolling into the cabin.\n",
      "\n",
      "The man jumped up, closed the cabin door and yelled to his friend inside, \"You skin this one while I go and get another one!\"\n"
     ]
    }
   ],
   "source": [
    "with open('file.txt') as file:\n",
    "    for line in file:\n",
    "        print(line)"
   ]
  },
  {
   "cell_type": "markdown",
   "metadata": {},
   "source": [
    "###  1.1 Writing in a file"
   ]
  },
  {
   "cell_type": "markdown",
   "metadata": {},
   "source": [
    "Now let's imagine a scenario where you want to write some text to the file using the write() method. You may either want to create a new file and write some text to it or to write to an existing file.\n",
    "\n",
    "Let's start off by opening our current file and writing new text onto it. In this case you are trying to append text to an existing file, in order to do this you would need to add a to your open statement. If you are bit confused about this. You might find this resource helpful: http://book.pythontips.com/en/latest/open_function.html"
   ]
  },
  {
   "cell_type": "code",
   "execution_count": 38,
   "metadata": {},
   "outputs": [],
   "source": [
    "with open('file.txt','a') as file:\n",
    "    file.write('How would you respond if you were the friend')\n"
   ]
  },
  {
   "cell_type": "markdown",
   "metadata": {},
   "source": [
    "Let's recap on what we just did. We opened the file file.txt with the intention of appending some new text to it. We want to add this new line at the end of the file.\n",
    "\n",
    "**What if I want to prepend a line of text to the beginning of a file?**\n",
    "\n",
    "'a' and 'a+' modes only allow you to append some text to the end of the file. The pointer moves to the end of the file before any writing is done. If you want to prepend some text at some other point than the end of the file here is an example of what you could do"
   ]
  },
  {
   "cell_type": "code",
   "execution_count": 50,
   "metadata": {},
   "outputs": [
    {
     "name": "stdout",
     "output_type": "stream",
     "text": [
      "This is not based on a real life: \n",
      " stayed in the cabin, the other went out looking for a bear. He soon found a huge bear, shot at it but only wounded it. The enraged bear charged toward him, he dropped his rifle and started running for the cabin as fast as he could.\n",
      "He ran pretty fast but the bear was just a little faster and gained on him with every step. Just ashe reached the open cabin door, he tripped and fell flat. Too close behind to stop, the bear tripped over him and went rolling into the cabin.\n",
      "The man jumped up, closed the cabin door and yelled to his friend inside, \"You skin this one while I go and get another one!\"How would you respond if you were the friend\n"
     ]
    }
   ],
   "source": [
    "with open('file.txt','r+') as file:\n",
    "    file.write('This is not based on a real life:')\n",
    "    file.seek(0)\n",
    "    content =  file.read()\n",
    "    print(content)"
   ]
  },
  {
   "cell_type": "markdown",
   "metadata": {},
   "source": [
    "Writing to a new file is a lot easier. To create a new txt file we need to specify the name of the new file in our open() statement and then select the write mode to write next to this new file. "
   ]
  },
  {
   "cell_type": "code",
   "execution_count": 53,
   "metadata": {},
   "outputs": [],
   "source": [
    "with open('newfile.txt','w') as file:\n",
    "    file.write('This is a new file \\n We are adding spaces between each sentence using backslash n.')\n"
   ]
  },
  {
   "cell_type": "markdown",
   "metadata": {},
   "source": [
    "When we write next text to the file we can use \\n to add a line between sentences.\n",
    "\n",
    "Let's take a look at what our file looks like"
   ]
  },
  {
   "cell_type": "code",
   "execution_count": 55,
   "metadata": {},
   "outputs": [
    {
     "name": "stdout",
     "output_type": "stream",
     "text": [
      "This is a new file \n",
      "\n",
      " We are adding spaces between each sentence using backslash n.\n"
     ]
    }
   ],
   "source": [
    "with open('newfile.txt') as file:\n",
    "    for line in file:\n",
    "        print(line)"
   ]
  },
  {
   "cell_type": "markdown",
   "metadata": {},
   "source": [
    "We strongly recommend that you read these sources to further develop your understanding of file handling in Python\n",
    "\n",
    "Sources:\n",
    "* i.) Chapter 13, How to think like a computer scientists: Learning with Python 3 - http://openbookproject.net/thinkcs/python/english3e/files.html\n",
    "* ii.) Working with file I/O in Python - https://dbader.org/blog/python-file-io"
   ]
  },
  {
   "cell_type": "markdown",
   "metadata": {},
   "source": [
    "# 2. Introduction to Pandas"
   ]
  },
  {
   "cell_type": "markdown",
   "metadata": {},
   "source": [
    "Pandas in Python stands for \"Python Data Analysis Library\" From the name you can probably already guess that this language is very important for work involving data analysis, data cleanup and data exploration. For this portion of the notebook we are going to focus on introducing what the Pandas library can do, its background and how it can be used using a real dataset to give you a practical understanding of how you can use the library.\n",
    "\n",
    "Pandas has a lot of use cases ranging from computing statistics (averages, correlation, median etc), cleaning up data, visualizing the data with the help of Matplotlib, store cleaning and transforming data and machine learning with the help of other packages such as Keras and Sklearn. We won't however be getting into data visualization or machine learning in this course as this will be dealt with separately\n",
    "\n",
    "You can read more about Pandas on Pydata.org: https://pandas.pydata.org/about/index.html\n",
    "\n",
    "**How to use Pandas library**\n",
    "\n",
    "Using pandas in Python is a relatively simple process. You can gain access of the library by using the import statement in Python. Aside from built in functions and basic types, you cannot use something in Python without first defining it. This means that you will not be able to use a function in pandas uunless it has been defined. Importing the pandas library to our notebook makes the entire package and all its functions accessible in our current scope, which then allows you to use pandas functions.\n",
    "\n",
    "If you are interesting in understanding how the import statement works you can read more from here: https://www.codementor.io/@sheena/python-path-virtualenv-import-for-beginners-du107r3o1\n",
    "\n",
    "Typically we import a package like pandas with an alias, this alias is often 'pd'. The reason we do this is so we can access a function in pandas using the much shorter form of pd.function as opposed to pandas.function. The alias is somewhat arbitrary but is used so often that it will probably be a lot easier for the person who will be reading your code if you import your pandas with the alias pd. Let's have a look at how we can do this."
   ]
  },
  {
   "cell_type": "code",
   "execution_count": null,
   "metadata": {},
   "outputs": [],
   "source": [
    "import pandas as pd"
   ]
  },
  {
   "cell_type": "markdown",
   "metadata": {},
   "source": [
    "If you cannot importpandas and get the error message ModuleNotFoundError this means that you may need to install the module. One way to install packages in Python is by using pip. The pip command is a Python tool for installing and managing packages.\n",
    "\n",
    "You can read more about pip here: https://pip.pypa.io/en/stable/\n",
    "\n",
    "Alternatively you could also use conda, which is an environment manager that installs and manages conda packages from the Anaconda reposiroty and Anaconda Cloud. You should however be able to install python by simply typing in pip install pandas on your notebook\n",
    "\n",
    "**NumPy**\n",
    "\n",
    "In most cases you will also need to import the numpy library to support computations you will be carrying on using Pandas. You can think of numpy as pandas best friend. NumPy is a package typically associated with scientific and mathematical computing in Python.\n",
    "\n",
    "You can read more about NumPy here: https://docs.scipy.org/doc/numpy/user/whatisnumpy.html\n",
    "\n",
    "Now let's import numpy with the alias np"
   ]
  },
  {
   "cell_type": "code",
   "execution_count": 2,
   "metadata": {},
   "outputs": [],
   "source": [
    "import numpy as np"
   ]
  },
  {
   "cell_type": "markdown",
   "metadata": {},
   "source": [
    "## 2.1 The DataFrame"
   ]
  },
  {
   "cell_type": "markdown",
   "metadata": {},
   "source": [
    "According to the technical definition a Pandas DataFrame is a 2-dimensional labeled data structure with columns of potentially different types. Labeled in this context means that the columns and rows are labeled.\n",
    "\n",
    "**What does this mean**\n",
    "\n",
    "You can think of a pandas dataframe as something similar to an excel spreadsheet. The dataframe are a method of storing data in a tabular format with rows and columns. The columns could be different types. Meaning you can store data that is a mixture of strings and numbers (or other datatypes).\n",
    "\n",
    "Dataframes consist of three principal components; the data, index and the columns. You can think of the index as an address of sort tha points out where particular data can be accessed. Both rows and columns have indexes. Row indexes are called as index while for columns the index is the column names.\n",
    "\n",
    "You can either create a new dataframe, create a dataframe from a list,list of lists or dictionary of data or import data into your jupyter as a dataframe. Let's start by creating dataframes from a list \n"
   ]
  },
  {
   "cell_type": "code",
   "execution_count": 9,
   "metadata": {},
   "outputs": [
    {
     "data": {
      "text/html": [
       "<div>\n",
       "<style scoped>\n",
       "    .dataframe tbody tr th:only-of-type {\n",
       "        vertical-align: middle;\n",
       "    }\n",
       "\n",
       "    .dataframe tbody tr th {\n",
       "        vertical-align: top;\n",
       "    }\n",
       "\n",
       "    .dataframe thead th {\n",
       "        text-align: right;\n",
       "    }\n",
       "</style>\n",
       "<table border=\"1\" class=\"dataframe\">\n",
       "  <thead>\n",
       "    <tr style=\"text-align: right;\">\n",
       "      <th></th>\n",
       "      <th>numbers</th>\n",
       "    </tr>\n",
       "  </thead>\n",
       "  <tbody>\n",
       "    <tr>\n",
       "      <td>0</td>\n",
       "      <td>1</td>\n",
       "    </tr>\n",
       "    <tr>\n",
       "      <td>1</td>\n",
       "      <td>2</td>\n",
       "    </tr>\n",
       "    <tr>\n",
       "      <td>2</td>\n",
       "      <td>3</td>\n",
       "    </tr>\n",
       "    <tr>\n",
       "      <td>3</td>\n",
       "      <td>4</td>\n",
       "    </tr>\n",
       "    <tr>\n",
       "      <td>4</td>\n",
       "      <td>5</td>\n",
       "    </tr>\n",
       "    <tr>\n",
       "      <td>5</td>\n",
       "      <td>6</td>\n",
       "    </tr>\n",
       "    <tr>\n",
       "      <td>6</td>\n",
       "      <td>7</td>\n",
       "    </tr>\n",
       "  </tbody>\n",
       "</table>\n",
       "</div>"
      ],
      "text/plain": [
       "   numbers\n",
       "0        1\n",
       "1        2\n",
       "2        3\n",
       "3        4\n",
       "4        5\n",
       "5        6\n",
       "6        7"
      ]
     },
     "execution_count": 9,
     "metadata": {},
     "output_type": "execute_result"
    }
   ],
   "source": [
    "nums = [1,2,3,4,5,6,7]\n",
    "pd.DataFrame(nums, columns= ['numbers'])"
   ]
  },
  {
   "cell_type": "markdown",
   "metadata": {},
   "source": [
    "In the above example we used pd.DataFrame() to create our dataframe, encasing our list inside our brackets.\n",
    "\n",
    "Since this list is a flat list of numbers, the data will be presented in our dataframe as a dataframe with one column and multiple rows. The rows will be equivalent to the length of the list. We also decided to name our columns numbers. You can also specify the index to be used for the dataframe we want to create using the index parameter. To get a full list of the available parameters in the pd.DataFrame() class you can read PyData.org for more information:\n",
    "https://pandas.pydata.org/pandas-docs/stable/reference/api/pandas.DataFrame.html\n",
    "\n",
    "Since a dataframe is generally used as an abstraction for data manipulation it is also possible to create a one dimensional labeled array that similarly to a dataframe is capable of holding any type of data. This is refered to as a pandas series. You can liken a pandas series to a column in an excel spreadhseet.  \n",
    "\n",
    "You can read more about this here: https://towardsdatascience.com/pandas-series-a-lightweight-intro-b7963a0d62a2\n",
    "\n",
    "Let us try and conver the list we just used in a pandas series"
   ]
  },
  {
   "cell_type": "code",
   "execution_count": 34,
   "metadata": {},
   "outputs": [
    {
     "data": {
      "text/plain": [
       "0    1\n",
       "1    2\n",
       "2    3\n",
       "3    4\n",
       "4    5\n",
       "5    6\n",
       "6    7\n",
       "dtype: int64"
      ]
     },
     "execution_count": 34,
     "metadata": {},
     "output_type": "execute_result"
    }
   ],
   "source": [
    "nums_series = pd.Series(nums)\n",
    "nums_series"
   ]
  },
  {
   "cell_type": "markdown",
   "metadata": {},
   "source": [
    "So now we know that we can convert a list or list of lists into a pandas dataframe or series (if it is a one dimensional list). You may be asking if we can also convert a dictionary to a pandas dataframe. If you have already read the links we supplied earlier you will know that the answer to this question is a yes.\n",
    "\n",
    "Now let us try and create a DataFrame from a dictionary"
   ]
  },
  {
   "cell_type": "code",
   "execution_count": 44,
   "metadata": {},
   "outputs": [
    {
     "data": {
      "text/html": [
       "<div>\n",
       "<style scoped>\n",
       "    .dataframe tbody tr th:only-of-type {\n",
       "        vertical-align: middle;\n",
       "    }\n",
       "\n",
       "    .dataframe tbody tr th {\n",
       "        vertical-align: top;\n",
       "    }\n",
       "\n",
       "    .dataframe thead th {\n",
       "        text-align: right;\n",
       "    }\n",
       "</style>\n",
       "<table border=\"1\" class=\"dataframe\">\n",
       "  <thead>\n",
       "    <tr style=\"text-align: right;\">\n",
       "      <th></th>\n",
       "      <th>names</th>\n",
       "      <th>numbers</th>\n",
       "    </tr>\n",
       "  </thead>\n",
       "  <tbody>\n",
       "    <tr>\n",
       "      <td>0</td>\n",
       "      <td>Olabisi</td>\n",
       "      <td>111-111-111</td>\n",
       "    </tr>\n",
       "    <tr>\n",
       "      <td>1</td>\n",
       "      <td>Iylian</td>\n",
       "      <td>222-222-222</td>\n",
       "    </tr>\n",
       "    <tr>\n",
       "      <td>2</td>\n",
       "      <td>Balogun a Amineet</td>\n",
       "      <td>333-333-333</td>\n",
       "    </tr>\n",
       "  </tbody>\n",
       "</table>\n",
       "</div>"
      ],
      "text/plain": [
       "               names      numbers\n",
       "0            Olabisi  111-111-111\n",
       "1             Iylian  222-222-222\n",
       "2  Balogun a Amineet  333-333-333"
      ]
     },
     "execution_count": 44,
     "metadata": {},
     "output_type": "execute_result"
    }
   ],
   "source": [
    "dictionary = {'Olabisi':'111-111-111','Iylian':'222-222-222','Balogun a Amineet':'333-333-333'}\n",
    "pd.DataFrame(dictionary.items(),columns=['names','numbers'])"
   ]
  },
  {
   "cell_type": "markdown",
   "metadata": {},
   "source": [
    "In the above example we start of by creating a dictionary with the a key value pair. We know that we can access all the values in the key by using the method .items(). We use this to assign the specify the values in our dataframe and then give our columns the appropriate names. Since a dictionary is a pair of data. A dictionary that isn't nested will create a dictionary with two columns. Even if we assign a list to the values of a key, we will only create a dataframe with two columns; one for the key and the other for the values. You can also opt to create an empty dataframe and append values to the dataframe at a later stage.\n",
    "\n",
    "Let's look at an example of this process. In this scenario we will create an empty dataframe, however we will predefine its dimensions, specifically the number and name of the columns in the dataframe"
   ]
  },
  {
   "cell_type": "code",
   "execution_count": 20,
   "metadata": {},
   "outputs": [
    {
     "data": {
      "text/html": [
       "<div>\n",
       "<style scoped>\n",
       "    .dataframe tbody tr th:only-of-type {\n",
       "        vertical-align: middle;\n",
       "    }\n",
       "\n",
       "    .dataframe tbody tr th {\n",
       "        vertical-align: top;\n",
       "    }\n",
       "\n",
       "    .dataframe thead th {\n",
       "        text-align: right;\n",
       "    }\n",
       "</style>\n",
       "<table border=\"1\" class=\"dataframe\">\n",
       "  <thead>\n",
       "    <tr style=\"text-align: right;\">\n",
       "      <th></th>\n",
       "      <th>A</th>\n",
       "      <th>B</th>\n",
       "      <th>C</th>\n",
       "    </tr>\n",
       "  </thead>\n",
       "  <tbody>\n",
       "    <tr>\n",
       "      <td>0</td>\n",
       "      <td>1</td>\n",
       "      <td>2</td>\n",
       "      <td>3</td>\n",
       "    </tr>\n",
       "  </tbody>\n",
       "</table>\n",
       "</div>"
      ],
      "text/plain": [
       "   A  B  C\n",
       "0  1  2  3"
      ]
     },
     "execution_count": 20,
     "metadata": {},
     "output_type": "execute_result"
    }
   ],
   "source": [
    "#we start off by creating an empty dataframe\n",
    "df = pd.DataFrame(columns=['A','B','C'])\n",
    "#then we append new rows\n",
    "df.loc[len(df)] = [1,2,3]\n",
    "df"
   ]
  },
  {
   "cell_type": "markdown",
   "metadata": {},
   "source": [
    "As indicated by the comments on our code, we start off by creating an empty dataframe. However, we also label the columns that will appear on this dataframe. We then use the loc[] method which is used to access rows by taking in an index and returning the relevant row if the index exists in our dataframe. \n",
    "\n",
    "We use the loc method to append to our dataframe by index; using the index equivalent to the length of the dataframe (the length is the number of rows). We can then use the same command to add another row to the dataframe which will appear as the last row in our new dataframe\n",
    "\n",
    "You can visit PyData for more information on the loc[] method: https://pandas.pydata.org/pandas-docs/stable/reference/api/pandas.DataFrame.loc.html\n",
    "\n",
    "You can read more about creating a dataframe from GeeksforGeeks: https://www.geeksforgeeks.org/creating-a-pandas-dataframe/\n",
    "\n",
    "Now let's assume we want to read a pandas dataframe from a file. We have already learnt how to open and read a file in Python, reading a file using pandas is actually a lot easier depending no the file type. The good thing about reading a file using pandas is that the file is read as a pandas dataframe removing the need to convert the file to a dataframe. \n",
    "\n",
    "We have a dataset names combined_indicators_for_nigeria_2 in our folder, let's start off by reading this csv as a pandas dataframe"
   ]
  },
  {
   "cell_type": "code",
   "execution_count": 35,
   "metadata": {},
   "outputs": [],
   "source": [
    "import pandas as pd\n",
    "file = pd.read_csv('combined_indicators_for_nigeria_2.csv')"
   ]
  },
  {
   "cell_type": "markdown",
   "metadata": {},
   "source": [
    "To get an extract of the first five rows we will call the head() function on our dataframe. By default the head function returns the first 5 rows, you can however specify the number of rows you want returned by adding an integer to represent the number of rows you would like to see from the top of the dataframe. Converseley you can use the tail() function to return the last n rows in the dataframe.\n",
    "\n",
    "Viewing the first n rows gives us a quick overview of the the type of data in each column"
   ]
  },
  {
   "cell_type": "code",
   "execution_count": 36,
   "metadata": {},
   "outputs": [
    {
     "data": {
      "text/html": [
       "<div>\n",
       "<style scoped>\n",
       "    .dataframe tbody tr th:only-of-type {\n",
       "        vertical-align: middle;\n",
       "    }\n",
       "\n",
       "    .dataframe tbody tr th {\n",
       "        vertical-align: top;\n",
       "    }\n",
       "\n",
       "    .dataframe thead th {\n",
       "        text-align: right;\n",
       "    }\n",
       "</style>\n",
       "<table border=\"1\" class=\"dataframe\">\n",
       "  <thead>\n",
       "    <tr style=\"text-align: right;\">\n",
       "      <th></th>\n",
       "      <th>country_name</th>\n",
       "      <th>country_iso3</th>\n",
       "      <th>year</th>\n",
       "      <th>indicator_name</th>\n",
       "      <th>indicator_code</th>\n",
       "      <th>value</th>\n",
       "    </tr>\n",
       "  </thead>\n",
       "  <tbody>\n",
       "    <tr>\n",
       "      <td>0</td>\n",
       "      <td>Nigeria</td>\n",
       "      <td>NGA</td>\n",
       "      <td>2007</td>\n",
       "      <td>Agricultural machinery, tractors</td>\n",
       "      <td>AG.AGR.TRAC.NO</td>\n",
       "      <td>24800.0</td>\n",
       "    </tr>\n",
       "    <tr>\n",
       "      <td>1</td>\n",
       "      <td>Nigeria</td>\n",
       "      <td>NGA</td>\n",
       "      <td>2006</td>\n",
       "      <td>Agricultural machinery, tractors</td>\n",
       "      <td>AG.AGR.TRAC.NO</td>\n",
       "      <td>23999.0</td>\n",
       "    </tr>\n",
       "    <tr>\n",
       "      <td>2</td>\n",
       "      <td>Nigeria</td>\n",
       "      <td>NGA</td>\n",
       "      <td>2005</td>\n",
       "      <td>Agricultural machinery, tractors</td>\n",
       "      <td>AG.AGR.TRAC.NO</td>\n",
       "      <td>23000.0</td>\n",
       "    </tr>\n",
       "    <tr>\n",
       "      <td>3</td>\n",
       "      <td>Nigeria</td>\n",
       "      <td>NGA</td>\n",
       "      <td>2004</td>\n",
       "      <td>Agricultural machinery, tractors</td>\n",
       "      <td>AG.AGR.TRAC.NO</td>\n",
       "      <td>23000.0</td>\n",
       "    </tr>\n",
       "    <tr>\n",
       "      <td>4</td>\n",
       "      <td>Nigeria</td>\n",
       "      <td>NGA</td>\n",
       "      <td>2003</td>\n",
       "      <td>Agricultural machinery, tractors</td>\n",
       "      <td>AG.AGR.TRAC.NO</td>\n",
       "      <td>22000.0</td>\n",
       "    </tr>\n",
       "  </tbody>\n",
       "</table>\n",
       "</div>"
      ],
      "text/plain": [
       "  country_name country_iso3  year                    indicator_name  \\\n",
       "0      Nigeria          NGA  2007  Agricultural machinery, tractors   \n",
       "1      Nigeria          NGA  2006  Agricultural machinery, tractors   \n",
       "2      Nigeria          NGA  2005  Agricultural machinery, tractors   \n",
       "3      Nigeria          NGA  2004  Agricultural machinery, tractors   \n",
       "4      Nigeria          NGA  2003  Agricultural machinery, tractors   \n",
       "\n",
       "   indicator_code    value  \n",
       "0  AG.AGR.TRAC.NO  24800.0  \n",
       "1  AG.AGR.TRAC.NO  23999.0  \n",
       "2  AG.AGR.TRAC.NO  23000.0  \n",
       "3  AG.AGR.TRAC.NO  23000.0  \n",
       "4  AG.AGR.TRAC.NO  22000.0  "
      ]
     },
     "execution_count": 36,
     "metadata": {},
     "output_type": "execute_result"
    }
   ],
   "source": [
    "file.head(5)"
   ]
  },
  {
   "cell_type": "markdown",
   "metadata": {},
   "source": [
    "As mentioned, you can also opt to print out the last n rows by using the tail() function. By default this will print out the last 5 rows unless you specify otherwise"
   ]
  },
  {
   "cell_type": "code",
   "execution_count": 37,
   "metadata": {},
   "outputs": [
    {
     "data": {
      "text/html": [
       "<div>\n",
       "<style scoped>\n",
       "    .dataframe tbody tr th:only-of-type {\n",
       "        vertical-align: middle;\n",
       "    }\n",
       "\n",
       "    .dataframe tbody tr th {\n",
       "        vertical-align: top;\n",
       "    }\n",
       "\n",
       "    .dataframe thead th {\n",
       "        text-align: right;\n",
       "    }\n",
       "</style>\n",
       "<table border=\"1\" class=\"dataframe\">\n",
       "  <thead>\n",
       "    <tr style=\"text-align: right;\">\n",
       "      <th></th>\n",
       "      <th>country_name</th>\n",
       "      <th>country_iso3</th>\n",
       "      <th>year</th>\n",
       "      <th>indicator_name</th>\n",
       "      <th>indicator_code</th>\n",
       "      <th>value</th>\n",
       "    </tr>\n",
       "  </thead>\n",
       "  <tbody>\n",
       "    <tr>\n",
       "      <td>4995</td>\n",
       "      <td>Nigeria</td>\n",
       "      <td>NGA</td>\n",
       "      <td>2007</td>\n",
       "      <td>Grants, excluding technical cooperation (BoP, ...</td>\n",
       "      <td>BX.GRT.EXTA.CD.WD</td>\n",
       "      <td>1.304920e+09</td>\n",
       "    </tr>\n",
       "    <tr>\n",
       "      <td>4996</td>\n",
       "      <td>Nigeria</td>\n",
       "      <td>NGA</td>\n",
       "      <td>2006</td>\n",
       "      <td>Grants, excluding technical cooperation (BoP, ...</td>\n",
       "      <td>BX.GRT.EXTA.CD.WD</td>\n",
       "      <td>1.138818e+10</td>\n",
       "    </tr>\n",
       "    <tr>\n",
       "      <td>4997</td>\n",
       "      <td>Nigeria</td>\n",
       "      <td>NGA</td>\n",
       "      <td>2005</td>\n",
       "      <td>Grants, excluding technical cooperation (BoP, ...</td>\n",
       "      <td>BX.GRT.EXTA.CD.WD</td>\n",
       "      <td>5.840000e+09</td>\n",
       "    </tr>\n",
       "    <tr>\n",
       "      <td>4998</td>\n",
       "      <td>Nigeria</td>\n",
       "      <td>NGA</td>\n",
       "      <td>2004</td>\n",
       "      <td>Grants, excluding technical cooperation (BoP, ...</td>\n",
       "      <td>BX.GRT.EXTA.CD.WD</td>\n",
       "      <td>1.651300e+08</td>\n",
       "    </tr>\n",
       "    <tr>\n",
       "      <td>4999</td>\n",
       "      <td>Nigeria</td>\n",
       "      <td>NGA</td>\n",
       "      <td>2003</td>\n",
       "      <td>Grants, excluding technical cooperation (BoP, ...</td>\n",
       "      <td>BX.GRT.EXTA.CD.WD</td>\n",
       "      <td>1.148600e+08</td>\n",
       "    </tr>\n",
       "  </tbody>\n",
       "</table>\n",
       "</div>"
      ],
      "text/plain": [
       "     country_name country_iso3  year  \\\n",
       "4995      Nigeria          NGA  2007   \n",
       "4996      Nigeria          NGA  2006   \n",
       "4997      Nigeria          NGA  2005   \n",
       "4998      Nigeria          NGA  2004   \n",
       "4999      Nigeria          NGA  2003   \n",
       "\n",
       "                                         indicator_name     indicator_code  \\\n",
       "4995  Grants, excluding technical cooperation (BoP, ...  BX.GRT.EXTA.CD.WD   \n",
       "4996  Grants, excluding technical cooperation (BoP, ...  BX.GRT.EXTA.CD.WD   \n",
       "4997  Grants, excluding technical cooperation (BoP, ...  BX.GRT.EXTA.CD.WD   \n",
       "4998  Grants, excluding technical cooperation (BoP, ...  BX.GRT.EXTA.CD.WD   \n",
       "4999  Grants, excluding technical cooperation (BoP, ...  BX.GRT.EXTA.CD.WD   \n",
       "\n",
       "             value  \n",
       "4995  1.304920e+09  \n",
       "4996  1.138818e+10  \n",
       "4997  5.840000e+09  \n",
       "4998  1.651300e+08  \n",
       "4999  1.148600e+08  "
      ]
     },
     "execution_count": 37,
     "metadata": {},
     "output_type": "execute_result"
    }
   ],
   "source": [
    "file.tail()"
   ]
  },
  {
   "cell_type": "markdown",
   "metadata": {},
   "source": [
    "You may also want to get a better understanding of the dimensions of the dataframe. To clarify, you will get the number of rows and columns of the data presented in the dataframe. We can use the shape function to return a tuple representing the dimensions of our dataframe."
   ]
  },
  {
   "cell_type": "code",
   "execution_count": 38,
   "metadata": {},
   "outputs": [
    {
     "data": {
      "text/plain": [
       "(5000, 6)"
      ]
     },
     "execution_count": 38,
     "metadata": {},
     "output_type": "execute_result"
    }
   ],
   "source": [
    "file.shape"
   ]
  },
  {
   "cell_type": "markdown",
   "metadata": {},
   "source": [
    "Now suppose we see he country_iso3 columns and decide to change the name of the column to country code(iso) for our own convenience (because we deem this name to be easier to understand).\n",
    "\n",
    "You can easily change the name of a column or even multiple columns in pandas using the rename() function. You can either create a dictionary mapping the index of the column you want to change to the new name you want to change it to or mapping the old column name to the new column name.\n",
    "\n",
    "You can read more about the rename function in the PyData documentation: https://pandas.pydata.org/pandas-docs/stable/reference/api/pandas.DataFrame.rename.html\n",
    "\n",
    "Now let's change the country_iso3 column name to country code(iso)"
   ]
  },
  {
   "cell_type": "code",
   "execution_count": 39,
   "metadata": {},
   "outputs": [
    {
     "data": {
      "text/html": [
       "<div>\n",
       "<style scoped>\n",
       "    .dataframe tbody tr th:only-of-type {\n",
       "        vertical-align: middle;\n",
       "    }\n",
       "\n",
       "    .dataframe tbody tr th {\n",
       "        vertical-align: top;\n",
       "    }\n",
       "\n",
       "    .dataframe thead th {\n",
       "        text-align: right;\n",
       "    }\n",
       "</style>\n",
       "<table border=\"1\" class=\"dataframe\">\n",
       "  <thead>\n",
       "    <tr style=\"text-align: right;\">\n",
       "      <th></th>\n",
       "      <th>country_name</th>\n",
       "      <th>country code(iso)</th>\n",
       "      <th>year</th>\n",
       "      <th>indicator_name</th>\n",
       "      <th>indicator_code</th>\n",
       "      <th>value</th>\n",
       "    </tr>\n",
       "  </thead>\n",
       "  <tbody>\n",
       "    <tr>\n",
       "      <td>0</td>\n",
       "      <td>Nigeria</td>\n",
       "      <td>NGA</td>\n",
       "      <td>2007</td>\n",
       "      <td>Agricultural machinery, tractors</td>\n",
       "      <td>AG.AGR.TRAC.NO</td>\n",
       "      <td>24800.0</td>\n",
       "    </tr>\n",
       "    <tr>\n",
       "      <td>1</td>\n",
       "      <td>Nigeria</td>\n",
       "      <td>NGA</td>\n",
       "      <td>2006</td>\n",
       "      <td>Agricultural machinery, tractors</td>\n",
       "      <td>AG.AGR.TRAC.NO</td>\n",
       "      <td>23999.0</td>\n",
       "    </tr>\n",
       "    <tr>\n",
       "      <td>2</td>\n",
       "      <td>Nigeria</td>\n",
       "      <td>NGA</td>\n",
       "      <td>2005</td>\n",
       "      <td>Agricultural machinery, tractors</td>\n",
       "      <td>AG.AGR.TRAC.NO</td>\n",
       "      <td>23000.0</td>\n",
       "    </tr>\n",
       "    <tr>\n",
       "      <td>3</td>\n",
       "      <td>Nigeria</td>\n",
       "      <td>NGA</td>\n",
       "      <td>2004</td>\n",
       "      <td>Agricultural machinery, tractors</td>\n",
       "      <td>AG.AGR.TRAC.NO</td>\n",
       "      <td>23000.0</td>\n",
       "    </tr>\n",
       "    <tr>\n",
       "      <td>4</td>\n",
       "      <td>Nigeria</td>\n",
       "      <td>NGA</td>\n",
       "      <td>2003</td>\n",
       "      <td>Agricultural machinery, tractors</td>\n",
       "      <td>AG.AGR.TRAC.NO</td>\n",
       "      <td>22000.0</td>\n",
       "    </tr>\n",
       "  </tbody>\n",
       "</table>\n",
       "</div>"
      ],
      "text/plain": [
       "  country_name country code(iso)  year                    indicator_name  \\\n",
       "0      Nigeria               NGA  2007  Agricultural machinery, tractors   \n",
       "1      Nigeria               NGA  2006  Agricultural machinery, tractors   \n",
       "2      Nigeria               NGA  2005  Agricultural machinery, tractors   \n",
       "3      Nigeria               NGA  2004  Agricultural machinery, tractors   \n",
       "4      Nigeria               NGA  2003  Agricultural machinery, tractors   \n",
       "\n",
       "   indicator_code    value  \n",
       "0  AG.AGR.TRAC.NO  24800.0  \n",
       "1  AG.AGR.TRAC.NO  23999.0  \n",
       "2  AG.AGR.TRAC.NO  23000.0  \n",
       "3  AG.AGR.TRAC.NO  23000.0  \n",
       "4  AG.AGR.TRAC.NO  22000.0  "
      ]
     },
     "execution_count": 39,
     "metadata": {},
     "output_type": "execute_result"
    }
   ],
   "source": [
    "file.rename(columns={'country_iso3':'country code(iso)'},inplace=True)\n",
    "file.head()"
   ]
  },
  {
   "cell_type": "markdown",
   "metadata": {},
   "source": [
    "You may have noticed that we used added the statement inplace=True after creating the mapping from old to new name. We did this in order for the renaming to be done in place. This means that the statement will not return anything (it will not print out the dataframe like if we renamed without the inplace=True statement). We use this so that we don't have to assign the dataframe with the new renamed column to our old dataframe. \n",
    "\n",
    "As stated previously, we can also rename multiple columns at a time by adding more key value pairs to the columns dictionary.\n",
    "\n",
    "If you want to get an idea of the column names in your dataframe you can use the .columns method to get a list of the column names in our dataframe.\n",
    "\n",
    "Let's look at an example of this:\n"
   ]
  },
  {
   "cell_type": "code",
   "execution_count": 40,
   "metadata": {},
   "outputs": [
    {
     "data": {
      "text/plain": [
       "Index(['country_name', 'country code(iso)', 'year', 'indicator_name',\n",
       "       'indicator_code', 'value'],\n",
       "      dtype='object')"
      ]
     },
     "execution_count": 40,
     "metadata": {},
     "output_type": "execute_result"
    }
   ],
   "source": [
    "file.columns"
   ]
  },
  {
   "cell_type": "markdown",
   "metadata": {},
   "source": [
    "Similar to the columns method you can also return an array of all the values in each column in your dataframe by using the values method. You can either use values on the entire dataframe to return multiple arrays equivalent to the number of columns in your dataframe with the values in each row. Or alternatively call the method on a single column to return all values in the rows specific to that single column.\n",
    "\n",
    "Let use look at the values in the year column"
   ]
  },
  {
   "cell_type": "code",
   "execution_count": 41,
   "metadata": {},
   "outputs": [
    {
     "data": {
      "text/plain": [
       "array([2007, 2006, 2005, ..., 2005, 2004, 2003], dtype=int64)"
      ]
     },
     "execution_count": 41,
     "metadata": {},
     "output_type": "execute_result"
    }
   ],
   "source": [
    "file['year'].values"
   ]
  },
  {
   "cell_type": "markdown",
   "metadata": {},
   "source": [
    "## 2.2 Selecting data in the dataframe"
   ]
  },
  {
   "cell_type": "markdown",
   "metadata": {},
   "source": [
    "Now let's assume we want to select a column or multiple columns in our dataframe and find out what unique values are in the dataframe.\n",
    "\n",
    "So to put it in practical terms we want to understand if *\"Agricultural machinery, tractors\"* is the only unique indicator name in our dataframe of if we have other indicators. \n",
    "\n",
    "We will start off by selecting the relevant column which in this case will be the *'indicator_code'* column and then using the unique() function to get a list of the unique values from the selected column"
   ]
  },
  {
   "cell_type": "code",
   "execution_count": 42,
   "metadata": {},
   "outputs": [
    {
     "data": {
      "text/plain": [
       "array(['Agricultural machinery, tractors',\n",
       "       'Fertilizer consumption (% of fertilizer production)',\n",
       "       'Fertilizer consumption (kilograms per hectare of arable land)',\n",
       "       'Agricultural land (sq. km)', 'Agricultural land (% of land area)',\n",
       "       'Arable land (hectares)', 'Arable land (hectares per person)',\n",
       "       'Arable land (% of land area)',\n",
       "       'Land under cereal production (hectares)',\n",
       "       'Permanent cropland (% of land area)',\n",
       "       'Rural land area where elevation is below 5 meters (sq. km)',\n",
       "       'Rural land area where elevation is below 5 meters (% of total land area)',\n",
       "       'Forest area (sq. km)', 'Forest area (% of land area)',\n",
       "       'Agricultural irrigated land (% of total agricultural land)',\n",
       "       'Average precipitation in depth (mm per year)',\n",
       "       'Land area (sq. km)', 'Rural land area (sq. km)',\n",
       "       'Agricultural machinery, tractors per 100 sq. km of arable land',\n",
       "       'Cereal production (metric tons)',\n",
       "       'Crop production index (2004-2006 = 100)',\n",
       "       'Food production index (2004-2006 = 100)',\n",
       "       'Livestock production index (2004-2006 = 100)',\n",
       "       'Surface area (sq. km)', 'Cereal yield (kg per hectare)',\n",
       "       'Access to electricity, rural (% of rural population)',\n",
       "       'Agricultural methane emissions (thousand metric tons of CO2 equivalent)',\n",
       "       'Agricultural methane emissions (% of total)',\n",
       "       'Agricultural nitrous oxide emissions (thousand metric tons of CO2 equivalent)',\n",
       "       'Agricultural nitrous oxide emissions (% of total)',\n",
       "       'Rural population living in areas where elevation is below 5 meters (% of total population)',\n",
       "       'Annual freshwater withdrawals, agriculture (% of total freshwater withdrawal)',\n",
       "       'Agriculture, forestry, and fishing, value added (current US$)',\n",
       "       'Agriculture, forestry, and fishing, value added (% of GDP)',\n",
       "       'Rural poverty gap at national poverty lines (%)',\n",
       "       'Rural poverty headcount ratio at national poverty lines (% of rural population)',\n",
       "       'Employment in agriculture, female (% of female employment) (modeled ILO estimate)',\n",
       "       'Employment in agriculture, male (% of male employment) (modeled ILO estimate)',\n",
       "       'Employment in agriculture (% of total employment) (modeled ILO estimate)',\n",
       "       'Rural population', 'Rural population growth (annual %)',\n",
       "       'Rural population (% of total population)',\n",
       "       'Agricultural raw materials imports (% of merchandise imports)',\n",
       "       'Agricultural raw materials exports (% of merchandise exports)',\n",
       "       'Economically active population in agriculture (number)',\n",
       "       'Grants, excluding technical cooperation (BoP, current US$)',\n",
       "       'Technical cooperation grants (BoP, current US$)',\n",
       "       'Net bilateral aid flows from DAC donors, Australia (current US$)',\n",
       "       'Net bilateral aid flows from DAC donors, Austria (current US$)',\n",
       "       'Net bilateral aid flows from DAC donors, Belgium (current US$)',\n",
       "       'Net bilateral aid flows from DAC donors, Canada (current US$)',\n",
       "       'Net bilateral aid flows from DAC donors, European Union institutions (current US$)',\n",
       "       'Net bilateral aid flows from DAC donors, Switzerland (current US$)',\n",
       "       'Net bilateral aid flows from DAC donors, Czech Republic (current US$)',\n",
       "       'Net bilateral aid flows from DAC donors, Germany (current US$)',\n",
       "       'Net bilateral aid flows from DAC donors, Denmark (current US$)',\n",
       "       'Net bilateral aid flows from DAC donors, Spain (current US$)',\n",
       "       'Net bilateral aid flows from DAC donors, Finland (current US$)',\n",
       "       'Net bilateral aid flows from DAC donors, France (current US$)',\n",
       "       'Net bilateral aid flows from DAC donors, United Kingdom (current US$)',\n",
       "       'Net bilateral aid flows from DAC donors, Greece (current US$)',\n",
       "       'Net bilateral aid flows from DAC donors, Ireland (current US$)',\n",
       "       'Net bilateral aid flows from DAC donors, Italy (current US$)',\n",
       "       'Net bilateral aid flows from DAC donors, Japan (current US$)',\n",
       "       'Net bilateral aid flows from DAC donors, Korea, Rep. (current US$)',\n",
       "       'Net bilateral aid flows from DAC donors, Luxembourg (current US$)',\n",
       "       'Net bilateral aid flows from DAC donors, Netherlands (current US$)',\n",
       "       'Net bilateral aid flows from DAC donors, Norway (current US$)',\n",
       "       'Net bilateral aid flows from DAC donors, New Zealand (current US$)',\n",
       "       'Net bilateral aid flows from DAC donors, Poland (current US$)',\n",
       "       'Net bilateral aid flows from DAC donors, Portugal (current US$)',\n",
       "       'Net bilateral aid flows from DAC donors, Slovak Republic (current US$)',\n",
       "       'Net bilateral aid flows from DAC donors, Slovenia (current US$)',\n",
       "       'Net bilateral aid flows from DAC donors, Sweden (current US$)',\n",
       "       'Net bilateral aid flows from DAC donors, Total (current US$)',\n",
       "       'Net bilateral aid flows from DAC donors, United States (current US$)',\n",
       "       'Net official flows from UN agencies, FAO (current US$)',\n",
       "       'Net official flows from UN agencies, IAEA (current US$)',\n",
       "       'Net official flows from UN agencies, IFAD (current US$)',\n",
       "       'Net official flows from UN agencies, ILO (current US$)',\n",
       "       'Net official flows from UN agencies, UNAIDS (current US$)',\n",
       "       'Net official flows from UN agencies, UNICEF (current US$)',\n",
       "       'Net official flows from UN agencies, UNHCR (current US$)',\n",
       "       'Net official flows from UN agencies, UNDP (current US$)',\n",
       "       'Net official flows from UN agencies, UNFPA (current US$)',\n",
       "       'Net official flows from UN agencies, UNTA (current US$)',\n",
       "       'Net official flows from UN agencies, WFP (current US$)',\n",
       "       'Net official flows from UN agencies, WHO (current US$)',\n",
       "       'Net official development assistance and official aid received (current US$)',\n",
       "       'Net official development assistance and official aid received (constant 2015 US$)',\n",
       "       'Net official development assistance received (current US$)',\n",
       "       'Net ODA received (% of gross capital formation)',\n",
       "       'Net ODA received (% of GNI)',\n",
       "       'Net official development assistance received (constant 2015 US$)',\n",
       "       'Net ODA received (% of imports of goods, services and primary income)',\n",
       "       'Net ODA received per capita (current US$)',\n",
       "       'School enrollment, primary and secondary (gross), gender parity index (GPI)',\n",
       "       'Primary completion rate, total (% of relevant age group)',\n",
       "       'Prevalence of HIV, total (% of population ages 15-49)',\n",
       "       'Mortality rate, under-5 (per 1,000 live births)',\n",
       "       'Pregnant women receiving prenatal care (%)',\n",
       "       'Maternal mortality ratio (modeled estimate, per 100,000 live births)',\n",
       "       'Prevalence of stunting, height for age (% of children under 5)',\n",
       "       'Incidence of tuberculosis (per 100,000 people)',\n",
       "       'Income share held by lowest 20%',\n",
       "       'Poverty headcount ratio at $1.90 a day (2011 PPP) (% of population)',\n",
       "       'Vulnerable employment, total (% of total employment) (modeled ILO estimate)',\n",
       "       'Net migration', 'IDA grants (current US$)',\n",
       "       'Debt forgiveness grants (current US$)',\n",
       "       'Trade in services (% of GDP)',\n",
       "       'Communications, computer, etc. (% of service imports, BoP)',\n",
       "       'Primary income payments (BoP, current US$)',\n",
       "       'Imports of goods and services (BoP, current US$)',\n",
       "       'Insurance and financial services (% of service imports, BoP)',\n",
       "       'Goods imports (BoP, current US$)',\n",
       "       'Service imports (BoP, current US$)',\n",
       "       'Charges for the use of intellectual property, payments (BoP, current US$)',\n",
       "       'Imports of goods, services and primary income (BoP, current US$)',\n",
       "       'Transport services (% of service imports, BoP)',\n",
       "       'Travel services (% of service imports, BoP)',\n",
       "       'Foreign direct investment, net outflows (BoP, current US$)',\n",
       "       'Foreign direct investment, net outflows (% of GDP)',\n",
       "       'Secondary income, other sectors, payments (BoP, current US$)',\n",
       "       'Personal remittances, paid (current US$)',\n",
       "       'Current account balance (BoP, current US$)',\n",
       "       'Current account balance (% of GDP)',\n",
       "       'Net financial account (BoP, current US$)',\n",
       "       'Net primary income (BoP, current US$)',\n",
       "       'Net trade in goods and services (BoP, current US$)',\n",
       "       'Net trade in goods (BoP, current US$)',\n",
       "       'Net errors and omissions (BoP, current US$)',\n",
       "       'Foreign direct investment, net (BoP, current US$)',\n",
       "       'Portfolio investment, net (BoP, current US$)',\n",
       "       'Reserves and related items (BoP, current US$)',\n",
       "       'Net secondary income (BoP, current US$)',\n",
       "       'Net capital account (BoP, current US$)'], dtype=object)"
      ]
     },
     "execution_count": 42,
     "metadata": {},
     "output_type": "execute_result"
    }
   ],
   "source": [
    "file['indicator_name'].unique()"
   ]
  },
  {
   "cell_type": "markdown",
   "metadata": {},
   "source": [
    "You can also select multiple columns. The syntax is similar to our above example with the different being we would use a list to select multiple columns in one go.\n",
    "\n",
    "Let's look at an example of how we would do this by selecting the indicator name and year columns:"
   ]
  },
  {
   "cell_type": "code",
   "execution_count": 43,
   "metadata": {},
   "outputs": [
    {
     "data": {
      "text/html": [
       "<div>\n",
       "<style scoped>\n",
       "    .dataframe tbody tr th:only-of-type {\n",
       "        vertical-align: middle;\n",
       "    }\n",
       "\n",
       "    .dataframe tbody tr th {\n",
       "        vertical-align: top;\n",
       "    }\n",
       "\n",
       "    .dataframe thead th {\n",
       "        text-align: right;\n",
       "    }\n",
       "</style>\n",
       "<table border=\"1\" class=\"dataframe\">\n",
       "  <thead>\n",
       "    <tr style=\"text-align: right;\">\n",
       "      <th></th>\n",
       "      <th>indicator_name</th>\n",
       "      <th>year</th>\n",
       "    </tr>\n",
       "  </thead>\n",
       "  <tbody>\n",
       "    <tr>\n",
       "      <td>0</td>\n",
       "      <td>Agricultural machinery, tractors</td>\n",
       "      <td>2007</td>\n",
       "    </tr>\n",
       "    <tr>\n",
       "      <td>1</td>\n",
       "      <td>Agricultural machinery, tractors</td>\n",
       "      <td>2006</td>\n",
       "    </tr>\n",
       "    <tr>\n",
       "      <td>2</td>\n",
       "      <td>Agricultural machinery, tractors</td>\n",
       "      <td>2005</td>\n",
       "    </tr>\n",
       "    <tr>\n",
       "      <td>3</td>\n",
       "      <td>Agricultural machinery, tractors</td>\n",
       "      <td>2004</td>\n",
       "    </tr>\n",
       "    <tr>\n",
       "      <td>4</td>\n",
       "      <td>Agricultural machinery, tractors</td>\n",
       "      <td>2003</td>\n",
       "    </tr>\n",
       "  </tbody>\n",
       "</table>\n",
       "</div>"
      ],
      "text/plain": [
       "                     indicator_name  year\n",
       "0  Agricultural machinery, tractors  2007\n",
       "1  Agricultural machinery, tractors  2006\n",
       "2  Agricultural machinery, tractors  2005\n",
       "3  Agricultural machinery, tractors  2004\n",
       "4  Agricultural machinery, tractors  2003"
      ]
     },
     "execution_count": 43,
     "metadata": {},
     "output_type": "execute_result"
    }
   ],
   "source": [
    "file[['indicator_name','year']].head()"
   ]
  },
  {
   "cell_type": "markdown",
   "metadata": {},
   "source": [
    "From looking at the unique indicators under the indicator name column we see that there are multiple indicators included in our dataframe. Now let's assume we have a high interest in indicators relevant to economic inequality and we specifically want to filter our dataframe and only show rows where the indicator name is *'Income share held by the lower 20%'*.\n",
    "\n",
    "One way to do is is through a boolean variable by checking if the value in our *'indicator_name'* column is equals to the value we want to filter our dataframe for. To check for equality we either use the relevant comparison operator *'=='* or the *'.eq'* which is equivalent to our *'=='* comparison operator.\n",
    "\n",
    "You can read more about *'.eq'* in the pandas pydata documentation: https://pandas.pydata.org/pandas-docs/stable/reference/api/pandas.DataFrame.eq.html"
   ]
  },
  {
   "cell_type": "code",
   "execution_count": 44,
   "metadata": {},
   "outputs": [
    {
     "data": {
      "text/html": [
       "<div>\n",
       "<style scoped>\n",
       "    .dataframe tbody tr th:only-of-type {\n",
       "        vertical-align: middle;\n",
       "    }\n",
       "\n",
       "    .dataframe tbody tr th {\n",
       "        vertical-align: top;\n",
       "    }\n",
       "\n",
       "    .dataframe thead th {\n",
       "        text-align: right;\n",
       "    }\n",
       "</style>\n",
       "<table border=\"1\" class=\"dataframe\">\n",
       "  <thead>\n",
       "    <tr style=\"text-align: right;\">\n",
       "      <th></th>\n",
       "      <th>country_name</th>\n",
       "      <th>country code(iso)</th>\n",
       "      <th>year</th>\n",
       "      <th>indicator_name</th>\n",
       "      <th>indicator_code</th>\n",
       "      <th>value</th>\n",
       "    </tr>\n",
       "  </thead>\n",
       "  <tbody>\n",
       "    <tr>\n",
       "      <td>3793</td>\n",
       "      <td>Nigeria</td>\n",
       "      <td>NGA</td>\n",
       "      <td>2009</td>\n",
       "      <td>Income share held by lowest 20%</td>\n",
       "      <td>SI.DST.FRST.20</td>\n",
       "      <td>5.4</td>\n",
       "    </tr>\n",
       "    <tr>\n",
       "      <td>3794</td>\n",
       "      <td>Nigeria</td>\n",
       "      <td>NGA</td>\n",
       "      <td>2003</td>\n",
       "      <td>Income share held by lowest 20%</td>\n",
       "      <td>SI.DST.FRST.20</td>\n",
       "      <td>5.7</td>\n",
       "    </tr>\n",
       "    <tr>\n",
       "      <td>3795</td>\n",
       "      <td>Nigeria</td>\n",
       "      <td>NGA</td>\n",
       "      <td>1996</td>\n",
       "      <td>Income share held by lowest 20%</td>\n",
       "      <td>SI.DST.FRST.20</td>\n",
       "      <td>3.7</td>\n",
       "    </tr>\n",
       "    <tr>\n",
       "      <td>3796</td>\n",
       "      <td>Nigeria</td>\n",
       "      <td>NGA</td>\n",
       "      <td>1992</td>\n",
       "      <td>Income share held by lowest 20%</td>\n",
       "      <td>SI.DST.FRST.20</td>\n",
       "      <td>4.0</td>\n",
       "    </tr>\n",
       "    <tr>\n",
       "      <td>3797</td>\n",
       "      <td>Nigeria</td>\n",
       "      <td>NGA</td>\n",
       "      <td>1985</td>\n",
       "      <td>Income share held by lowest 20%</td>\n",
       "      <td>SI.DST.FRST.20</td>\n",
       "      <td>6.0</td>\n",
       "    </tr>\n",
       "  </tbody>\n",
       "</table>\n",
       "</div>"
      ],
      "text/plain": [
       "     country_name country code(iso)  year                   indicator_name  \\\n",
       "3793      Nigeria               NGA  2009  Income share held by lowest 20%   \n",
       "3794      Nigeria               NGA  2003  Income share held by lowest 20%   \n",
       "3795      Nigeria               NGA  1996  Income share held by lowest 20%   \n",
       "3796      Nigeria               NGA  1992  Income share held by lowest 20%   \n",
       "3797      Nigeria               NGA  1985  Income share held by lowest 20%   \n",
       "\n",
       "      indicator_code  value  \n",
       "3793  SI.DST.FRST.20    5.4  \n",
       "3794  SI.DST.FRST.20    5.7  \n",
       "3795  SI.DST.FRST.20    3.7  \n",
       "3796  SI.DST.FRST.20    4.0  \n",
       "3797  SI.DST.FRST.20    6.0  "
      ]
     },
     "execution_count": 44,
     "metadata": {},
     "output_type": "execute_result"
    }
   ],
   "source": [
    "file[file['indicator_name'].eq('Income share held by lowest 20%')]"
   ]
  },
  {
   "cell_type": "markdown",
   "metadata": {},
   "source": [
    "This is a condensced one line version of first creating a boolean variable that returns true or false statements depending on whether the value has been found in the column for each row in our dataframe and the applying this filter to our dataframe to return only the rows where the equivalent row in our filter returns the boolean True"
   ]
  },
  {
   "cell_type": "code",
   "execution_count": 45,
   "metadata": {},
   "outputs": [
    {
     "data": {
      "text/html": [
       "<div>\n",
       "<style scoped>\n",
       "    .dataframe tbody tr th:only-of-type {\n",
       "        vertical-align: middle;\n",
       "    }\n",
       "\n",
       "    .dataframe tbody tr th {\n",
       "        vertical-align: top;\n",
       "    }\n",
       "\n",
       "    .dataframe thead th {\n",
       "        text-align: right;\n",
       "    }\n",
       "</style>\n",
       "<table border=\"1\" class=\"dataframe\">\n",
       "  <thead>\n",
       "    <tr style=\"text-align: right;\">\n",
       "      <th></th>\n",
       "      <th>country_name</th>\n",
       "      <th>country code(iso)</th>\n",
       "      <th>year</th>\n",
       "      <th>indicator_name</th>\n",
       "      <th>indicator_code</th>\n",
       "      <th>value</th>\n",
       "    </tr>\n",
       "  </thead>\n",
       "  <tbody>\n",
       "    <tr>\n",
       "      <td>3793</td>\n",
       "      <td>Nigeria</td>\n",
       "      <td>NGA</td>\n",
       "      <td>2009</td>\n",
       "      <td>Income share held by lowest 20%</td>\n",
       "      <td>SI.DST.FRST.20</td>\n",
       "      <td>5.4</td>\n",
       "    </tr>\n",
       "    <tr>\n",
       "      <td>3794</td>\n",
       "      <td>Nigeria</td>\n",
       "      <td>NGA</td>\n",
       "      <td>2003</td>\n",
       "      <td>Income share held by lowest 20%</td>\n",
       "      <td>SI.DST.FRST.20</td>\n",
       "      <td>5.7</td>\n",
       "    </tr>\n",
       "    <tr>\n",
       "      <td>3795</td>\n",
       "      <td>Nigeria</td>\n",
       "      <td>NGA</td>\n",
       "      <td>1996</td>\n",
       "      <td>Income share held by lowest 20%</td>\n",
       "      <td>SI.DST.FRST.20</td>\n",
       "      <td>3.7</td>\n",
       "    </tr>\n",
       "    <tr>\n",
       "      <td>3796</td>\n",
       "      <td>Nigeria</td>\n",
       "      <td>NGA</td>\n",
       "      <td>1992</td>\n",
       "      <td>Income share held by lowest 20%</td>\n",
       "      <td>SI.DST.FRST.20</td>\n",
       "      <td>4.0</td>\n",
       "    </tr>\n",
       "    <tr>\n",
       "      <td>3797</td>\n",
       "      <td>Nigeria</td>\n",
       "      <td>NGA</td>\n",
       "      <td>1985</td>\n",
       "      <td>Income share held by lowest 20%</td>\n",
       "      <td>SI.DST.FRST.20</td>\n",
       "      <td>6.0</td>\n",
       "    </tr>\n",
       "  </tbody>\n",
       "</table>\n",
       "</div>"
      ],
      "text/plain": [
       "     country_name country code(iso)  year                   indicator_name  \\\n",
       "3793      Nigeria               NGA  2009  Income share held by lowest 20%   \n",
       "3794      Nigeria               NGA  2003  Income share held by lowest 20%   \n",
       "3795      Nigeria               NGA  1996  Income share held by lowest 20%   \n",
       "3796      Nigeria               NGA  1992  Income share held by lowest 20%   \n",
       "3797      Nigeria               NGA  1985  Income share held by lowest 20%   \n",
       "\n",
       "      indicator_code  value  \n",
       "3793  SI.DST.FRST.20    5.4  \n",
       "3794  SI.DST.FRST.20    5.7  \n",
       "3795  SI.DST.FRST.20    3.7  \n",
       "3796  SI.DST.FRST.20    4.0  \n",
       "3797  SI.DST.FRST.20    6.0  "
      ]
     },
     "execution_count": 45,
     "metadata": {},
     "output_type": "execute_result"
    }
   ],
   "source": [
    "#creating the boolean variable\n",
    "boolean_filter = file['indicator_name'].eq('Income share held by lowest 20%')\n",
    "#applying the filter to our dataframe\n",
    "file[boolean_filter]"
   ]
  },
  {
   "cell_type": "markdown",
   "metadata": {},
   "source": [
    "As mentioned, it is also possible to selec multiple rows using chained boolean variables. You can chain boolean variables using or, which would be represented by the symbol *'|'* or and *'&'*.\n",
    "\n",
    "We are going to look at two examples. In the first example we will filter dataframes for rows where the indicator  is Income share held by lowest 20% or Poverty headcount ratio at $1.90 a day (2011 PPP) "
   ]
  },
  {
   "cell_type": "code",
   "execution_count": 46,
   "metadata": {},
   "outputs": [
    {
     "data": {
      "text/html": [
       "<div>\n",
       "<style scoped>\n",
       "    .dataframe tbody tr th:only-of-type {\n",
       "        vertical-align: middle;\n",
       "    }\n",
       "\n",
       "    .dataframe tbody tr th {\n",
       "        vertical-align: top;\n",
       "    }\n",
       "\n",
       "    .dataframe thead th {\n",
       "        text-align: right;\n",
       "    }\n",
       "</style>\n",
       "<table border=\"1\" class=\"dataframe\">\n",
       "  <thead>\n",
       "    <tr style=\"text-align: right;\">\n",
       "      <th></th>\n",
       "      <th>country_name</th>\n",
       "      <th>country code(iso)</th>\n",
       "      <th>year</th>\n",
       "      <th>indicator_name</th>\n",
       "      <th>indicator_code</th>\n",
       "      <th>value</th>\n",
       "    </tr>\n",
       "  </thead>\n",
       "  <tbody>\n",
       "    <tr>\n",
       "      <td>3793</td>\n",
       "      <td>Nigeria</td>\n",
       "      <td>NGA</td>\n",
       "      <td>2009</td>\n",
       "      <td>Income share held by lowest 20%</td>\n",
       "      <td>SI.DST.FRST.20</td>\n",
       "      <td>5.4</td>\n",
       "    </tr>\n",
       "    <tr>\n",
       "      <td>3794</td>\n",
       "      <td>Nigeria</td>\n",
       "      <td>NGA</td>\n",
       "      <td>2003</td>\n",
       "      <td>Income share held by lowest 20%</td>\n",
       "      <td>SI.DST.FRST.20</td>\n",
       "      <td>5.7</td>\n",
       "    </tr>\n",
       "    <tr>\n",
       "      <td>3795</td>\n",
       "      <td>Nigeria</td>\n",
       "      <td>NGA</td>\n",
       "      <td>1996</td>\n",
       "      <td>Income share held by lowest 20%</td>\n",
       "      <td>SI.DST.FRST.20</td>\n",
       "      <td>3.7</td>\n",
       "    </tr>\n",
       "    <tr>\n",
       "      <td>3796</td>\n",
       "      <td>Nigeria</td>\n",
       "      <td>NGA</td>\n",
       "      <td>1992</td>\n",
       "      <td>Income share held by lowest 20%</td>\n",
       "      <td>SI.DST.FRST.20</td>\n",
       "      <td>4.0</td>\n",
       "    </tr>\n",
       "    <tr>\n",
       "      <td>3797</td>\n",
       "      <td>Nigeria</td>\n",
       "      <td>NGA</td>\n",
       "      <td>1985</td>\n",
       "      <td>Income share held by lowest 20%</td>\n",
       "      <td>SI.DST.FRST.20</td>\n",
       "      <td>6.0</td>\n",
       "    </tr>\n",
       "    <tr>\n",
       "      <td>3798</td>\n",
       "      <td>Nigeria</td>\n",
       "      <td>NGA</td>\n",
       "      <td>2009</td>\n",
       "      <td>Poverty headcount ratio at $1.90 a day (2011 P...</td>\n",
       "      <td>SI.POV.DDAY</td>\n",
       "      <td>53.5</td>\n",
       "    </tr>\n",
       "    <tr>\n",
       "      <td>3799</td>\n",
       "      <td>Nigeria</td>\n",
       "      <td>NGA</td>\n",
       "      <td>2003</td>\n",
       "      <td>Poverty headcount ratio at $1.90 a day (2011 P...</td>\n",
       "      <td>SI.POV.DDAY</td>\n",
       "      <td>53.5</td>\n",
       "    </tr>\n",
       "    <tr>\n",
       "      <td>3800</td>\n",
       "      <td>Nigeria</td>\n",
       "      <td>NGA</td>\n",
       "      <td>1996</td>\n",
       "      <td>Poverty headcount ratio at $1.90 a day (2011 P...</td>\n",
       "      <td>SI.POV.DDAY</td>\n",
       "      <td>63.5</td>\n",
       "    </tr>\n",
       "    <tr>\n",
       "      <td>3801</td>\n",
       "      <td>Nigeria</td>\n",
       "      <td>NGA</td>\n",
       "      <td>1992</td>\n",
       "      <td>Poverty headcount ratio at $1.90 a day (2011 P...</td>\n",
       "      <td>SI.POV.DDAY</td>\n",
       "      <td>57.1</td>\n",
       "    </tr>\n",
       "    <tr>\n",
       "      <td>3802</td>\n",
       "      <td>Nigeria</td>\n",
       "      <td>NGA</td>\n",
       "      <td>1985</td>\n",
       "      <td>Poverty headcount ratio at $1.90 a day (2011 P...</td>\n",
       "      <td>SI.POV.DDAY</td>\n",
       "      <td>53.3</td>\n",
       "    </tr>\n",
       "  </tbody>\n",
       "</table>\n",
       "</div>"
      ],
      "text/plain": [
       "     country_name country code(iso)  year  \\\n",
       "3793      Nigeria               NGA  2009   \n",
       "3794      Nigeria               NGA  2003   \n",
       "3795      Nigeria               NGA  1996   \n",
       "3796      Nigeria               NGA  1992   \n",
       "3797      Nigeria               NGA  1985   \n",
       "3798      Nigeria               NGA  2009   \n",
       "3799      Nigeria               NGA  2003   \n",
       "3800      Nigeria               NGA  1996   \n",
       "3801      Nigeria               NGA  1992   \n",
       "3802      Nigeria               NGA  1985   \n",
       "\n",
       "                                         indicator_name  indicator_code  value  \n",
       "3793                    Income share held by lowest 20%  SI.DST.FRST.20    5.4  \n",
       "3794                    Income share held by lowest 20%  SI.DST.FRST.20    5.7  \n",
       "3795                    Income share held by lowest 20%  SI.DST.FRST.20    3.7  \n",
       "3796                    Income share held by lowest 20%  SI.DST.FRST.20    4.0  \n",
       "3797                    Income share held by lowest 20%  SI.DST.FRST.20    6.0  \n",
       "3798  Poverty headcount ratio at $1.90 a day (2011 P...     SI.POV.DDAY   53.5  \n",
       "3799  Poverty headcount ratio at $1.90 a day (2011 P...     SI.POV.DDAY   53.5  \n",
       "3800  Poverty headcount ratio at $1.90 a day (2011 P...     SI.POV.DDAY   63.5  \n",
       "3801  Poverty headcount ratio at $1.90 a day (2011 P...     SI.POV.DDAY   57.1  \n",
       "3802  Poverty headcount ratio at $1.90 a day (2011 P...     SI.POV.DDAY   53.3  "
      ]
     },
     "execution_count": 46,
     "metadata": {},
     "output_type": "execute_result"
    }
   ],
   "source": [
    "#let us filter for the indicator name being either income share held by the loest 20% or poverty heacount ratio at $1.90\n",
    "file[file['indicator_name'].eq('Income share held by lowest 20%')|file['indicator_name'].eq('Poverty headcount ratio at $1.90 a day (2011 PPP) (% of population)')]"
   ]
  },
  {
   "cell_type": "markdown",
   "metadata": {},
   "source": [
    "For the second example we will filter for data where the indicator is income share held by lowest 20% and the relevant year is 2009 or 2003"
   ]
  },
  {
   "cell_type": "code",
   "execution_count": 47,
   "metadata": {},
   "outputs": [
    {
     "data": {
      "text/html": [
       "<div>\n",
       "<style scoped>\n",
       "    .dataframe tbody tr th:only-of-type {\n",
       "        vertical-align: middle;\n",
       "    }\n",
       "\n",
       "    .dataframe tbody tr th {\n",
       "        vertical-align: top;\n",
       "    }\n",
       "\n",
       "    .dataframe thead th {\n",
       "        text-align: right;\n",
       "    }\n",
       "</style>\n",
       "<table border=\"1\" class=\"dataframe\">\n",
       "  <thead>\n",
       "    <tr style=\"text-align: right;\">\n",
       "      <th></th>\n",
       "      <th>country_name</th>\n",
       "      <th>country code(iso)</th>\n",
       "      <th>year</th>\n",
       "      <th>indicator_name</th>\n",
       "      <th>indicator_code</th>\n",
       "      <th>value</th>\n",
       "    </tr>\n",
       "  </thead>\n",
       "  <tbody>\n",
       "    <tr>\n",
       "      <td>3793</td>\n",
       "      <td>Nigeria</td>\n",
       "      <td>NGA</td>\n",
       "      <td>2009</td>\n",
       "      <td>Income share held by lowest 20%</td>\n",
       "      <td>SI.DST.FRST.20</td>\n",
       "      <td>5.4</td>\n",
       "    </tr>\n",
       "    <tr>\n",
       "      <td>3794</td>\n",
       "      <td>Nigeria</td>\n",
       "      <td>NGA</td>\n",
       "      <td>2003</td>\n",
       "      <td>Income share held by lowest 20%</td>\n",
       "      <td>SI.DST.FRST.20</td>\n",
       "      <td>5.7</td>\n",
       "    </tr>\n",
       "  </tbody>\n",
       "</table>\n",
       "</div>"
      ],
      "text/plain": [
       "     country_name country code(iso)  year                   indicator_name  \\\n",
       "3793      Nigeria               NGA  2009  Income share held by lowest 20%   \n",
       "3794      Nigeria               NGA  2003  Income share held by lowest 20%   \n",
       "\n",
       "      indicator_code  value  \n",
       "3793  SI.DST.FRST.20    5.4  \n",
       "3794  SI.DST.FRST.20    5.7  "
      ]
     },
     "execution_count": 47,
     "metadata": {},
     "output_type": "execute_result"
    }
   ],
   "source": [
    "file[(file['indicator_name']== 'Income share held by lowest 20%') & file['year'].isin([2003,2009])]"
   ]
  },
  {
   "cell_type": "markdown",
   "metadata": {},
   "source": [
    "So i'm sure you have noticed by now that in many cases there is more than one way to accomplish a particular task. With that in mind let us introduce .loc and .iloc. These are operations that are used for selection purposes in dataframes."
   ]
  },
  {
   "cell_type": "markdown",
   "metadata": {},
   "source": [
    "### 2.2.1  Selecting data using iloc"
   ]
  },
  {
   "cell_type": "markdown",
   "metadata": {},
   "source": [
    "The iloc indexer is used for selection by position, using an integer to represent the index location of some data. You can use *.iloc* to either select rows or columns by their position. Let's start off by selecting the first row from our dataframe.\n",
    "\n",
    "Remember that python uses zero-based indexing which means that the first element will have the index 0"
   ]
  },
  {
   "cell_type": "code",
   "execution_count": 48,
   "metadata": {},
   "outputs": [
    {
     "data": {
      "text/plain": [
       "country_name                                  Nigeria\n",
       "country code(iso)                                 NGA\n",
       "year                                             2007\n",
       "indicator_name       Agricultural machinery, tractors\n",
       "indicator_code                         AG.AGR.TRAC.NO\n",
       "value                                           24800\n",
       "Name: 0, dtype: object"
      ]
     },
     "execution_count": 48,
     "metadata": {},
     "output_type": "execute_result"
    }
   ],
   "source": [
    "file.iloc[0]"
   ]
  },
  {
   "cell_type": "markdown",
   "metadata": {},
   "source": [
    "As you may have guessed you are not limited to selecting one row, you can select multiple rows using the iloc indexer. You can for example select the first 3 rows similar to how you would do this on a list"
   ]
  },
  {
   "cell_type": "code",
   "execution_count": 49,
   "metadata": {},
   "outputs": [
    {
     "data": {
      "text/html": [
       "<div>\n",
       "<style scoped>\n",
       "    .dataframe tbody tr th:only-of-type {\n",
       "        vertical-align: middle;\n",
       "    }\n",
       "\n",
       "    .dataframe tbody tr th {\n",
       "        vertical-align: top;\n",
       "    }\n",
       "\n",
       "    .dataframe thead th {\n",
       "        text-align: right;\n",
       "    }\n",
       "</style>\n",
       "<table border=\"1\" class=\"dataframe\">\n",
       "  <thead>\n",
       "    <tr style=\"text-align: right;\">\n",
       "      <th></th>\n",
       "      <th>country_name</th>\n",
       "      <th>country code(iso)</th>\n",
       "      <th>year</th>\n",
       "      <th>indicator_name</th>\n",
       "      <th>indicator_code</th>\n",
       "      <th>value</th>\n",
       "    </tr>\n",
       "  </thead>\n",
       "  <tbody>\n",
       "    <tr>\n",
       "      <td>0</td>\n",
       "      <td>Nigeria</td>\n",
       "      <td>NGA</td>\n",
       "      <td>2007</td>\n",
       "      <td>Agricultural machinery, tractors</td>\n",
       "      <td>AG.AGR.TRAC.NO</td>\n",
       "      <td>24800.0</td>\n",
       "    </tr>\n",
       "    <tr>\n",
       "      <td>1</td>\n",
       "      <td>Nigeria</td>\n",
       "      <td>NGA</td>\n",
       "      <td>2006</td>\n",
       "      <td>Agricultural machinery, tractors</td>\n",
       "      <td>AG.AGR.TRAC.NO</td>\n",
       "      <td>23999.0</td>\n",
       "    </tr>\n",
       "    <tr>\n",
       "      <td>2</td>\n",
       "      <td>Nigeria</td>\n",
       "      <td>NGA</td>\n",
       "      <td>2005</td>\n",
       "      <td>Agricultural machinery, tractors</td>\n",
       "      <td>AG.AGR.TRAC.NO</td>\n",
       "      <td>23000.0</td>\n",
       "    </tr>\n",
       "  </tbody>\n",
       "</table>\n",
       "</div>"
      ],
      "text/plain": [
       "  country_name country code(iso)  year                    indicator_name  \\\n",
       "0      Nigeria               NGA  2007  Agricultural machinery, tractors   \n",
       "1      Nigeria               NGA  2006  Agricultural machinery, tractors   \n",
       "2      Nigeria               NGA  2005  Agricultural machinery, tractors   \n",
       "\n",
       "   indicator_code    value  \n",
       "0  AG.AGR.TRAC.NO  24800.0  \n",
       "1  AG.AGR.TRAC.NO  23999.0  \n",
       "2  AG.AGR.TRAC.NO  23000.0  "
      ]
     },
     "execution_count": 49,
     "metadata": {},
     "output_type": "execute_result"
    }
   ],
   "source": [
    "file.iloc[0:3]"
   ]
  },
  {
   "cell_type": "markdown",
   "metadata": {},
   "source": [
    "You can also use iloc to select a column in cases where you may not necessarily know the exact name of the column(s) you want to select but you know the position of the column. The syntax is similar to selecting a row but you need to add a colon and comma before the index of the column(s).\n",
    "\n",
    "Let us try and select the first column and returning the values under this column"
   ]
  },
  {
   "cell_type": "code",
   "execution_count": 50,
   "metadata": {},
   "outputs": [
    {
     "data": {
      "text/plain": [
       "0       Nigeria\n",
       "1       Nigeria\n",
       "2       Nigeria\n",
       "3       Nigeria\n",
       "4       Nigeria\n",
       "         ...   \n",
       "4995    Nigeria\n",
       "4996    Nigeria\n",
       "4997    Nigeria\n",
       "4998    Nigeria\n",
       "4999    Nigeria\n",
       "Name: country_name, Length: 5000, dtype: object"
      ]
     },
     "execution_count": 50,
     "metadata": {},
     "output_type": "execute_result"
    }
   ],
   "source": [
    "file.iloc[:,0]"
   ]
  },
  {
   "cell_type": "markdown",
   "metadata": {},
   "source": [
    "Knowing what we can do using the iloc indexer let us try and use the iloc indexer to filter the dataframe to only show rows where the year column is equivalent to 2009.\n",
    "\n",
    "Since we know that the year column is the third column, using zero-based indexing the index of the 3rd column would be equal to 2"
   ]
  },
  {
   "cell_type": "code",
   "execution_count": 51,
   "metadata": {},
   "outputs": [
    {
     "data": {
      "text/html": [
       "<div>\n",
       "<style scoped>\n",
       "    .dataframe tbody tr th:only-of-type {\n",
       "        vertical-align: middle;\n",
       "    }\n",
       "\n",
       "    .dataframe tbody tr th {\n",
       "        vertical-align: top;\n",
       "    }\n",
       "\n",
       "    .dataframe thead th {\n",
       "        text-align: right;\n",
       "    }\n",
       "</style>\n",
       "<table border=\"1\" class=\"dataframe\">\n",
       "  <thead>\n",
       "    <tr style=\"text-align: right;\">\n",
       "      <th></th>\n",
       "      <th>country_name</th>\n",
       "      <th>country code(iso)</th>\n",
       "      <th>year</th>\n",
       "      <th>indicator_name</th>\n",
       "      <th>indicator_code</th>\n",
       "      <th>value</th>\n",
       "    </tr>\n",
       "  </thead>\n",
       "  <tbody>\n",
       "    <tr>\n",
       "      <td>54</td>\n",
       "      <td>Nigeria</td>\n",
       "      <td>NGA</td>\n",
       "      <td>2009</td>\n",
       "      <td>Fertilizer consumption (% of fertilizer produc...</td>\n",
       "      <td>AG.CON.FERT.PT.ZS</td>\n",
       "      <td>2.135078e+02</td>\n",
       "    </tr>\n",
       "    <tr>\n",
       "      <td>62</td>\n",
       "      <td>Nigeria</td>\n",
       "      <td>NGA</td>\n",
       "      <td>2009</td>\n",
       "      <td>Fertilizer consumption (kilograms per hectare ...</td>\n",
       "      <td>AG.CON.FERT.ZS</td>\n",
       "      <td>5.261031e+00</td>\n",
       "    </tr>\n",
       "    <tr>\n",
       "      <td>77</td>\n",
       "      <td>Nigeria</td>\n",
       "      <td>NGA</td>\n",
       "      <td>2009</td>\n",
       "      <td>Agricultural land (sq. km)</td>\n",
       "      <td>AG.LND.AGRI.K2</td>\n",
       "      <td>6.900000e+05</td>\n",
       "    </tr>\n",
       "    <tr>\n",
       "      <td>133</td>\n",
       "      <td>Nigeria</td>\n",
       "      <td>NGA</td>\n",
       "      <td>2009</td>\n",
       "      <td>Agricultural land (% of land area)</td>\n",
       "      <td>AG.LND.AGRI.ZS</td>\n",
       "      <td>7.576007e+01</td>\n",
       "    </tr>\n",
       "    <tr>\n",
       "      <td>189</td>\n",
       "      <td>Nigeria</td>\n",
       "      <td>NGA</td>\n",
       "      <td>2009</td>\n",
       "      <td>Arable land (hectares)</td>\n",
       "      <td>AG.LND.ARBL.HA</td>\n",
       "      <td>3.200000e+07</td>\n",
       "    </tr>\n",
       "    <tr>\n",
       "      <td>...</td>\n",
       "      <td>...</td>\n",
       "      <td>...</td>\n",
       "      <td>...</td>\n",
       "      <td>...</td>\n",
       "      <td>...</td>\n",
       "      <td>...</td>\n",
       "    </tr>\n",
       "    <tr>\n",
       "      <td>4825</td>\n",
       "      <td>Nigeria</td>\n",
       "      <td>NGA</td>\n",
       "      <td>2009</td>\n",
       "      <td>Foreign direct investment, net (BoP, current US$)</td>\n",
       "      <td>BN.KLT.DINV.CD</td>\n",
       "      <td>-7.029619e+09</td>\n",
       "    </tr>\n",
       "    <tr>\n",
       "      <td>4866</td>\n",
       "      <td>Nigeria</td>\n",
       "      <td>NGA</td>\n",
       "      <td>2009</td>\n",
       "      <td>Portfolio investment, net (BoP, current US$)</td>\n",
       "      <td>BN.KLT.PTXL.CD</td>\n",
       "      <td>3.452547e+08</td>\n",
       "    </tr>\n",
       "    <tr>\n",
       "      <td>4900</td>\n",
       "      <td>Nigeria</td>\n",
       "      <td>NGA</td>\n",
       "      <td>2009</td>\n",
       "      <td>Reserves and related items (BoP, current US$)</td>\n",
       "      <td>BN.RES.INCL.CD</td>\n",
       "      <td>-1.051451e+10</td>\n",
       "    </tr>\n",
       "    <tr>\n",
       "      <td>4941</td>\n",
       "      <td>Nigeria</td>\n",
       "      <td>NGA</td>\n",
       "      <td>2009</td>\n",
       "      <td>Net secondary income (BoP, current US$)</td>\n",
       "      <td>BN.TRF.CURR.CD</td>\n",
       "      <td>1.936164e+10</td>\n",
       "    </tr>\n",
       "    <tr>\n",
       "      <td>4993</td>\n",
       "      <td>Nigeria</td>\n",
       "      <td>NGA</td>\n",
       "      <td>2009</td>\n",
       "      <td>Grants, excluding technical cooperation (BoP, ...</td>\n",
       "      <td>BX.GRT.EXTA.CD.WD</td>\n",
       "      <td>9.347400e+08</td>\n",
       "    </tr>\n",
       "  </tbody>\n",
       "</table>\n",
       "<p>114 rows × 6 columns</p>\n",
       "</div>"
      ],
      "text/plain": [
       "     country_name country code(iso)  year  \\\n",
       "54        Nigeria               NGA  2009   \n",
       "62        Nigeria               NGA  2009   \n",
       "77        Nigeria               NGA  2009   \n",
       "133       Nigeria               NGA  2009   \n",
       "189       Nigeria               NGA  2009   \n",
       "...           ...               ...   ...   \n",
       "4825      Nigeria               NGA  2009   \n",
       "4866      Nigeria               NGA  2009   \n",
       "4900      Nigeria               NGA  2009   \n",
       "4941      Nigeria               NGA  2009   \n",
       "4993      Nigeria               NGA  2009   \n",
       "\n",
       "                                         indicator_name     indicator_code  \\\n",
       "54    Fertilizer consumption (% of fertilizer produc...  AG.CON.FERT.PT.ZS   \n",
       "62    Fertilizer consumption (kilograms per hectare ...     AG.CON.FERT.ZS   \n",
       "77                           Agricultural land (sq. km)     AG.LND.AGRI.K2   \n",
       "133                  Agricultural land (% of land area)     AG.LND.AGRI.ZS   \n",
       "189                              Arable land (hectares)     AG.LND.ARBL.HA   \n",
       "...                                                 ...                ...   \n",
       "4825  Foreign direct investment, net (BoP, current US$)     BN.KLT.DINV.CD   \n",
       "4866       Portfolio investment, net (BoP, current US$)     BN.KLT.PTXL.CD   \n",
       "4900      Reserves and related items (BoP, current US$)     BN.RES.INCL.CD   \n",
       "4941            Net secondary income (BoP, current US$)     BN.TRF.CURR.CD   \n",
       "4993  Grants, excluding technical cooperation (BoP, ...  BX.GRT.EXTA.CD.WD   \n",
       "\n",
       "             value  \n",
       "54    2.135078e+02  \n",
       "62    5.261031e+00  \n",
       "77    6.900000e+05  \n",
       "133   7.576007e+01  \n",
       "189   3.200000e+07  \n",
       "...            ...  \n",
       "4825 -7.029619e+09  \n",
       "4866  3.452547e+08  \n",
       "4900 -1.051451e+10  \n",
       "4941  1.936164e+10  \n",
       "4993  9.347400e+08  \n",
       "\n",
       "[114 rows x 6 columns]"
      ]
     },
     "execution_count": 51,
     "metadata": {},
     "output_type": "execute_result"
    }
   ],
   "source": [
    "file[file.iloc[:,2] == 2009]"
   ]
  },
  {
   "cell_type": "markdown",
   "metadata": {},
   "source": [
    "### 2.2.2  Selecting data using loc"
   ]
  },
  {
   "cell_type": "markdown",
   "metadata": {},
   "source": [
    "Unlike the iloc indexer, loc is a label-based function meaning you would have to specify the label of the row or column you would like to select.\n",
    "\n",
    "Now let's assume you want to select specific rows from our dataframe were the years are between 2006 and 2009. Pandas has a between function that allows us to select values between two boundaries as the name suggests. Let's see an actual example of this:"
   ]
  },
  {
   "cell_type": "code",
   "execution_count": 52,
   "metadata": {},
   "outputs": [
    {
     "data": {
      "text/html": [
       "<div>\n",
       "<style scoped>\n",
       "    .dataframe tbody tr th:only-of-type {\n",
       "        vertical-align: middle;\n",
       "    }\n",
       "\n",
       "    .dataframe tbody tr th {\n",
       "        vertical-align: top;\n",
       "    }\n",
       "\n",
       "    .dataframe thead th {\n",
       "        text-align: right;\n",
       "    }\n",
       "</style>\n",
       "<table border=\"1\" class=\"dataframe\">\n",
       "  <thead>\n",
       "    <tr style=\"text-align: right;\">\n",
       "      <th></th>\n",
       "      <th>country_name</th>\n",
       "      <th>country code(iso)</th>\n",
       "      <th>year</th>\n",
       "      <th>indicator_name</th>\n",
       "      <th>indicator_code</th>\n",
       "      <th>value</th>\n",
       "    </tr>\n",
       "  </thead>\n",
       "  <tbody>\n",
       "    <tr>\n",
       "      <td>0</td>\n",
       "      <td>Nigeria</td>\n",
       "      <td>NGA</td>\n",
       "      <td>2007</td>\n",
       "      <td>Agricultural machinery, tractors</td>\n",
       "      <td>AG.AGR.TRAC.NO</td>\n",
       "      <td>2.480000e+04</td>\n",
       "    </tr>\n",
       "    <tr>\n",
       "      <td>1</td>\n",
       "      <td>Nigeria</td>\n",
       "      <td>NGA</td>\n",
       "      <td>2006</td>\n",
       "      <td>Agricultural machinery, tractors</td>\n",
       "      <td>AG.AGR.TRAC.NO</td>\n",
       "      <td>2.399900e+04</td>\n",
       "    </tr>\n",
       "    <tr>\n",
       "      <td>54</td>\n",
       "      <td>Nigeria</td>\n",
       "      <td>NGA</td>\n",
       "      <td>2009</td>\n",
       "      <td>Fertilizer consumption (% of fertilizer produc...</td>\n",
       "      <td>AG.CON.FERT.PT.ZS</td>\n",
       "      <td>2.135078e+02</td>\n",
       "    </tr>\n",
       "    <tr>\n",
       "      <td>62</td>\n",
       "      <td>Nigeria</td>\n",
       "      <td>NGA</td>\n",
       "      <td>2009</td>\n",
       "      <td>Fertilizer consumption (kilograms per hectare ...</td>\n",
       "      <td>AG.CON.FERT.ZS</td>\n",
       "      <td>5.261031e+00</td>\n",
       "    </tr>\n",
       "    <tr>\n",
       "      <td>63</td>\n",
       "      <td>Nigeria</td>\n",
       "      <td>NGA</td>\n",
       "      <td>2008</td>\n",
       "      <td>Fertilizer consumption (kilograms per hectare ...</td>\n",
       "      <td>AG.CON.FERT.ZS</td>\n",
       "      <td>5.876833e+00</td>\n",
       "    </tr>\n",
       "    <tr>\n",
       "      <td>...</td>\n",
       "      <td>...</td>\n",
       "      <td>...</td>\n",
       "      <td>...</td>\n",
       "      <td>...</td>\n",
       "      <td>...</td>\n",
       "      <td>...</td>\n",
       "    </tr>\n",
       "    <tr>\n",
       "      <td>4974</td>\n",
       "      <td>Nigeria</td>\n",
       "      <td>NGA</td>\n",
       "      <td>2006</td>\n",
       "      <td>Net capital account (BoP, current US$)</td>\n",
       "      <td>BN.TRF.KOGT.CD</td>\n",
       "      <td>1.055551e+10</td>\n",
       "    </tr>\n",
       "    <tr>\n",
       "      <td>4993</td>\n",
       "      <td>Nigeria</td>\n",
       "      <td>NGA</td>\n",
       "      <td>2009</td>\n",
       "      <td>Grants, excluding technical cooperation (BoP, ...</td>\n",
       "      <td>BX.GRT.EXTA.CD.WD</td>\n",
       "      <td>9.347400e+08</td>\n",
       "    </tr>\n",
       "    <tr>\n",
       "      <td>4994</td>\n",
       "      <td>Nigeria</td>\n",
       "      <td>NGA</td>\n",
       "      <td>2008</td>\n",
       "      <td>Grants, excluding technical cooperation (BoP, ...</td>\n",
       "      <td>BX.GRT.EXTA.CD.WD</td>\n",
       "      <td>8.322900e+08</td>\n",
       "    </tr>\n",
       "    <tr>\n",
       "      <td>4995</td>\n",
       "      <td>Nigeria</td>\n",
       "      <td>NGA</td>\n",
       "      <td>2007</td>\n",
       "      <td>Grants, excluding technical cooperation (BoP, ...</td>\n",
       "      <td>BX.GRT.EXTA.CD.WD</td>\n",
       "      <td>1.304920e+09</td>\n",
       "    </tr>\n",
       "    <tr>\n",
       "      <td>4996</td>\n",
       "      <td>Nigeria</td>\n",
       "      <td>NGA</td>\n",
       "      <td>2006</td>\n",
       "      <td>Grants, excluding technical cooperation (BoP, ...</td>\n",
       "      <td>BX.GRT.EXTA.CD.WD</td>\n",
       "      <td>1.138818e+10</td>\n",
       "    </tr>\n",
       "  </tbody>\n",
       "</table>\n",
       "<p>464 rows × 6 columns</p>\n",
       "</div>"
      ],
      "text/plain": [
       "     country_name country code(iso)  year  \\\n",
       "0         Nigeria               NGA  2007   \n",
       "1         Nigeria               NGA  2006   \n",
       "54        Nigeria               NGA  2009   \n",
       "62        Nigeria               NGA  2009   \n",
       "63        Nigeria               NGA  2008   \n",
       "...           ...               ...   ...   \n",
       "4974      Nigeria               NGA  2006   \n",
       "4993      Nigeria               NGA  2009   \n",
       "4994      Nigeria               NGA  2008   \n",
       "4995      Nigeria               NGA  2007   \n",
       "4996      Nigeria               NGA  2006   \n",
       "\n",
       "                                         indicator_name     indicator_code  \\\n",
       "0                      Agricultural machinery, tractors     AG.AGR.TRAC.NO   \n",
       "1                      Agricultural machinery, tractors     AG.AGR.TRAC.NO   \n",
       "54    Fertilizer consumption (% of fertilizer produc...  AG.CON.FERT.PT.ZS   \n",
       "62    Fertilizer consumption (kilograms per hectare ...     AG.CON.FERT.ZS   \n",
       "63    Fertilizer consumption (kilograms per hectare ...     AG.CON.FERT.ZS   \n",
       "...                                                 ...                ...   \n",
       "4974             Net capital account (BoP, current US$)     BN.TRF.KOGT.CD   \n",
       "4993  Grants, excluding technical cooperation (BoP, ...  BX.GRT.EXTA.CD.WD   \n",
       "4994  Grants, excluding technical cooperation (BoP, ...  BX.GRT.EXTA.CD.WD   \n",
       "4995  Grants, excluding technical cooperation (BoP, ...  BX.GRT.EXTA.CD.WD   \n",
       "4996  Grants, excluding technical cooperation (BoP, ...  BX.GRT.EXTA.CD.WD   \n",
       "\n",
       "             value  \n",
       "0     2.480000e+04  \n",
       "1     2.399900e+04  \n",
       "54    2.135078e+02  \n",
       "62    5.261031e+00  \n",
       "63    5.876833e+00  \n",
       "...            ...  \n",
       "4974  1.055551e+10  \n",
       "4993  9.347400e+08  \n",
       "4994  8.322900e+08  \n",
       "4995  1.304920e+09  \n",
       "4996  1.138818e+10  \n",
       "\n",
       "[464 rows x 6 columns]"
      ]
     },
     "execution_count": 52,
     "metadata": {},
     "output_type": "execute_result"
    }
   ],
   "source": [
    "file.loc[file['year'].between(2006,2009)]"
   ]
  },
  {
   "cell_type": "markdown",
   "metadata": {},
   "source": [
    "You can also use loc to change the values in a given column and you could create a new column and conditionally assign values to said column.\n",
    "\n",
    "Let's assume we want to create a column we will name *'timeline'*. We want all the data from 2009 to have the value *'latest'* and under the timeline column we create. Let's walk through how we would do this."
   ]
  },
  {
   "cell_type": "code",
   "execution_count": 53,
   "metadata": {},
   "outputs": [
    {
     "data": {
      "text/html": [
       "<div>\n",
       "<style scoped>\n",
       "    .dataframe tbody tr th:only-of-type {\n",
       "        vertical-align: middle;\n",
       "    }\n",
       "\n",
       "    .dataframe tbody tr th {\n",
       "        vertical-align: top;\n",
       "    }\n",
       "\n",
       "    .dataframe thead th {\n",
       "        text-align: right;\n",
       "    }\n",
       "</style>\n",
       "<table border=\"1\" class=\"dataframe\">\n",
       "  <thead>\n",
       "    <tr style=\"text-align: right;\">\n",
       "      <th></th>\n",
       "      <th>country_name</th>\n",
       "      <th>country code(iso)</th>\n",
       "      <th>year</th>\n",
       "      <th>indicator_name</th>\n",
       "      <th>indicator_code</th>\n",
       "      <th>value</th>\n",
       "      <th>timeline</th>\n",
       "    </tr>\n",
       "  </thead>\n",
       "  <tbody>\n",
       "    <tr>\n",
       "      <td>54</td>\n",
       "      <td>Nigeria</td>\n",
       "      <td>NGA</td>\n",
       "      <td>2009</td>\n",
       "      <td>Fertilizer consumption (% of fertilizer produc...</td>\n",
       "      <td>AG.CON.FERT.PT.ZS</td>\n",
       "      <td>2.135078e+02</td>\n",
       "      <td>latest</td>\n",
       "    </tr>\n",
       "    <tr>\n",
       "      <td>62</td>\n",
       "      <td>Nigeria</td>\n",
       "      <td>NGA</td>\n",
       "      <td>2009</td>\n",
       "      <td>Fertilizer consumption (kilograms per hectare ...</td>\n",
       "      <td>AG.CON.FERT.ZS</td>\n",
       "      <td>5.261031e+00</td>\n",
       "      <td>latest</td>\n",
       "    </tr>\n",
       "    <tr>\n",
       "      <td>77</td>\n",
       "      <td>Nigeria</td>\n",
       "      <td>NGA</td>\n",
       "      <td>2009</td>\n",
       "      <td>Agricultural land (sq. km)</td>\n",
       "      <td>AG.LND.AGRI.K2</td>\n",
       "      <td>6.900000e+05</td>\n",
       "      <td>latest</td>\n",
       "    </tr>\n",
       "    <tr>\n",
       "      <td>133</td>\n",
       "      <td>Nigeria</td>\n",
       "      <td>NGA</td>\n",
       "      <td>2009</td>\n",
       "      <td>Agricultural land (% of land area)</td>\n",
       "      <td>AG.LND.AGRI.ZS</td>\n",
       "      <td>7.576007e+01</td>\n",
       "      <td>latest</td>\n",
       "    </tr>\n",
       "    <tr>\n",
       "      <td>189</td>\n",
       "      <td>Nigeria</td>\n",
       "      <td>NGA</td>\n",
       "      <td>2009</td>\n",
       "      <td>Arable land (hectares)</td>\n",
       "      <td>AG.LND.ARBL.HA</td>\n",
       "      <td>3.200000e+07</td>\n",
       "      <td>latest</td>\n",
       "    </tr>\n",
       "    <tr>\n",
       "      <td>...</td>\n",
       "      <td>...</td>\n",
       "      <td>...</td>\n",
       "      <td>...</td>\n",
       "      <td>...</td>\n",
       "      <td>...</td>\n",
       "      <td>...</td>\n",
       "      <td>...</td>\n",
       "    </tr>\n",
       "    <tr>\n",
       "      <td>4825</td>\n",
       "      <td>Nigeria</td>\n",
       "      <td>NGA</td>\n",
       "      <td>2009</td>\n",
       "      <td>Foreign direct investment, net (BoP, current US$)</td>\n",
       "      <td>BN.KLT.DINV.CD</td>\n",
       "      <td>-7.029619e+09</td>\n",
       "      <td>latest</td>\n",
       "    </tr>\n",
       "    <tr>\n",
       "      <td>4866</td>\n",
       "      <td>Nigeria</td>\n",
       "      <td>NGA</td>\n",
       "      <td>2009</td>\n",
       "      <td>Portfolio investment, net (BoP, current US$)</td>\n",
       "      <td>BN.KLT.PTXL.CD</td>\n",
       "      <td>3.452547e+08</td>\n",
       "      <td>latest</td>\n",
       "    </tr>\n",
       "    <tr>\n",
       "      <td>4900</td>\n",
       "      <td>Nigeria</td>\n",
       "      <td>NGA</td>\n",
       "      <td>2009</td>\n",
       "      <td>Reserves and related items (BoP, current US$)</td>\n",
       "      <td>BN.RES.INCL.CD</td>\n",
       "      <td>-1.051451e+10</td>\n",
       "      <td>latest</td>\n",
       "    </tr>\n",
       "    <tr>\n",
       "      <td>4941</td>\n",
       "      <td>Nigeria</td>\n",
       "      <td>NGA</td>\n",
       "      <td>2009</td>\n",
       "      <td>Net secondary income (BoP, current US$)</td>\n",
       "      <td>BN.TRF.CURR.CD</td>\n",
       "      <td>1.936164e+10</td>\n",
       "      <td>latest</td>\n",
       "    </tr>\n",
       "    <tr>\n",
       "      <td>4993</td>\n",
       "      <td>Nigeria</td>\n",
       "      <td>NGA</td>\n",
       "      <td>2009</td>\n",
       "      <td>Grants, excluding technical cooperation (BoP, ...</td>\n",
       "      <td>BX.GRT.EXTA.CD.WD</td>\n",
       "      <td>9.347400e+08</td>\n",
       "      <td>latest</td>\n",
       "    </tr>\n",
       "  </tbody>\n",
       "</table>\n",
       "<p>114 rows × 7 columns</p>\n",
       "</div>"
      ],
      "text/plain": [
       "     country_name country code(iso)  year  \\\n",
       "54        Nigeria               NGA  2009   \n",
       "62        Nigeria               NGA  2009   \n",
       "77        Nigeria               NGA  2009   \n",
       "133       Nigeria               NGA  2009   \n",
       "189       Nigeria               NGA  2009   \n",
       "...           ...               ...   ...   \n",
       "4825      Nigeria               NGA  2009   \n",
       "4866      Nigeria               NGA  2009   \n",
       "4900      Nigeria               NGA  2009   \n",
       "4941      Nigeria               NGA  2009   \n",
       "4993      Nigeria               NGA  2009   \n",
       "\n",
       "                                         indicator_name     indicator_code  \\\n",
       "54    Fertilizer consumption (% of fertilizer produc...  AG.CON.FERT.PT.ZS   \n",
       "62    Fertilizer consumption (kilograms per hectare ...     AG.CON.FERT.ZS   \n",
       "77                           Agricultural land (sq. km)     AG.LND.AGRI.K2   \n",
       "133                  Agricultural land (% of land area)     AG.LND.AGRI.ZS   \n",
       "189                              Arable land (hectares)     AG.LND.ARBL.HA   \n",
       "...                                                 ...                ...   \n",
       "4825  Foreign direct investment, net (BoP, current US$)     BN.KLT.DINV.CD   \n",
       "4866       Portfolio investment, net (BoP, current US$)     BN.KLT.PTXL.CD   \n",
       "4900      Reserves and related items (BoP, current US$)     BN.RES.INCL.CD   \n",
       "4941            Net secondary income (BoP, current US$)     BN.TRF.CURR.CD   \n",
       "4993  Grants, excluding technical cooperation (BoP, ...  BX.GRT.EXTA.CD.WD   \n",
       "\n",
       "             value timeline  \n",
       "54    2.135078e+02   latest  \n",
       "62    5.261031e+00   latest  \n",
       "77    6.900000e+05   latest  \n",
       "133   7.576007e+01   latest  \n",
       "189   3.200000e+07   latest  \n",
       "...            ...      ...  \n",
       "4825 -7.029619e+09   latest  \n",
       "4866  3.452547e+08   latest  \n",
       "4900 -1.051451e+10   latest  \n",
       "4941  1.936164e+10   latest  \n",
       "4993  9.347400e+08   latest  \n",
       "\n",
       "[114 rows x 7 columns]"
      ]
     },
     "execution_count": 53,
     "metadata": {},
     "output_type": "execute_result"
    }
   ],
   "source": [
    "file.loc[file['year'] == 2009, 'timeline'] = 'latest'\n",
    "file[file['year'] == 2009]"
   ]
  },
  {
   "cell_type": "markdown",
   "metadata": {},
   "source": [
    "Let's backtrack and walk through what we just did:\n",
    "\n",
    "We started off filtering for data were the year is equals to 2009. We then added a comma allowing us to create a new column named 'timeline'. We then proceeded to close the square brackets we use to select a column and assigned the value latest to the new column we had just created.\n",
    "\n",
    "Here are a few sources you could use to enrich your knowledge on selecting data:\n",
    "* i.) Selecting Subsets of Data in Pandas Part 1 - https://medium.com/dunder-data/selecting-subsets-of-data-in-pandas-6fcd0170be9c\n",
    "* ii.) Selecting pandas dataframe rows based on conditions - https://chrisalbon.com/python/data_wrangling/pandas_selecting_rows_on_conditions/\n",
    "* iii.) How to select rows from a dataframe based on column values, StackOverFlow - https://stackoverflow.com/questions/17071871/how-to-select-rows-from-a-dataframe-based-on-column-values"
   ]
  },
  {
   "cell_type": "markdown",
   "metadata": {},
   "source": [
    "## 2.3 Manipulating data"
   ]
  },
  {
   "cell_type": "markdown",
   "metadata": {},
   "source": [
    "Now that you have a good understanding of how to select, filter and subset columns and rows in a pandas dataframe, let us look at ways we can manipulate data in a pandas dataframe. Now let's create a new column with random floats.\n",
    "\n",
    "We can carry this out using the numpy package. Numpy a feature *'numpy.random.rand'* that will generate a random float between 0 and 1. Inside np.random.rand we can enter the dimensions of the array we want returned. Since we are looking to create 5000 rows of random integers for 1 column we will add the dimensions 5000,1 to the function\n",
    "\n",
    "Numpy.random.rand documentation: https://docs.scipy.org/doc/numpy-1.14.0/reference/generated/numpy.random.rand.html\n"
   ]
  },
  {
   "cell_type": "code",
   "execution_count": 54,
   "metadata": {},
   "outputs": [
    {
     "data": {
      "text/html": [
       "<div>\n",
       "<style scoped>\n",
       "    .dataframe tbody tr th:only-of-type {\n",
       "        vertical-align: middle;\n",
       "    }\n",
       "\n",
       "    .dataframe tbody tr th {\n",
       "        vertical-align: top;\n",
       "    }\n",
       "\n",
       "    .dataframe thead th {\n",
       "        text-align: right;\n",
       "    }\n",
       "</style>\n",
       "<table border=\"1\" class=\"dataframe\">\n",
       "  <thead>\n",
       "    <tr style=\"text-align: right;\">\n",
       "      <th></th>\n",
       "      <th>country_name</th>\n",
       "      <th>country code(iso)</th>\n",
       "      <th>year</th>\n",
       "      <th>indicator_name</th>\n",
       "      <th>indicator_code</th>\n",
       "      <th>value</th>\n",
       "      <th>timeline</th>\n",
       "      <th>randoms</th>\n",
       "    </tr>\n",
       "  </thead>\n",
       "  <tbody>\n",
       "    <tr>\n",
       "      <td>0</td>\n",
       "      <td>Nigeria</td>\n",
       "      <td>NGA</td>\n",
       "      <td>2007</td>\n",
       "      <td>Agricultural machinery, tractors</td>\n",
       "      <td>AG.AGR.TRAC.NO</td>\n",
       "      <td>24800.0</td>\n",
       "      <td>NaN</td>\n",
       "      <td>0.370511</td>\n",
       "    </tr>\n",
       "    <tr>\n",
       "      <td>1</td>\n",
       "      <td>Nigeria</td>\n",
       "      <td>NGA</td>\n",
       "      <td>2006</td>\n",
       "      <td>Agricultural machinery, tractors</td>\n",
       "      <td>AG.AGR.TRAC.NO</td>\n",
       "      <td>23999.0</td>\n",
       "      <td>NaN</td>\n",
       "      <td>0.673565</td>\n",
       "    </tr>\n",
       "    <tr>\n",
       "      <td>2</td>\n",
       "      <td>Nigeria</td>\n",
       "      <td>NGA</td>\n",
       "      <td>2005</td>\n",
       "      <td>Agricultural machinery, tractors</td>\n",
       "      <td>AG.AGR.TRAC.NO</td>\n",
       "      <td>23000.0</td>\n",
       "      <td>NaN</td>\n",
       "      <td>0.447208</td>\n",
       "    </tr>\n",
       "    <tr>\n",
       "      <td>3</td>\n",
       "      <td>Nigeria</td>\n",
       "      <td>NGA</td>\n",
       "      <td>2004</td>\n",
       "      <td>Agricultural machinery, tractors</td>\n",
       "      <td>AG.AGR.TRAC.NO</td>\n",
       "      <td>23000.0</td>\n",
       "      <td>NaN</td>\n",
       "      <td>0.842611</td>\n",
       "    </tr>\n",
       "    <tr>\n",
       "      <td>4</td>\n",
       "      <td>Nigeria</td>\n",
       "      <td>NGA</td>\n",
       "      <td>2003</td>\n",
       "      <td>Agricultural machinery, tractors</td>\n",
       "      <td>AG.AGR.TRAC.NO</td>\n",
       "      <td>22000.0</td>\n",
       "      <td>NaN</td>\n",
       "      <td>0.215552</td>\n",
       "    </tr>\n",
       "    <tr>\n",
       "      <td>5</td>\n",
       "      <td>Nigeria</td>\n",
       "      <td>NGA</td>\n",
       "      <td>2002</td>\n",
       "      <td>Agricultural machinery, tractors</td>\n",
       "      <td>AG.AGR.TRAC.NO</td>\n",
       "      <td>21000.0</td>\n",
       "      <td>NaN</td>\n",
       "      <td>0.755003</td>\n",
       "    </tr>\n",
       "    <tr>\n",
       "      <td>6</td>\n",
       "      <td>Nigeria</td>\n",
       "      <td>NGA</td>\n",
       "      <td>2001</td>\n",
       "      <td>Agricultural machinery, tractors</td>\n",
       "      <td>AG.AGR.TRAC.NO</td>\n",
       "      <td>20006.0</td>\n",
       "      <td>NaN</td>\n",
       "      <td>0.418880</td>\n",
       "    </tr>\n",
       "    <tr>\n",
       "      <td>7</td>\n",
       "      <td>Nigeria</td>\n",
       "      <td>NGA</td>\n",
       "      <td>2000</td>\n",
       "      <td>Agricultural machinery, tractors</td>\n",
       "      <td>AG.AGR.TRAC.NO</td>\n",
       "      <td>19400.0</td>\n",
       "      <td>NaN</td>\n",
       "      <td>0.750167</td>\n",
       "    </tr>\n",
       "    <tr>\n",
       "      <td>8</td>\n",
       "      <td>Nigeria</td>\n",
       "      <td>NGA</td>\n",
       "      <td>1999</td>\n",
       "      <td>Agricultural machinery, tractors</td>\n",
       "      <td>AG.AGR.TRAC.NO</td>\n",
       "      <td>18850.0</td>\n",
       "      <td>NaN</td>\n",
       "      <td>0.541283</td>\n",
       "    </tr>\n",
       "    <tr>\n",
       "      <td>9</td>\n",
       "      <td>Nigeria</td>\n",
       "      <td>NGA</td>\n",
       "      <td>1998</td>\n",
       "      <td>Agricultural machinery, tractors</td>\n",
       "      <td>AG.AGR.TRAC.NO</td>\n",
       "      <td>18300.0</td>\n",
       "      <td>NaN</td>\n",
       "      <td>0.964422</td>\n",
       "    </tr>\n",
       "  </tbody>\n",
       "</table>\n",
       "</div>"
      ],
      "text/plain": [
       "  country_name country code(iso)  year                    indicator_name  \\\n",
       "0      Nigeria               NGA  2007  Agricultural machinery, tractors   \n",
       "1      Nigeria               NGA  2006  Agricultural machinery, tractors   \n",
       "2      Nigeria               NGA  2005  Agricultural machinery, tractors   \n",
       "3      Nigeria               NGA  2004  Agricultural machinery, tractors   \n",
       "4      Nigeria               NGA  2003  Agricultural machinery, tractors   \n",
       "5      Nigeria               NGA  2002  Agricultural machinery, tractors   \n",
       "6      Nigeria               NGA  2001  Agricultural machinery, tractors   \n",
       "7      Nigeria               NGA  2000  Agricultural machinery, tractors   \n",
       "8      Nigeria               NGA  1999  Agricultural machinery, tractors   \n",
       "9      Nigeria               NGA  1998  Agricultural machinery, tractors   \n",
       "\n",
       "   indicator_code    value timeline   randoms  \n",
       "0  AG.AGR.TRAC.NO  24800.0      NaN  0.370511  \n",
       "1  AG.AGR.TRAC.NO  23999.0      NaN  0.673565  \n",
       "2  AG.AGR.TRAC.NO  23000.0      NaN  0.447208  \n",
       "3  AG.AGR.TRAC.NO  23000.0      NaN  0.842611  \n",
       "4  AG.AGR.TRAC.NO  22000.0      NaN  0.215552  \n",
       "5  AG.AGR.TRAC.NO  21000.0      NaN  0.755003  \n",
       "6  AG.AGR.TRAC.NO  20006.0      NaN  0.418880  \n",
       "7  AG.AGR.TRAC.NO  19400.0      NaN  0.750167  \n",
       "8  AG.AGR.TRAC.NO  18850.0      NaN  0.541283  \n",
       "9  AG.AGR.TRAC.NO  18300.0      NaN  0.964422  "
      ]
     },
     "execution_count": 54,
     "metadata": {},
     "output_type": "execute_result"
    }
   ],
   "source": [
    "import numpy as np\n",
    "file['randoms'] = np.random.rand(5000,1)\n",
    "file.head(10)"
   ]
  },
  {
   "cell_type": "markdown",
   "metadata": {},
   "source": [
    "Now let us check the data type of values in all the columns in our dataframe using .dtypes. This will return the data types of all the columns in our dataframe\n",
    "\n",
    "Dtypes documentation: https://pandas.pydata.org/pandas-docs/stable/reference/api/pandas.DataFrame.dtypes.html"
   ]
  },
  {
   "cell_type": "code",
   "execution_count": 55,
   "metadata": {},
   "outputs": [
    {
     "data": {
      "text/plain": [
       "country_name          object\n",
       "country code(iso)     object\n",
       "year                   int64\n",
       "indicator_name        object\n",
       "indicator_code        object\n",
       "value                float64\n",
       "timeline              object\n",
       "randoms              float64\n",
       "dtype: object"
      ]
     },
     "execution_count": 55,
     "metadata": {},
     "output_type": "execute_result"
    }
   ],
   "source": [
    "file.dtypes"
   ]
  },
  {
   "cell_type": "markdown",
   "metadata": {},
   "source": [
    "Now let's assume we want to convert all the random numbers we generated in the randoms column to integers. After converting the column values to integers we will assign this new column to the old randoms column to update it with the changes we have made.\n",
    "\n",
    "Pandas has as .astype() method that allows for easy conversion from one data type to another.\n",
    "\n",
    "Astype documentation: https://pandas.pydata.org/pandas-docs/stable/reference/api/pandas.DataFrame.astype.html"
   ]
  },
  {
   "cell_type": "code",
   "execution_count": 56,
   "metadata": {},
   "outputs": [
    {
     "data": {
      "text/html": [
       "<div>\n",
       "<style scoped>\n",
       "    .dataframe tbody tr th:only-of-type {\n",
       "        vertical-align: middle;\n",
       "    }\n",
       "\n",
       "    .dataframe tbody tr th {\n",
       "        vertical-align: top;\n",
       "    }\n",
       "\n",
       "    .dataframe thead th {\n",
       "        text-align: right;\n",
       "    }\n",
       "</style>\n",
       "<table border=\"1\" class=\"dataframe\">\n",
       "  <thead>\n",
       "    <tr style=\"text-align: right;\">\n",
       "      <th></th>\n",
       "      <th>country_name</th>\n",
       "      <th>country code(iso)</th>\n",
       "      <th>year</th>\n",
       "      <th>indicator_name</th>\n",
       "      <th>indicator_code</th>\n",
       "      <th>value</th>\n",
       "      <th>timeline</th>\n",
       "      <th>randoms</th>\n",
       "    </tr>\n",
       "  </thead>\n",
       "  <tbody>\n",
       "    <tr>\n",
       "      <td>0</td>\n",
       "      <td>Nigeria</td>\n",
       "      <td>NGA</td>\n",
       "      <td>2007</td>\n",
       "      <td>Agricultural machinery, tractors</td>\n",
       "      <td>AG.AGR.TRAC.NO</td>\n",
       "      <td>24800.0</td>\n",
       "      <td>NaN</td>\n",
       "      <td>0</td>\n",
       "    </tr>\n",
       "    <tr>\n",
       "      <td>1</td>\n",
       "      <td>Nigeria</td>\n",
       "      <td>NGA</td>\n",
       "      <td>2006</td>\n",
       "      <td>Agricultural machinery, tractors</td>\n",
       "      <td>AG.AGR.TRAC.NO</td>\n",
       "      <td>23999.0</td>\n",
       "      <td>NaN</td>\n",
       "      <td>0</td>\n",
       "    </tr>\n",
       "    <tr>\n",
       "      <td>2</td>\n",
       "      <td>Nigeria</td>\n",
       "      <td>NGA</td>\n",
       "      <td>2005</td>\n",
       "      <td>Agricultural machinery, tractors</td>\n",
       "      <td>AG.AGR.TRAC.NO</td>\n",
       "      <td>23000.0</td>\n",
       "      <td>NaN</td>\n",
       "      <td>0</td>\n",
       "    </tr>\n",
       "    <tr>\n",
       "      <td>3</td>\n",
       "      <td>Nigeria</td>\n",
       "      <td>NGA</td>\n",
       "      <td>2004</td>\n",
       "      <td>Agricultural machinery, tractors</td>\n",
       "      <td>AG.AGR.TRAC.NO</td>\n",
       "      <td>23000.0</td>\n",
       "      <td>NaN</td>\n",
       "      <td>0</td>\n",
       "    </tr>\n",
       "    <tr>\n",
       "      <td>4</td>\n",
       "      <td>Nigeria</td>\n",
       "      <td>NGA</td>\n",
       "      <td>2003</td>\n",
       "      <td>Agricultural machinery, tractors</td>\n",
       "      <td>AG.AGR.TRAC.NO</td>\n",
       "      <td>22000.0</td>\n",
       "      <td>NaN</td>\n",
       "      <td>0</td>\n",
       "    </tr>\n",
       "  </tbody>\n",
       "</table>\n",
       "</div>"
      ],
      "text/plain": [
       "  country_name country code(iso)  year                    indicator_name  \\\n",
       "0      Nigeria               NGA  2007  Agricultural machinery, tractors   \n",
       "1      Nigeria               NGA  2006  Agricultural machinery, tractors   \n",
       "2      Nigeria               NGA  2005  Agricultural machinery, tractors   \n",
       "3      Nigeria               NGA  2004  Agricultural machinery, tractors   \n",
       "4      Nigeria               NGA  2003  Agricultural machinery, tractors   \n",
       "\n",
       "   indicator_code    value timeline  randoms  \n",
       "0  AG.AGR.TRAC.NO  24800.0      NaN        0  \n",
       "1  AG.AGR.TRAC.NO  23999.0      NaN        0  \n",
       "2  AG.AGR.TRAC.NO  23000.0      NaN        0  \n",
       "3  AG.AGR.TRAC.NO  23000.0      NaN        0  \n",
       "4  AG.AGR.TRAC.NO  22000.0      NaN        0  "
      ]
     },
     "execution_count": 56,
     "metadata": {},
     "output_type": "execute_result"
    }
   ],
   "source": [
    "file['randoms'] = file['randoms'].astype('int')\n",
    "file.head()"
   ]
  },
  {
   "cell_type": "markdown",
   "metadata": {},
   "source": [
    "If you remember from past Chapters converting a float to an integer truncates the float by selecting only the digits to the left of the decimal point. Since all the floats in the randoms column have 0 as the whole number all the values will be truncated to 0.\n",
    "\n",
    "Let's assume we want to carry out some basic arithmetic operations on the randoms column. Lucky for us pandas allows for the application of arithmetic operations on both series and dataframes."
   ]
  },
  {
   "cell_type": "code",
   "execution_count": 67,
   "metadata": {},
   "outputs": [
    {
     "data": {
      "text/html": [
       "<div>\n",
       "<style scoped>\n",
       "    .dataframe tbody tr th:only-of-type {\n",
       "        vertical-align: middle;\n",
       "    }\n",
       "\n",
       "    .dataframe tbody tr th {\n",
       "        vertical-align: top;\n",
       "    }\n",
       "\n",
       "    .dataframe thead th {\n",
       "        text-align: right;\n",
       "    }\n",
       "</style>\n",
       "<table border=\"1\" class=\"dataframe\">\n",
       "  <thead>\n",
       "    <tr style=\"text-align: right;\">\n",
       "      <th></th>\n",
       "      <th>country_name</th>\n",
       "      <th>country code(iso)</th>\n",
       "      <th>year</th>\n",
       "      <th>indicator_name</th>\n",
       "      <th>indicator_code</th>\n",
       "      <th>value</th>\n",
       "      <th>timeline</th>\n",
       "      <th>randoms</th>\n",
       "      <th>random</th>\n",
       "    </tr>\n",
       "  </thead>\n",
       "  <tbody>\n",
       "    <tr>\n",
       "      <td>0</td>\n",
       "      <td>Nigeria</td>\n",
       "      <td>NGA</td>\n",
       "      <td>2007</td>\n",
       "      <td>Agricultural machinery, tractors</td>\n",
       "      <td>AG.AGR.TRAC.NO</td>\n",
       "      <td>24800.0</td>\n",
       "      <td>NaN</td>\n",
       "      <td>10</td>\n",
       "      <td>0</td>\n",
       "    </tr>\n",
       "    <tr>\n",
       "      <td>1</td>\n",
       "      <td>Nigeria</td>\n",
       "      <td>NGA</td>\n",
       "      <td>2006</td>\n",
       "      <td>Agricultural machinery, tractors</td>\n",
       "      <td>AG.AGR.TRAC.NO</td>\n",
       "      <td>23999.0</td>\n",
       "      <td>NaN</td>\n",
       "      <td>10</td>\n",
       "      <td>0</td>\n",
       "    </tr>\n",
       "    <tr>\n",
       "      <td>2</td>\n",
       "      <td>Nigeria</td>\n",
       "      <td>NGA</td>\n",
       "      <td>2005</td>\n",
       "      <td>Agricultural machinery, tractors</td>\n",
       "      <td>AG.AGR.TRAC.NO</td>\n",
       "      <td>23000.0</td>\n",
       "      <td>NaN</td>\n",
       "      <td>10</td>\n",
       "      <td>0</td>\n",
       "    </tr>\n",
       "    <tr>\n",
       "      <td>3</td>\n",
       "      <td>Nigeria</td>\n",
       "      <td>NGA</td>\n",
       "      <td>2004</td>\n",
       "      <td>Agricultural machinery, tractors</td>\n",
       "      <td>AG.AGR.TRAC.NO</td>\n",
       "      <td>23000.0</td>\n",
       "      <td>NaN</td>\n",
       "      <td>10</td>\n",
       "      <td>0</td>\n",
       "    </tr>\n",
       "    <tr>\n",
       "      <td>4</td>\n",
       "      <td>Nigeria</td>\n",
       "      <td>NGA</td>\n",
       "      <td>2003</td>\n",
       "      <td>Agricultural machinery, tractors</td>\n",
       "      <td>AG.AGR.TRAC.NO</td>\n",
       "      <td>22000.0</td>\n",
       "      <td>NaN</td>\n",
       "      <td>10</td>\n",
       "      <td>0</td>\n",
       "    </tr>\n",
       "  </tbody>\n",
       "</table>\n",
       "</div>"
      ],
      "text/plain": [
       "  country_name country code(iso)  year                    indicator_name  \\\n",
       "0      Nigeria               NGA  2007  Agricultural machinery, tractors   \n",
       "1      Nigeria               NGA  2006  Agricultural machinery, tractors   \n",
       "2      Nigeria               NGA  2005  Agricultural machinery, tractors   \n",
       "3      Nigeria               NGA  2004  Agricultural machinery, tractors   \n",
       "4      Nigeria               NGA  2003  Agricultural machinery, tractors   \n",
       "\n",
       "   indicator_code    value timeline  randoms  random  \n",
       "0  AG.AGR.TRAC.NO  24800.0      NaN       10       0  \n",
       "1  AG.AGR.TRAC.NO  23999.0      NaN       10       0  \n",
       "2  AG.AGR.TRAC.NO  23000.0      NaN       10       0  \n",
       "3  AG.AGR.TRAC.NO  23000.0      NaN       10       0  \n",
       "4  AG.AGR.TRAC.NO  22000.0      NaN       10       0  "
      ]
     },
     "execution_count": 67,
     "metadata": {},
     "output_type": "execute_result"
    }
   ],
   "source": [
    "file['random'] = file['randoms']+10\n",
    "file.head()"
   ]
  },
  {
   "cell_type": "markdown",
   "metadata": {},
   "source": [
    "Oops! It looks like we mistakenly create a new column and named it *'random'* instead of saving the updated randoms column to the old randoms column. Not a problem, we just need to delete the new column we have created and update the correct column.\n",
    "\n",
    "In order to delete a column we need to use the drop() method on our dataframe and specify the column we would like to drop"
   ]
  },
  {
   "cell_type": "code",
   "execution_count": 76,
   "metadata": {},
   "outputs": [
    {
     "data": {
      "text/html": [
       "<div>\n",
       "<style scoped>\n",
       "    .dataframe tbody tr th:only-of-type {\n",
       "        vertical-align: middle;\n",
       "    }\n",
       "\n",
       "    .dataframe tbody tr th {\n",
       "        vertical-align: top;\n",
       "    }\n",
       "\n",
       "    .dataframe thead th {\n",
       "        text-align: right;\n",
       "    }\n",
       "</style>\n",
       "<table border=\"1\" class=\"dataframe\">\n",
       "  <thead>\n",
       "    <tr style=\"text-align: right;\">\n",
       "      <th></th>\n",
       "      <th>country_name</th>\n",
       "      <th>country code(iso)</th>\n",
       "      <th>year</th>\n",
       "      <th>indicator_name</th>\n",
       "      <th>indicator_code</th>\n",
       "      <th>value</th>\n",
       "      <th>timeline</th>\n",
       "      <th>randoms</th>\n",
       "    </tr>\n",
       "  </thead>\n",
       "  <tbody>\n",
       "    <tr>\n",
       "      <td>0</td>\n",
       "      <td>Nigeria</td>\n",
       "      <td>NGA</td>\n",
       "      <td>2007</td>\n",
       "      <td>Agricultural machinery, tractors</td>\n",
       "      <td>AG.AGR.TRAC.NO</td>\n",
       "      <td>24800.0</td>\n",
       "      <td>NaN</td>\n",
       "      <td>10</td>\n",
       "    </tr>\n",
       "    <tr>\n",
       "      <td>1</td>\n",
       "      <td>Nigeria</td>\n",
       "      <td>NGA</td>\n",
       "      <td>2006</td>\n",
       "      <td>Agricultural machinery, tractors</td>\n",
       "      <td>AG.AGR.TRAC.NO</td>\n",
       "      <td>23999.0</td>\n",
       "      <td>NaN</td>\n",
       "      <td>10</td>\n",
       "    </tr>\n",
       "    <tr>\n",
       "      <td>2</td>\n",
       "      <td>Nigeria</td>\n",
       "      <td>NGA</td>\n",
       "      <td>2005</td>\n",
       "      <td>Agricultural machinery, tractors</td>\n",
       "      <td>AG.AGR.TRAC.NO</td>\n",
       "      <td>23000.0</td>\n",
       "      <td>NaN</td>\n",
       "      <td>10</td>\n",
       "    </tr>\n",
       "    <tr>\n",
       "      <td>3</td>\n",
       "      <td>Nigeria</td>\n",
       "      <td>NGA</td>\n",
       "      <td>2004</td>\n",
       "      <td>Agricultural machinery, tractors</td>\n",
       "      <td>AG.AGR.TRAC.NO</td>\n",
       "      <td>23000.0</td>\n",
       "      <td>NaN</td>\n",
       "      <td>10</td>\n",
       "    </tr>\n",
       "    <tr>\n",
       "      <td>4</td>\n",
       "      <td>Nigeria</td>\n",
       "      <td>NGA</td>\n",
       "      <td>2003</td>\n",
       "      <td>Agricultural machinery, tractors</td>\n",
       "      <td>AG.AGR.TRAC.NO</td>\n",
       "      <td>22000.0</td>\n",
       "      <td>NaN</td>\n",
       "      <td>10</td>\n",
       "    </tr>\n",
       "  </tbody>\n",
       "</table>\n",
       "</div>"
      ],
      "text/plain": [
       "  country_name country code(iso)  year                    indicator_name  \\\n",
       "0      Nigeria               NGA  2007  Agricultural machinery, tractors   \n",
       "1      Nigeria               NGA  2006  Agricultural machinery, tractors   \n",
       "2      Nigeria               NGA  2005  Agricultural machinery, tractors   \n",
       "3      Nigeria               NGA  2004  Agricultural machinery, tractors   \n",
       "4      Nigeria               NGA  2003  Agricultural machinery, tractors   \n",
       "\n",
       "   indicator_code    value timeline  randoms  \n",
       "0  AG.AGR.TRAC.NO  24800.0      NaN       10  \n",
       "1  AG.AGR.TRAC.NO  23999.0      NaN       10  \n",
       "2  AG.AGR.TRAC.NO  23000.0      NaN       10  \n",
       "3  AG.AGR.TRAC.NO  23000.0      NaN       10  \n",
       "4  AG.AGR.TRAC.NO  22000.0      NaN       10  "
      ]
     },
     "execution_count": 76,
     "metadata": {},
     "output_type": "execute_result"
    }
   ],
   "source": [
    "file = file.drop(['random'],axis=1)\n",
    "file['randoms'] = file['randoms']+10\n",
    "file.head()"
   ]
  },
  {
   "cell_type": "markdown",
   "metadata": {},
   "source": [
    "You may ask why we had to add the argument axis=1 to our drop statement Well *'axis=1'* is us telling python to drop the labels from the columns. 1 represents columns while zero represents rows\n",
    "\n",
    "Drop() documentation: https://pandas.pydata.org/pandas-docs/stable/reference/api/pandas.DataFrame.drop.html\n"
   ]
  },
  {
   "cell_type": "markdown",
   "metadata": {},
   "source": [
    "### 2.3.1 The groupby function"
   ]
  },
  {
   "cell_type": "code",
   "execution_count": null,
   "metadata": {},
   "outputs": [],
   "source": [
    "Here are more sources to learn about pandas:"
   ]
  },
  {
   "cell_type": "code",
   "execution_count": 75,
   "metadata": {},
   "outputs": [],
   "source": [
    "## 2.4 Primer to data cleaning using pandas"
   ]
  },
  {
   "cell_type": "code",
   "execution_count": null,
   "metadata": {},
   "outputs": [],
   "source": []
  }
 ],
 "metadata": {
  "kernelspec": {
   "display_name": "Python 3",
   "language": "python",
   "name": "python3"
  },
  "language_info": {
   "codemirror_mode": {
    "name": "ipython",
    "version": 3
   },
   "file_extension": ".py",
   "mimetype": "text/x-python",
   "name": "python",
   "nbconvert_exporter": "python",
   "pygments_lexer": "ipython3",
   "version": "3.7.4"
  }
 },
 "nbformat": 4,
 "nbformat_minor": 2
}
